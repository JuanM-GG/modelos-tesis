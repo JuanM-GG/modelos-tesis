{
  "nbformat": 4,
  "nbformat_minor": 0,
  "metadata": {
    "colab": {
      "name": "Untitled7.ipynb",
      "provenance": [],
      "authorship_tag": "ABX9TyPFSM9bbHR5Lz0M1egti5j6",
      "include_colab_link": true
    },
    "kernelspec": {
      "name": "ir",
      "display_name": "R"
    }
  },
  "cells": [
    {
      "cell_type": "markdown",
      "metadata": {
        "id": "view-in-github",
        "colab_type": "text"
      },
      "source": [
        "<a href=\"https://colab.research.google.com/github/JuanM-GG/modelos-tesis/blob/main/optimizacion_flujo_alimentacion.ipynb\" target=\"_parent\"><img src=\"https://colab.research.google.com/assets/colab-badge.svg\" alt=\"Open In Colab\"/></a>"
      ]
    },
    {
      "cell_type": "markdown",
      "metadata": {
        "id": "x2gOVVOXRvF8"
      },
      "source": [
        "Título: optimización de flujo de alimentación $F_{in}$\n",
        "\n",
        "Autor: Juan Manuel Gutiérrez García\n",
        "\n",
        "Afiliación: Instituto Tecnológico de Morelia\n",
        "\n",
        "Fecha: enero 2021"
      ]
    },
    {
      "cell_type": "markdown",
      "metadata": {
        "id": "U0hLSqx7fmgc"
      },
      "source": [
        "# Resumen\r\n",
        "\r\n",
        "En el siguiente cuaderno describimos  la optimización de un biorreactor tipo lote-alimentado. En el proceso nos interesa maximizar la cantidad de biomasa generada al final de la fermentación. Se considera un flujo variable en la alimentación y una restricción en el volumen del biorreactor. El problema consiste en  encontrar el perfil de alimentación óptimo que nos permita maximizar la producción de biomasa en la fermentación. El análisis de hace con los parámetros óptimos obtenidos con datos de las levaduras *Isstchenkia terrícola*, *Kluyveromyces marxianus*, *Pichia kluyveri*, *Zygosaccharomyces bailii* y *Zygosaccharomyces rouxi* "
      ]
    },
    {
      "cell_type": "markdown",
      "metadata": {
        "id": "jXRrNtmYhweo"
      },
      "source": [
        "# Modelo con restricción de volumen\r\n",
        "\r\n",
        "Consideramos el caso en que el volumen del biorreactor tiene un límite, es decir, al momento de alimentar un flujo al biorreactor se debe considerar que este tiene una capacidad máxima y no es posible sobrepasar dicha capacidad. Por lo tanto, el flujo de alimentación al biorreactor se puede escribir como\r\n",
        "\r\n",
        "$$\\begin{equation*}\r\n",
        "F_{in}(t) = \\left\\{\r\n",
        "        \\begin{array}{ll}\r\n",
        "            F_{in} & \\quad V \\leq V_{lim} \\\\\r\n",
        "            0 & \\quad V > V_{lim}\r\n",
        "        \\end{array}\r\n",
        "    \\right.\r\n",
        "\\end{equation*}$$"
      ]
    },
    {
      "cell_type": "markdown",
      "metadata": {
        "id": "2aX_J8tDgt0e"
      },
      "source": [
        "# Establecer función objetivo\r\n",
        "\r\n",
        "El problema de optimización aquí es maximizar la cantidad de biomasa al final de la fermentación. Por tanto, la función objetivo se puede formular de la siguiente manera:\r\n",
        "\r\n",
        "$$max_{F_{in}(t)}\\ J = x(t_f)V(t_f)$$\r\n",
        "La optimización está sujeta a la restricción\r\n",
        "\r\n",
        "$$ 0 < F_{in}(t) < 3\\ L/h$$"
      ]
    },
    {
      "cell_type": "markdown",
      "metadata": {
        "id": "FodhKRWShD97"
      },
      "source": [
        "Parámetros del algoritmo genético\r\n",
        "Para el correcto funcionamiento del algoritmo genético usando la función ga() es necesario establecer un valor adecuado de los parámetros popSize, pcrossover, pmutation, elitism y maxiter. Además se deben establecer el valor mínimo y máximo para el parámetro a optimizar\r\n",
        "\r\n",
        "Tabla 1. Valores de parámetros usados en la optimización\r\n",
        "\r\n",
        "|parámetro|\tvalor|\r\n",
        "|:---:|:---:|\r\n",
        "|tamaño de población|\t50|\r\n",
        "|probabilidad de cruzamiento|\t0.8|\r\n",
        "|probabilidad de mutación|\t0.1|\r\n",
        "|elitismo|\t2|\r\n",
        "|número de generaciones (Fin constante)|\t10|\r\n",
        "|número de generaciones (Fin variable)|\t100|\r\n",
        "\r\n",
        "\\\\\r\n",
        "Tabla 2. Valor mínimo y máximo de $F_{in}$\r\n",
        "\r\n",
        "|parámetro|\tmínimo|\tmáximo|\r\n",
        "|:---:|:---:|:---:|\r\n",
        "|$F{in} $ (L/h)|\t0|\t2|"
      ]
    },
    {
      "cell_type": "markdown",
      "metadata": {
        "id": "tvH5EpQIjCw4"
      },
      "source": [
        "\r\n",
        "Tabla 3. Parámetros de operación usados durante el análisis\r\n",
        "\r\n",
        "|parámetro| valor|\r\n",
        "|:---:|:---:|\r\n",
        "$s_f$ | 50 g/L\r\n",
        "$V_{lim}$ | 60 L\r\n",
        "$t_f$ | 100 h\r\n",
        "$x_0$ | 0.2 g/L\r\n",
        "$s_0$ | 40 g/L\r\n",
        "$p_0$ | 0 g/L\r\n",
        "$V_0$ | 10 L"
      ]
    },
    {
      "cell_type": "markdown",
      "metadata": {
        "id": "2oXlnd0JkHZu"
      },
      "source": [
        "Tabla 4. Parámetros cinéticos de las cinco levaduras\r\n",
        "\r\n",
        "|parámetro| IT | KM | PK | ZB | ZR | \t\r\n",
        "|:---:|:---:|:---:|:---:|:---:|:---:|\r\n",
        "|$\\mu_{max}$ (1/h)|2.410|2.308|2.291|2.021|1.465\r\n",
        "|$k_s$ (g/L)|311.651|342.040|333.910|347.062|362.378\r\n",
        "|$k_i$ (L/g)|0.190|0.269|0.230|0.272|0.601\r\n",
        "|$Y_{xs}$|0.089|0.066|0.0850|0.0564|0.193\r\n",
        "|$Y_{px}$|8.577|9.552|5.044|10.397|3.266\r\n",
        "              "
      ]
    },
    {
      "cell_type": "code",
      "metadata": {
        "id": "5ln7G3zRiTGB",
        "outputId": "c4c1d575-fd16-4697-8696-5607f54f1b53",
        "colab": {
          "base_uri": "https://localhost:8080/"
        }
      },
      "source": [
        "# instalar paquetes \r\n",
        "install.packages(\"deSolve\")\r\n",
        "install.packages(\"GA\")"
      ],
      "execution_count": 1,
      "outputs": [
        {
          "output_type": "stream",
          "text": [
            "Installing package into ‘/usr/local/lib/R/site-library’\n",
            "(as ‘lib’ is unspecified)\n",
            "\n",
            "Installing package into ‘/usr/local/lib/R/site-library’\n",
            "(as ‘lib’ is unspecified)\n",
            "\n",
            "also installing the dependencies ‘foreach’, ‘iterators’, ‘RcppArmadillo’\n",
            "\n",
            "\n"
          ],
          "name": "stderr"
        }
      ]
    },
    {
      "cell_type": "code",
      "metadata": {
        "id": "F0mm0HrHibyD",
        "outputId": "d0279d48-e554-4d60-f850-e56283177055",
        "colab": {
          "base_uri": "https://localhost:8080/"
        }
      },
      "source": [
        "# cargar librerías\r\n",
        "library(deSolve)\r\n",
        "library(ggplot2)\r\n",
        "library(GA)"
      ],
      "execution_count": 2,
      "outputs": [
        {
          "output_type": "stream",
          "text": [
            "Loading required package: foreach\n",
            "\n",
            "Loading required package: iterators\n",
            "\n",
            "Package 'GA' version 3.2\n",
            "Type 'citation(\"GA\")' for citing this R package in publications.\n",
            "\n",
            "\n",
            "Attaching package: ‘GA’\n",
            "\n",
            "\n",
            "The following object is masked from ‘package:utils’:\n",
            "\n",
            "    de\n",
            "\n",
            "\n"
          ],
          "name": "stderr"
        }
      ]
    },
    {
      "cell_type": "code",
      "metadata": {
        "cellView": "form",
        "id": "Wu9snhm8oK7q"
      },
      "source": [
        "# @title establecer modelo con restricción\r\n",
        "model <- function(times, state, parms) {\r\n",
        "        with(as.list(c(state,parms)), {\r\n",
        "                \r\n",
        "                if (V > Vl) {\r\n",
        "\r\n",
        "                        Fin = 0\r\n",
        "                }\r\n",
        "                \r\n",
        "                # velocidad de crecimiento de biomasa\r\n",
        "                rx = mu_max*s/(ks + s + ki*s^2)*x\r\n",
        "                \r\n",
        "                # velocidad de consumo de sustrato\r\n",
        "                rs = (1/Yxs)*rx\r\n",
        "\r\n",
        "                # velocidad de generación de producto\r\n",
        "                rp = Ypx*rx\r\n",
        "                \r\n",
        "                # balance de material global \r\n",
        "                dVdt = Fin \r\n",
        "                \r\n",
        "                # balance de materia para sustrato\r\n",
        "                dsdt = Fin/V*(sf - s) - rs\r\n",
        "                \r\n",
        "                # balance de materia para biomasa\r\n",
        "                dxdt = - Fin/V*x + rx\r\n",
        "                \r\n",
        "                # balance de materia para el producto\r\n",
        "                dpdt = - Fin/V*p + rp\r\n",
        "\r\n",
        "                return(list(c(dVdt, dsdt, dxdt, dpdt), Fin = Fin))\r\n",
        "        })\r\n",
        "}"
      ],
      "execution_count": 18,
      "outputs": []
    },
    {
      "cell_type": "code",
      "metadata": {
        "cellView": "form",
        "id": "oNJbOrJOiOUx"
      },
      "source": [
        "#@title función para variar Fin durante el proceso, considerando la restricción V < Vl\r\n",
        "change_input <- function(times, state, parms, Fin, model) {\r\n",
        "        \r\n",
        "        n <- length(times)\r\n",
        "        # vectores para guardar los resultados\r\n",
        "        V0 <- state[1]\r\n",
        "        V <- rep(V0, n)\r\n",
        "        s0 <- state[2]\r\n",
        "        su <- rep(s0,n)\r\n",
        "        x0 <- state[3]\r\n",
        "        x <- rep(x0,n)\r\n",
        "        p0 <- state[4]\r\n",
        "        p <- rep(p0,n)\r\n",
        "        \r\n",
        "        # resolver EDO para los diferentes valores de Fin\r\n",
        "        \r\n",
        "        for (i in 1:(n-1)) {\r\n",
        "                \r\n",
        "                # actualizar tiempo de integración\r\n",
        "                tspan <- c(times[i], times[i+1])\r\n",
        "                \r\n",
        "                # actualizar Fin\r\n",
        "                parms[\"Fin\"] <- Fin[i+1]\r\n",
        "                \r\n",
        "                # resolver EDOs\r\n",
        "                out <- ode(y = state,\r\n",
        "                           times = tspan,\r\n",
        "                           func = model,\r\n",
        "                           parms = parms,\r\n",
        "                           method = \"rk4\")\r\n",
        "                \r\n",
        "                m <- nrow(out)\r\n",
        "                # actualizar condiciones iniciales\r\n",
        "                state <- out[m,c(2,3,4,5)]\r\n",
        "                out <- as.data.frame(out)\r\n",
        "                # guardar resultados \r\n",
        "                V[i+1] <- out$V[m]\r\n",
        "                su[i+1] <- out$s[m]\r\n",
        "                x[i+1] <- out$x[m]\r\n",
        "                p[i+1] <- out$p[m]\r\n",
        "                Fin[i+1] <- out$Fin[m]\r\n",
        "        }\r\n",
        "        \r\n",
        "        return(list(times = times, V = V, s = su, x = x, p = p, Fin = Fin))\r\n",
        "}"
      ],
      "execution_count": 5,
      "outputs": []
    },
    {
      "cell_type": "code",
      "metadata": {
        "id": "MkJtWVtTngZ1"
      },
      "source": [
        "# perfil Fin para la simulación \r\n",
        "n <- length(times)\r\n",
        "Fin <- rep(0, n)\r\n",
        "Fin[21:n] <- 1"
      ],
      "execution_count": 44,
      "outputs": []
    },
    {
      "cell_type": "code",
      "metadata": {
        "id": "2XcrHFpOnlSb"
      },
      "source": [
        "# establecer parámetros \r\n",
        "p <- c(mu_max = 1.2, ks = 280, Yxs = 0.2, Ypx = 4, sf = 50, Fin = 1, ki = 0.3, Vl = 60)"
      ],
      "execution_count": 45,
      "outputs": []
    },
    {
      "cell_type": "code",
      "metadata": {
        "id": "SYScM6Zpn7fe"
      },
      "source": [
        "# condiciones iniciales\r\n",
        "s <- c(V = 10.0, s = 40, x = 0.2, p = 0)"
      ],
      "execution_count": 46,
      "outputs": []
    },
    {
      "cell_type": "code",
      "metadata": {
        "id": "0mPARDkxn-iX"
      },
      "source": [
        "# tiempo de integración \r\n",
        "times <- seq(0,100,len=100)"
      ],
      "execution_count": 47,
      "outputs": []
    },
    {
      "cell_type": "code",
      "metadata": {
        "id": "_jyyvSZgnn0c"
      },
      "source": [
        "# simular proceso con Fin variable \r\n",
        "out <- change_input(state = s, times = times, parms = p, Fin = Fin, model = model)\r\n",
        "out <- as.data.frame(out)"
      ],
      "execution_count": 48,
      "outputs": []
    },
    {
      "cell_type": "code",
      "metadata": {
        "id": "1cYH92TmoF8t",
        "outputId": "fc8369f4-7df0-4ef2-9c91-87cf459152da",
        "colab": {
          "base_uri": "https://localhost:8080/",
          "height": 437
        }
      },
      "source": [
        "# mostrar resultados de volumen\r\n",
        "ggplot(out, aes(times)) +\r\n",
        "        geom_line(aes(y = V, color = \"V\"), lty = 2, lwd = 1.5) +\r\n",
        "        scale_color_manual(\"\", breaks = c(\"V\"), values = c(\"blue\")) +\r\n",
        "        xlab(\"Tiempo (h)\") +\r\n",
        "        ylab(\"Volumen (L)\")   +\r\n",
        "        theme(  \r\n",
        "            title = element_text(size = 20),\r\n",
        "            axis.text=element_text(size=20, face = \"bold\"),\r\n",
        "            axis.title=element_text(size=20,face=\"bold\"),\r\n",
        "            legend.title = element_text(size=20), \r\n",
        "            legend.text = element_text(size=20))"
      ],
      "execution_count": 49,
      "outputs": [
        {
          "output_type": "display_data",
          "data": {
            "image/png": "[encoded data removed]",
            "text/plain": [
              "plot without title"
            ]
          },
          "metadata": {
            "tags": [],
            "image/png": {
              "width": 420,
              "height": 420
            }
          }
        }
      ]
    },
    {
      "cell_type": "code",
      "metadata": {
        "id": "ufv_EZvWpeDC",
        "outputId": "e24ab10a-e822-4117-d6a5-7865742a031b",
        "colab": {
          "base_uri": "https://localhost:8080/",
          "height": 437
        }
      },
      "source": [
        "# mostrar resultados de Fin\r\n",
        "ggplot(out, aes(times)) +\r\n",
        "        geom_line(aes(y = Fin, color = \"Fin\"), lty = 2, lwd = 1.5) +\r\n",
        "        scale_color_manual(\"\", breaks = c(\"Fin\"), values = c(\"blue\")) +\r\n",
        "        xlab(\"Tiempo (h)\") +\r\n",
        "        ylab(\"Fin (L/h)\")   +\r\n",
        "        theme(  \r\n",
        "            title = element_text(size = 20),\r\n",
        "            axis.text=element_text(size=20, face = \"bold\"),\r\n",
        "            axis.title=element_text(size=20,face=\"bold\"),\r\n",
        "            legend.title = element_text(size=20), \r\n",
        "            legend.text = element_text(size=20))"
      ],
      "execution_count": 50,
      "outputs": [
        {
          "output_type": "display_data",
          "data": {
            "image/png": "[encoded data removed]",
            "text/plain": [
              "plot without title"
            ]
          },
          "metadata": {
            "tags": [],
            "image/png": {
              "width": 420,
              "height": 420
            }
          }
        }
      ]
    },
    {
      "cell_type": "markdown",
      "metadata": {
        "id": "Yry7WX-iptpV"
      },
      "source": [
        "#Encontrar el perfil de alimentación $F_{in}$ que genera la máxima producción de biomasa, considerando que $V < V_{lim}$\r\n",
        "\r\n",
        "Ahora optimizamos para encontrar el perfil $F_{in}$ que genere una máxima producción de biomasa"
      ]
    },
    {
      "cell_type": "code",
      "metadata": {
        "id": "2ggYCcf0p46G"
      },
      "source": [
        "# @title función fitness para encontrar el perfil óptimo Fin de alimentación al biorreactor\r\n",
        "fitness <- function(x, times, state, parms, model, change_input) {\r\n",
        "        # x es el vector  con valores de Fin \r\n",
        "        # x tiene una longitud de 10, para hacerlo de tamaño 100 usamos rep()\r\n",
        "        Fin <- rep(x, each = 10)\r\n",
        "        # simular usando Fin variable \r\n",
        "        out <- change_input(times = times, state = s, parms = parms, Fin = Fin, model = model)\r\n",
        "        n <- length(out$V)\r\n",
        "        # biomasa generada con el perfil Fin\r\n",
        "        mx_end <- out$x[n]*out$V[n]\r\n",
        "        \r\n",
        "        return(mx_end)\r\n",
        "}"
      ],
      "execution_count": 85,
      "outputs": []
    },
    {
      "cell_type": "code",
      "metadata": {
        "id": "7nosVjNkpi38"
      },
      "source": [
        "# realizar optimización \r\n",
        "set.seed(456)\r\n",
        "time1 <- Sys.time()\r\n",
        "GA1 <- ga(type = \"real-valued\",\r\n",
        "          fitness = fitness,\r\n",
        "          times= times,\r\n",
        "          state = s,\r\n",
        "          parms = p,\r\n",
        "          model = model,\r\n",
        "          change_input = change_input,\r\n",
        "          lower = rep(0, 10),\r\n",
        "          upper = rep(2, 10),\r\n",
        "         maxiter = 100, \r\n",
        "         popSize = 50, \r\n",
        "         elitism = 2)\r\n",
        "time2 <- Sys.time()"
      ],
      "execution_count": 39,
      "outputs": []
    },
    {
      "cell_type": "code",
      "metadata": {
        "id": "ePhs9MHsqEDx",
        "outputId": "2957891b-46ec-46fd-b2c9-a3d8b231f776",
        "colab": {
          "base_uri": "https://localhost:8080/",
          "height": 34
        }
      },
      "source": [
        "# tiempo que toma hacer la optimización\r\n",
        "time2 - time1"
      ],
      "execution_count": 40,
      "outputs": [
        {
          "output_type": "display_data",
          "data": {
            "text/plain": [
              "Time difference of 3.871339 mins"
            ]
          },
          "metadata": {
            "tags": []
          }
        }
      ]
    },
    {
      "cell_type": "code",
      "metadata": {
        "id": "j3rVnf2YqInc",
        "outputId": "7b869b28-48f7-4660-eb44-147260f94261",
        "colab": {
          "base_uri": "https://localhost:8080/"
        }
      },
      "source": [
        "# valor máximo de biomasa que se obtuvo\r\n",
        "cat(\"mx_opt:\", GA1@fitnessValue, \"g\")"
      ],
      "execution_count": 41,
      "outputs": [
        {
          "output_type": "stream",
          "text": [
            "mx_opt: 565.3705 g"
          ],
          "name": "stdout"
        }
      ]
    },
    {
      "cell_type": "code",
      "metadata": {
        "id": "BVwwKK3OqPIx"
      },
      "source": [
        "# guardar perfil óptimo\r\n",
        "Fin_opt1 <- rep(GA1@solution, each = 10)"
      ],
      "execution_count": 42,
      "outputs": []
    },
    {
      "cell_type": "code",
      "metadata": {
        "id": "XGqaRTEOqP6q",
        "outputId": "2cfa1f6b-bb7c-4639-c706-0a4d3eee17f0",
        "colab": {
          "base_uri": "https://localhost:8080/",
          "height": 437
        }
      },
      "source": [
        "# graficar perfil óptimo\r\n",
        "plot(times, Fin_opt1, type = \"l\", lwd = 3, \r\n",
        "    ylab = \"Perfil óptimo (L/h)\", xlab = \"Tiempo (h)\", cex.lab = 1.5, cex.axis = 2)"
      ],
      "execution_count": 43,
      "outputs": [
        {
          "output_type": "display_data",
          "data": {
            "image/png": "[encoded data removed]",
            "text/plain": [
              "plot without title"
            ]
          },
          "metadata": {
            "tags": [],
            "image/png": {
              "width": 420,
              "height": 420
            }
          }
        }
      ]
    },
    {
      "cell_type": "markdown",
      "metadata": {
        "id": "cOXiYmz4sZB2"
      },
      "source": [
        "# Optimización de Fin para *Isstchenkia terrícola*"
      ]
    },
    {
      "cell_type": "code",
      "metadata": {
        "id": "e1OcSW9MqTOG"
      },
      "source": [
        "p_it <- c(mu_max = 2.4102375, ks = 311.6519179, ki = 0.1908231, Yxs = 0.0897973, Ypx = 8.5770722,sf = 50, Fin = 1, Vl = 60)"
      ],
      "execution_count": 67,
      "outputs": []
    },
    {
      "cell_type": "code",
      "metadata": {
        "id": "NpEqd5-Vs7hG"
      },
      "source": [
        "# realizar optimización \r\n",
        "set.seed(123)\r\n",
        "time1 <- Sys.time()\r\n",
        "GA_it <- ga(type = \"real-valued\",\r\n",
        "          fitness = fitness,\r\n",
        "          times= times,\r\n",
        "          state = s,\r\n",
        "          parms = p_it,\r\n",
        "          model = model,\r\n",
        "          change_input = change_input,\r\n",
        "          lower = rep(0, 10),\r\n",
        "          upper = rep(2, 10),\r\n",
        "         maxiter = 100, \r\n",
        "         popSize = 50, \r\n",
        "         elitism = 2)\r\n",
        "time2 <- Sys.time()"
      ],
      "execution_count": 86,
      "outputs": []
    },
    {
      "cell_type": "code",
      "metadata": {
        "id": "DA9McZZ0toZs",
        "outputId": "aed80aad-d756-4490-f475-ad5ba71a2bd8",
        "colab": {
          "base_uri": "https://localhost:8080/",
          "height": 34
        }
      },
      "source": [
        "# tiempo que toma hacer la optimización\r\n",
        "time2 - time1"
      ],
      "execution_count": 87,
      "outputs": [
        {
          "output_type": "display_data",
          "data": {
            "text/plain": [
              "Time difference of 3.905489 mins"
            ]
          },
          "metadata": {
            "tags": []
          }
        }
      ]
    },
    {
      "cell_type": "code",
      "metadata": {
        "id": "84MpGeU8tr5-",
        "outputId": "2ec47884-1b46-4de9-833a-a2df6f82f188",
        "colab": {
          "base_uri": "https://localhost:8080/"
        }
      },
      "source": [
        "# valor máximo de biomasa que se obtuvo\r\n",
        "cat(\"mx_opt:\", GA_it@fitnessValue, \"g\")"
      ],
      "execution_count": 88,
      "outputs": [
        {
          "output_type": "stream",
          "text": [
            "mx_opt: 266.479 g"
          ],
          "name": "stdout"
        }
      ]
    },
    {
      "cell_type": "code",
      "metadata": {
        "id": "AHinVZ3rtsf0"
      },
      "source": [
        "# guardar perfil óptimo\r\n",
        "Fin_opt_it <- rep(GA_it@solution, each = 10)"
      ],
      "execution_count": 73,
      "outputs": []
    },
    {
      "cell_type": "code",
      "metadata": {
        "id": "94E8uobAtv5D",
        "outputId": "33c9538e-6117-4ea2-8844-dcaeec35c13d",
        "colab": {
          "base_uri": "https://localhost:8080/",
          "height": 437
        }
      },
      "source": [
        "# graficar perfil óptimo\r\n",
        "plot(times, Fin_opt_it, type = \"l\", lwd = 3, \r\n",
        "    ylab = \"Perfil óptimo (L/h)\", xlab = \"Tiempo (h)\", cex.lab = 1.5, cex.axis = 2)"
      ],
      "execution_count": 74,
      "outputs": [
        {
          "output_type": "display_data",
          "data": {
            "image/png": "[encoded data removed]",
            "text/plain": [
              "plot without title"
            ]
          },
          "metadata": {
            "tags": [],
            "image/png": {
              "width": 420,
              "height": 420
            }
          }
        }
      ]
    },
    {
      "cell_type": "markdown",
      "metadata": {
        "id": "b0-BjRJHvUBA"
      },
      "source": [
        "# Optimización de Fin para *Kluyveromyces marxianus*"
      ]
    },
    {
      "cell_type": "code",
      "metadata": {
        "id": "bze-QSLZvNsi"
      },
      "source": [
        "p_km <- c(mu_max = 2.30834, ks = 342.0408, ki = 0.2696911, Yxs = 0.06644916, Ypx = 9.552475, sf = 50, Fin = 1, Vl = 60)"
      ],
      "execution_count": 75,
      "outputs": []
    },
    {
      "cell_type": "code",
      "metadata": {
        "id": "MSKtVw_Iv3ht",
        "outputId": "aa60455e-c08b-4f49-ff0b-be5558d316be",
        "colab": {
          "base_uri": "https://localhost:8080/",
          "height": 170
        }
      },
      "source": [
        "# realizar optimización \r\n",
        "set.seed(123)\r\n",
        "time1 <- Sys.time()\r\n",
        "GA_km <- ga(type = \"real-valued\",\r\n",
        "          fitness = fitness,\r\n",
        "          times= times,\r\n",
        "          state = s,\r\n",
        "          parms = p_km,\r\n",
        "          model = model,\r\n",
        "          change_input = change_input,\r\n",
        "          lower = rep(0, 10),\r\n",
        "          upper = rep(2, 10),\r\n",
        "         maxiter = 100, \r\n",
        "         popSize = 50, \r\n",
        "         elitism = 2)\r\n",
        "time2 <- Sys.time()"
      ],
      "execution_count": 84,
      "outputs": [
        {
          "output_type": "display_data",
          "data": {
            "text/plain": [
              "function(x, times, state, parms, model, change_input) {\n",
              "        # x es el vector  con valores de Fin \n",
              "        # x tiene una longitud de 10, para hacerlo de tamaño 100 usamos rep()\n",
              "        Fin <- rep(x, each = 10)\n",
              "        # simular usando Fin variable \n",
              "        out <- change_input(times = times, state = s, parms = p, Fin = Fin, model = model)\n",
              "        n <- length(out$V)\n",
              "        # biomasa generada con el perfil Fin\n",
              "        mx_end <- out$x[n]*out$V[n]\n",
              "        \n",
              "        return(mx_end)\n",
              "}\n",
              "<bytecode: 0x55acfb589268>"
            ],
            "text/latex": "\\begin{minted}{r}\nfunction (x, times, state, parms, model, change\\_input) \n\\{\n    Fin <- rep(x, each = 10)\n    out <- change\\_input(times = times, state = s, parms = p, \n        Fin = Fin, model = model)\n    n <- length(out\\$V)\n    mx\\_end <- out\\$x{[}n{]} * out\\$V{[}n{]}\n    return(mx\\_end)\n\\}\n\\end{minted}",
            "text/markdown": "```r\nfunction (x, times, state, parms, model, change_input) \n{\n    Fin <- rep(x, each = 10)\n    out <- change_input(times = times, state = s, parms = p, \n        Fin = Fin, model = model)\n    n <- length(out$V)\n    mx_end <- out$x[n] * out$V[n]\n    return(mx_end)\n}\n```",
            "text/html": [
              "<pre class=language-r><code>function (x, times, state, parms, model, change_input) \n",
              "{\n",
              "<span style=white-space:pre-wrap>    Fin &lt;- rep(x, each = 10)</span>\n",
              "<span style=white-space:pre-wrap>    out &lt;- change_input(times = times, state = s, parms = p, </span>\n",
              "<span style=white-space:pre-wrap>        Fin = Fin, model = model)</span>\n",
              "<span style=white-space:pre-wrap>    n &lt;- length(out$V)</span>\n",
              "<span style=white-space:pre-wrap>    mx_end &lt;- out$x[n] * out$V[n]</span>\n",
              "<span style=white-space:pre-wrap>    return(mx_end)</span>\n",
              "}</code></pre>"
            ]
          },
          "metadata": {
            "tags": []
          }
        }
      ]
    },
    {
      "cell_type": "code",
      "metadata": {
        "id": "NcU1Q0xAwBGO",
        "outputId": "4a5f3144-4898-43f4-924a-d7d2bff03a9c",
        "colab": {
          "base_uri": "https://localhost:8080/",
          "height": 34
        }
      },
      "source": [
        "# tiempo que toma hacer la optimización\r\n",
        "time2 - time1"
      ],
      "execution_count": 82,
      "outputs": [
        {
          "output_type": "display_data",
          "data": {
            "text/plain": [
              "Time difference of 3.897994 mins"
            ]
          },
          "metadata": {
            "tags": []
          }
        }
      ]
    },
    {
      "cell_type": "code",
      "metadata": {
        "id": "CfaX6EjJwGZN",
        "outputId": "8e2386b1-1f9d-4e89-fd8d-bd972efe9098",
        "colab": {
          "base_uri": "https://localhost:8080/"
        }
      },
      "source": [
        "# valor máximo de biomasa que se obtuvo\r\n",
        "cat(\"mx_opt:\", GA_km@fitnessValue, \"g\")"
      ],
      "execution_count": 83,
      "outputs": [
        {
          "output_type": "stream",
          "text": [
            "mx_opt: 562.3926 g"
          ],
          "name": "stdout"
        }
      ]
    },
    {
      "cell_type": "code",
      "metadata": {
        "id": "oimkyZ-HwK44"
      },
      "source": [
        "# guardar perfil óptimo\r\n",
        "Fin_opt_km <- rep(GA_km@solution, each = 10)"
      ],
      "execution_count": 79,
      "outputs": []
    },
    {
      "cell_type": "code",
      "metadata": {
        "id": "clmddy1_wPnq",
        "outputId": "6c990579-451f-4683-99cb-e942c1a62954",
        "colab": {
          "base_uri": "https://localhost:8080/",
          "height": 437
        }
      },
      "source": [
        "# graficar perfil óptimo\r\n",
        "plot(times, Fin_opt_km, type = \"l\", lwd = 3, \r\n",
        "    ylab = \"Perfil óptimo (L/h)\", xlab = \"Tiempo (h)\", cex.lab = 1.5, cex.axis = 2)"
      ],
      "execution_count": 80,
      "outputs": [
        {
          "output_type": "display_data",
          "data": {
            "image/png": "[encoded data removed]",
            "text/plain": [
              "plot without title"
            ]
          },
          "metadata": {
            "tags": [],
            "image/png": {
              "width": 420,
              "height": 420
            }
          }
        }
      ]
    },
    {
      "cell_type": "markdown",
      "metadata": {
        "id": "uv5vpd5MwX8y"
      },
      "source": [
        "# Optimización de Fin para *Pichia kluyveri*"
      ]
    },
    {
      "cell_type": "code",
      "metadata": {
        "id": "JQVbqVoIwUNw"
      },
      "source": [
        "p_km <- c(mu_max = 2.29138884, ks = 333.91000241, ki = 0.23049849, Yxs = 0.08504201, Ypx = 5.04443297 , sf = 50, Fin = 1, Vl = 60)"
      ],
      "execution_count": null,
      "outputs": []
    }
  ]
}