{
  "nbformat": 4,
  "nbformat_minor": 0,
  "metadata": {
    "colab": {
      "name": "Untitled21.ipynb",
      "provenance": [],
      "authorship_tag": "ABX9TyP+Coecm7zEixkdKYFzh+aL",
      "include_colab_link": true
    },
    "kernelspec": {
      "name": "python3",
      "display_name": "Python 3"
    }
  },
  "cells": [
    {
      "cell_type": "markdown",
      "metadata": {
        "id": "view-in-github",
        "colab_type": "text"
      },
      "source": [
        "<a href=\"https://colab.research.google.com/github/JuanM-GG/modelos-tesis/blob/main/linealizacion_monod.ipynb\" target=\"_parent\"><img src=\"https://colab.research.google.com/assets/colab-badge.svg\" alt=\"Open In Colab\"/></a>"
      ]
    },
    {
      "cell_type": "markdown",
      "metadata": {
        "id": "ZC8enva8x33e"
      },
      "source": [
        "Título:  Linealización modelo del biorreacotr continuo\n",
        "\n",
        "Autor: Juan Manuel Gutiérrez García\n",
        "\n",
        "Fecha: diciembre 2020"
      ]
    },
    {
      "cell_type": "code",
      "metadata": {
        "id": "KF7qdSFUx5mU"
      },
      "source": [
        "# importar librerías\n",
        "import sympy as sp"
      ],
      "execution_count": 1,
      "outputs": []
    },
    {
      "cell_type": "code",
      "metadata": {
        "id": "_-VxHD659Cxu"
      },
      "source": [
        "x, s = sp.symbols(\"x, s\")"
      ],
      "execution_count": 2,
      "outputs": []
    },
    {
      "cell_type": "code",
      "metadata": {
        "id": "TpJNsFQVu3Ck"
      },
      "source": [
        "mu_max, Yxs, ks, D, sf = sp.symbols(\"mu_max, Yxs, ks, D, sf\")"
      ],
      "execution_count": 3,
      "outputs": []
    },
    {
      "cell_type": "markdown",
      "metadata": {
        "id": "daJnzh0kNb1v"
      },
      "source": [
        "### Obtener matriz Jacobiana"
      ]
    },
    {
      "cell_type": "code",
      "metadata": {
        "id": "lju1SxDnNXDz"
      },
      "source": [
        "dfdx = sp.diff(mu_max*(s/(ks + s))*x - D*x,x)\n",
        "dfds = sp.diff(mu_max*(s/(ks + s))*x - D*x,s)\n",
        "dgdx = sp.diff(-mu_max/Yxs*(s/(ks + s))*x + D*(sf - s),x)\n",
        "dgds = sp.diff(-mu_max/Yxs*(s/(ks + s))*x + D*(sf - s),s)"
      ],
      "execution_count": 4,
      "outputs": []
    },
    {
      "cell_type": "code",
      "metadata": {
        "id": "o3sxdKyNN2vd",
        "colab": {
          "base_uri": "https://localhost:8080/"
        },
        "outputId": "9435ccd7-4e51-4328-cda3-4e94bfaa132a"
      },
      "source": [
        "print(\"dfdx = \",dfdx)\n",
        "print(\"dfds = \",dfds)\n",
        "print(\"dgdx = \",dgdx)\n",
        "print(\"dgds = \",dgds)"
      ],
      "execution_count": 5,
      "outputs": [
        {
          "output_type": "stream",
          "text": [
            "dfdx =  -D + mu_max*s/(ks + s)\n",
            "dfds =  -mu_max*s*x/(ks + s)**2 + mu_max*x/(ks + s)\n",
            "dgdx =  -mu_max*s/(Yxs*(ks + s))\n",
            "dgds =  -D + mu_max*s*x/(Yxs*(ks + s)**2) - mu_max*x/(Yxs*(ks + s))\n"
          ],
          "name": "stdout"
        }
      ]
    },
    {
      "cell_type": "code",
      "metadata": {
        "id": "SQ4-IDTIN38v"
      },
      "source": [
        "def my_jacobi():\n",
        "\n",
        "  dfdx = mu_max*s/(ks+s) - D \n",
        "  dfds = mu_max*ks*s/(ks+s)**2\n",
        "  dgdx = -(1/Yxs)*mu_max*s/(ks+s)\n",
        "  dgds = -D - (1/Yxs)*mu_max*ks*x/(ks+s)**2\n",
        "\n",
        "  A = sp.Matrix([[dfdx, dfds],[dgdx, dgds]])\n",
        "\n",
        "  return A\n"
      ],
      "execution_count": 8,
      "outputs": []
    },
    {
      "cell_type": "code",
      "metadata": {
        "id": "M0WOW1jo0Dll",
        "outputId": "ba8f61f1-b3ac-4e85-c128-fbcb877ff5bd",
        "colab": {
          "base_uri": "https://localhost:8080/",
          "height": 68
        }
      },
      "source": [
        "my_jacobi()"
      ],
      "execution_count": 9,
      "outputs": [
        {
          "output_type": "execute_result",
          "data": {
            "text/latex": "$\\displaystyle \\left[\\begin{matrix}- D + \\frac{\\mu_{max} s}{ks + s} & \\frac{ks \\mu_{max} s}{\\left(ks + s\\right)^{2}}\\\\- \\frac{\\mu_{max} s}{Yxs \\left(ks + s\\right)} & - D - \\frac{ks \\mu_{max} x}{Yxs \\left(ks + s\\right)^{2}}\\end{matrix}\\right]$",
            "text/plain": [
              "Matrix([\n",
              "[  -D + mu_max*s/(ks + s),            ks*mu_max*s/(ks + s)**2],\n",
              "[-mu_max*s/(Yxs*(ks + s)), -D - ks*mu_max*x/(Yxs*(ks + s)**2)]])"
            ]
          },
          "metadata": {},
          "execution_count": 9
        }
      ]
    },
    {
      "cell_type": "code",
      "metadata": {
        "id": "kkq57nR50RQG"
      },
      "source": [
        ""
      ],
      "execution_count": null,
      "outputs": []
    }
  ]
}