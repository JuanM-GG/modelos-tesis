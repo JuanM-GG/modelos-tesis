{
  "nbformat": 4,
  "nbformat_minor": 0,
  "metadata": {
    "colab": {
      "name": "Untitled21.ipynb",
      "provenance": [],
      "authorship_tag": "ABX9TyNNBIGR5WHEHHOA3CfSMJW5",
      "include_colab_link": true
    },
    "kernelspec": {
      "name": "python3",
      "display_name": "Python 3"
    }
  },
  "cells": [
    {
      "cell_type": "markdown",
      "metadata": {
        "id": "view-in-github",
        "colab_type": "text"
      },
      "source": [
        "<a href=\"https://colab.research.google.com/github/JuanM-GG/modelos-tesis/blob/main/linealizacion_monod.ipynb\" target=\"_parent\"><img src=\"https://colab.research.google.com/assets/colab-badge.svg\" alt=\"Open In Colab\"/></a>"
      ]
    },
    {
      "cell_type": "markdown",
      "metadata": {
        "id": "ZC8enva8x33e"
      },
      "source": [
        "Título:  Linealización modelo de Monod\r\n",
        "\r\n",
        "Autor: Juan Manuel Gutiérrez García\r\n",
        "\r\n",
        "Afiliación: Instituto Tecnológico de Morelia\r\n",
        "\r\n",
        "Fecha: diciembre 2020"
      ]
    },
    {
      "cell_type": "code",
      "metadata": {
        "id": "KF7qdSFUx5mU"
      },
      "source": [
        "# importar librerías\r\n",
        "import sympy as sp"
      ],
      "execution_count": null,
      "outputs": []
    },
    {
      "cell_type": "code",
      "metadata": {
        "id": "_-VxHD659Cxu"
      },
      "source": [
        "x, s = sp.symbols(\"x, s\")"
      ],
      "execution_count": null,
      "outputs": []
    },
    {
      "cell_type": "code",
      "metadata": {
        "id": "TpJNsFQVu3Ck"
      },
      "source": [
        "mu_max, Yxs, ks, D, sf = sp.symbols(\"mu_max, Yxs, ks, D, sf\")"
      ],
      "execution_count": null,
      "outputs": []
    },
    {
      "cell_type": "markdown",
      "metadata": {
        "id": "daJnzh0kNb1v"
      },
      "source": [
        "### Obtener matriz Jacobiana"
      ]
    },
    {
      "cell_type": "code",
      "metadata": {
        "id": "lju1SxDnNXDz"
      },
      "source": [
        "dfdx = sp.diff(mu_max*(s/(ks + s))*x - D*x,x)\r\n",
        "dfds = sp.diff(mu_max*(s/(ks + s))*x - D*x,s)\r\n",
        "dgdx = sp.diff(-mu_max/Yxs*(s/(ks + s))*x + D*(sf - s),x)\r\n",
        "dgds = sp.diff(-mu_max/Yxs*(s/(ks + s))*x + D*(sf - s),s)"
      ],
      "execution_count": null,
      "outputs": []
    },
    {
      "cell_type": "code",
      "metadata": {
        "id": "o3sxdKyNN2vd",
        "colab": {
          "base_uri": "https://localhost:8080/"
        },
        "outputId": "e436705c-b6fc-45ac-fa79-b0b7ef34fe03"
      },
      "source": [
        "print(\"dfdx = \",dfdx)\r\n",
        "print(\"dfds = \",dfds)\r\n",
        "print(\"dgdx = \",dgdx)\r\n",
        "print(\"dgds = \",dgds)"
      ],
      "execution_count": null,
      "outputs": [
        {
          "output_type": "stream",
          "text": [
            "dfdx =  -D + mu_max*s/(ks + s)\n",
            "dfds =  -mu_max*s*x/(ks + s)**2 + mu_max*x/(ks + s)\n",
            "dgdx =  -mu_max*s/(Yxs*(ks + s))\n",
            "dgds =  -D + mu_max*s*x/(Yxs*(ks + s)**2) - mu_max*x/(Yxs*(ks + s))\n"
          ],
          "name": "stdout"
        }
      ]
    },
    {
      "cell_type": "code",
      "metadata": {
        "id": "SQ4-IDTIN38v"
      },
      "source": [
        "def my_jacobi(x,s):\r\n",
        "\r\n",
        "  dfdx = mu_max*s/(ks+s) - D \r\n",
        "  dfds = mu_max*ks*s/(ks+s)**2\r\n",
        "  dgdx = -(1/Yxs)*mu_max*s/(ks+s)\r\n",
        "  dgds = -D - (1/Yxs)*mu_max*ks*x/(ks+s)**2\r\n",
        "\r\n",
        "  A = sp.Matrix([[dfdx, dfds],[dgdx, dgds]])\r\n",
        "\r\n",
        "  return A\r\n"
      ],
      "execution_count": null,
      "outputs": []
    }
  ]
}