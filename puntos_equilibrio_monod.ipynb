{
  "nbformat": 4,
  "nbformat_minor": 0,
  "metadata": {
    "colab": {
      "name": "Untitled21.ipynb",
      "provenance": [],
      "authorship_tag": "ABX9TyPVU7Ug+AQD20eXC/0L8QzF",
      "include_colab_link": true
    },
    "kernelspec": {
      "name": "python3",
      "display_name": "Python 3"
    }
  },
  "cells": [
    {
      "cell_type": "markdown",
      "metadata": {
        "id": "view-in-github",
        "colab_type": "text"
      },
      "source": [
        "<a href=\"https://colab.research.google.com/github/JuanM-GG/modelos-tesis/blob/main/puntos_equilibrio_monod.ipynb\" target=\"_parent\"><img src=\"https://colab.research.google.com/assets/colab-badge.svg\" alt=\"Open In Colab\"/></a>"
      ]
    },
    {
      "cell_type": "markdown",
      "metadata": {
        "id": "ZC8enva8x33e"
      },
      "source": [
        "Título:  Puntos de equilibrio modelo de Monod\r\n",
        "\r\n",
        "Autor: Juan Manuel Gutiérrez García\r\n",
        "\r\n",
        "Afiliación: Instituto Tecnológico de Morelia\r\n",
        "\r\n",
        "Fecha: diciembre 2020"
      ]
    },
    {
      "cell_type": "code",
      "metadata": {
        "id": "KF7qdSFUx5mU"
      },
      "source": [
        "import sympy as sp"
      ],
      "execution_count": 4,
      "outputs": []
    },
    {
      "cell_type": "code",
      "metadata": {
        "id": "_-VxHD659Cxu"
      },
      "source": [
        "x, s = sp.symbols(\"x, s\")"
      ],
      "execution_count": 5,
      "outputs": []
    },
    {
      "cell_type": "code",
      "metadata": {
        "id": "TpJNsFQVu3Ck"
      },
      "source": [
        "mu_max, Yxs, ks, D, sf = sp.symbols(\"mu_max, Yxs, ks, D, sf\")"
      ],
      "execution_count": 6,
      "outputs": []
    },
    {
      "cell_type": "code",
      "metadata": {
        "id": "MjCvyk0wutHg"
      },
      "source": [
        "eq1 = sp.Eq(-mu_max/Yxs*(s/(ks + s))*x + D*(sf - s), 0)\r\n",
        "eq2 = sp.Eq(mu_max*(s/(ks + s))*x - D*x, 0)"
      ],
      "execution_count": 7,
      "outputs": []
    },
    {
      "cell_type": "code",
      "metadata": {
        "colab": {
          "base_uri": "https://localhost:8080/",
          "height": 51
        },
        "id": "nPcfEevLv15p",
        "outputId": "63323e1d-9f78-4cad-c1f3-5be82c095392"
      },
      "source": [
        "display(eq1)\r\n",
        "display(eq2)"
      ],
      "execution_count": 8,
      "outputs": [
        {
          "output_type": "display_data",
          "data": {
            "text/plain": [
              "Eq(D*(-s + sf) - mu_max*s*x/(Yxs*(ks + s)), 0)"
            ]
          },
          "metadata": {
            "tags": []
          }
        },
        {
          "output_type": "display_data",
          "data": {
            "text/plain": [
              "Eq(-D*x + mu_max*s*x/(ks + s), 0)"
            ]
          },
          "metadata": {
            "tags": []
          }
        }
      ]
    },
    {
      "cell_type": "code",
      "metadata": {
        "colab": {
          "base_uri": "https://localhost:8080/"
        },
        "id": "oODZEmudwDYw",
        "outputId": "0b0018bb-64be-4889-a12f-feef05e9c8cd"
      },
      "source": [
        "sol = solve([eq1, eq2], [x, s])\r\n",
        "sol"
      ],
      "execution_count": 9,
      "outputs": [
        {
          "output_type": "execute_result",
          "data": {
            "text/plain": [
              "[(0, sf), (Yxs*(D*ks + sf*(D - mu_max))/(D - mu_max), -D*ks/(D - mu_max))]"
            ]
          },
          "metadata": {
            "tags": []
          },
          "execution_count": 9
        }
      ]
    }
  ]
}