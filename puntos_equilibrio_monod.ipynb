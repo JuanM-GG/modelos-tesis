{
  "nbformat": 4,
  "nbformat_minor": 0,
  "metadata": {
    "colab": {
      "name": "Untitled21.ipynb",
      "provenance": [],
      "authorship_tag": "ABX9TyNBe5YSOxzAYEkkOrl9QZGY",
      "include_colab_link": true
    },
    "kernelspec": {
      "name": "python3",
      "display_name": "Python 3"
    }
  },
  "cells": [
    {
      "cell_type": "markdown",
      "metadata": {
        "id": "view-in-github",
        "colab_type": "text"
      },
      "source": [
        "<a href=\"https://colab.research.google.com/github/JuanM-GG/modelos-tesis/blob/main/puntos_equilibrio_monod.ipynb\" target=\"_parent\"><img src=\"https://colab.research.google.com/assets/colab-badge.svg\" alt=\"Open In Colab\"/></a>"
      ]
    },
    {
      "cell_type": "markdown",
      "metadata": {
        "id": "ZC8enva8x33e"
      },
      "source": [
        "Título:  Estado estacionario del modelo del reactor continuo\n",
        "\n",
        "Autor: Juan Manuel Gutiérrez García\n",
        "\n",
        "Fecha: diciembre 2020"
      ]
    },
    {
      "cell_type": "markdown",
      "metadata": {
        "id": "I6_cBDVNMpW3"
      },
      "source": [
        "Para obtener las condiciones de estado estacionario el primer paso es igualar a cero las derivadas"
      ]
    },
    {
      "cell_type": "markdown",
      "metadata": {
        "id": "2KAZLWokM4vi"
      },
      "source": [
        "\\begin{equation}\n",
        "    \\frac{ds}{dt} = 0 \\hspace{1cm}  \\rightarrow \\hspace{1cm} D(s_{f} - \\bar{s}) - \\frac{1}{Y_{xs}} \\mu_{max} \\left(\\frac{\\bar{s}}{k_s + \\bar{s}}\\right) \\bar{x} = 0 \\tag{1}\n",
        "\\end{equation} \n",
        "\n",
        "\\begin{equation}\n",
        "    \\frac{dx}{dt} = 0 \\hspace{1cm}  \\rightarrow \\hspace{1cm} \\mu_{max} \\left(\\frac{\\bar{s}}{k_s + \\bar{s}}\\right) \\bar{x} - D \\bar{x} = 0 \n",
        "    \\tag{2}\n",
        "\\end{equation}\n",
        "\n",
        "\\begin{equation}\n",
        "    \\frac{dp}{dt} = 0 \\hspace{1cm}  \\rightarrow \\hspace{1cm}  Y_{px} \\mu_{max} \\left(\\frac{\\bar{s}}{k_s + \\bar{s}}\\right) \\bar{x} - D \\bar{p} = 0\n",
        "    \\tag{3}\n",
        "\\end{equation}"
      ]
    },
    {
      "cell_type": "markdown",
      "metadata": {
        "id": "iJBKIrD9QC64"
      },
      "source": [
        "Luego se procede a resolver el sistema de ecuaciones compuesto por (1),(2) y (3)"
      ]
    },
    {
      "cell_type": "markdown",
      "metadata": {
        "id": "V-6qD9DHOW2V"
      },
      "source": [
        "Estado estacionario trivial, $ss_1$\n",
        "\n",
        "Si en (2) $\\bar{x} = 0$ de (1) se obtiene que $\\bar{s} = 0$ y de (3) se obtiene $\\bar{p} = 0$"
      ]
    },
    {
      "cell_type": "markdown",
      "metadata": {
        "id": "9Sk5GgUaOuJc"
      },
      "source": [
        "Estado estacionario no trivial, $ss_2$\n",
        "\n",
        "Si en (2) $\\bar{x} \\neq 0$ entonce se tiene que \n",
        "\n",
        "\\begin{equation}\n",
        "    \\mu_{max}\\left(\\frac{\\bar{s}}{k_s + \\bar{s}}\\right)  - D  = 0 \\hspace{1cm}     \\rightarrow \\hspace{1cm} \\bar{s} = \\frac{Dk_s}{\\mu_{max} - D} \n",
        "\\end{equation}\n",
        "\n",
        "De (1) se puede obtener que \n",
        "\n",
        "\\begin{equation}\n",
        "    \\bar{x} = Y_{xs} (s_f - \\bar{s})\n",
        "\\end{equation}\n",
        "\n",
        "De (3) se ver que \n",
        "\n",
        "\\begin{equation}\n",
        "    \\bar{p} = Y_{px} \\bar{x}\n",
        "\\end{equation}\n"
      ]
    },
    {
      "cell_type": "markdown",
      "metadata": {
        "id": "fcEYwvFHQuDQ"
      },
      "source": [
        "De esta manera se obtiene las dos condiciones de estado estacionario:\n",
        "\n",
        "\\begin{equation}\n",
        "    ss_1: \\hspace{1cm} \\bar{s} = s_{f}, \\hspace{0.25cm} \\bar{x} = 0, \\hspace{0.25cm} \\bar{p} = 0 \n",
        "    \\tag{4}\n",
        "\\end{equation}\n",
        "\n",
        "\\begin{equation}\n",
        "    ss_2: \\hspace{1cm} \\bar{s} = \\frac{Dk_s}{\\mu_{max} - D}, \\hspace{0.25cm} \\bar{x} = Y_{xs} (s_f - \\bar{s}), \\hspace{0.25cm} \\bar{p} = Y_{px} \\bar{x}\n",
        "    \\tag{5}\n",
        "\\end{equation}"
      ]
    },
    {
      "cell_type": "markdown",
      "metadata": {
        "id": "yqkzBEGBQ9N2"
      },
      "source": [
        "Además, es posible obtener estas dos condiciones de estado estacionario mediante cálculo simbólico utilizando la librería de Python sympy"
      ]
    },
    {
      "cell_type": "code",
      "metadata": {
        "id": "KF7qdSFUx5mU"
      },
      "source": [
        "# importar la librearía para realizar cálculo simbólico \n",
        "import sympy as sp"
      ],
      "execution_count": 1,
      "outputs": []
    },
    {
      "cell_type": "code",
      "metadata": {
        "id": "_-VxHD659Cxu"
      },
      "source": [
        "# variables del sistema de ecuaciones algebraico\n",
        "x, s, p = sp.symbols(\"x, s, p\")"
      ],
      "execution_count": 19,
      "outputs": []
    },
    {
      "cell_type": "code",
      "metadata": {
        "id": "TpJNsFQVu3Ck"
      },
      "source": [
        "# parámetros del sistema de ecuaciones algebraico\n",
        "mu_max, Y_xs, Y_px, ks, D, sf = sp.symbols(\"mu_max, Y_xs, Y_px, ks, D, sf\")"
      ],
      "execution_count": 23,
      "outputs": []
    },
    {
      "cell_type": "code",
      "metadata": {
        "id": "MjCvyk0wutHg"
      },
      "source": [
        "# ds/dt = 0\n",
        "eq1 = sp.Eq(-mu_max/Y_xs*(s/(ks + s))*x + D*(sf - s), 0)\n",
        "# dx/dt = 0\n",
        "eq2 = sp.Eq(mu_max*(s/(ks + s))*x - D*x, 0)\n",
        "# dp/dt = 0\n",
        "eq3 = sp.Eq(Y_px*mu_max*(s/(ks + s))*x - D*p, 0)"
      ],
      "execution_count": 24,
      "outputs": []
    },
    {
      "cell_type": "code",
      "metadata": {
        "colab": {
          "base_uri": "https://localhost:8080/",
          "height": 119
        },
        "id": "nPcfEevLv15p",
        "outputId": "57bf398f-0204-4fcf-a2de-0a9c5e2d47c1"
      },
      "source": [
        "# mostrar ecuaciones\n",
        "display(eq1)\n",
        "display(eq2)\n",
        "display(eq3)"
      ],
      "execution_count": 25,
      "outputs": [
        {
          "output_type": "display_data",
          "data": {
            "text/latex": "$\\displaystyle D \\left(- s + sf\\right) - \\frac{\\mu_{max} s x}{Y_{xs} \\left(ks + s\\right)} = 0$",
            "text/plain": [
              "Eq(D*(-s + sf) - mu_max*s*x/(Y_xs*(ks + s)), 0)"
            ]
          },
          "metadata": {}
        },
        {
          "output_type": "display_data",
          "data": {
            "text/latex": "$\\displaystyle - D x + \\frac{\\mu_{max} s x}{ks + s} = 0$",
            "text/plain": [
              "Eq(-D*x + mu_max*s*x/(ks + s), 0)"
            ]
          },
          "metadata": {}
        },
        {
          "output_type": "display_data",
          "data": {
            "text/latex": "$\\displaystyle - D p + \\frac{Y_{px} \\mu_{max} s x}{ks + s} = 0$",
            "text/plain": [
              "Eq(-D*p + Y_px*mu_max*s*x/(ks + s), 0)"
            ]
          },
          "metadata": {}
        }
      ]
    },
    {
      "cell_type": "code",
      "metadata": {
        "colab": {
          "base_uri": "https://localhost:8080/"
        },
        "id": "oODZEmudwDYw",
        "outputId": "5cc4a835-7e81-4457-df36-02602b48a183"
      },
      "source": [
        "# resolver sistema de ecuaciones\n",
        "sol = sp.solve([eq1, eq2, eq3], [x, s, p])\n",
        "# mostrar la solución\n",
        "print(sol)"
      ],
      "execution_count": 26,
      "outputs": [
        {
          "output_type": "stream",
          "text": [
            "[(0, sf, 0), (Y_xs*(D*ks + D*sf - mu_max*sf)/(D - mu_max), -D*ks/(D - mu_max), Y_px*Y_xs*(D*ks + D*sf - mu_max*sf)/(D - mu_max))]\n"
          ],
          "name": "stdout"
        }
      ]
    }
  ]
}