{
  "nbformat": 4,
  "nbformat_minor": 0,
  "metadata": {
    "colab": {
      "name": "Untitled36.ipynb",
      "provenance": [],
      "authorship_tag": "ABX9TyOHuZYfRdvrvMKAPi0hgJFs",
      "include_colab_link": true
    },
    "kernelspec": {
      "name": "python3",
      "display_name": "Python 3"
    }
  },
  "cells": [
    {
      "cell_type": "markdown",
      "metadata": {
        "id": "view-in-github",
        "colab_type": "text"
      },
      "source": [
        "<a href=\"https://colab.research.google.com/github/JuanM-GG/modelos-tesis/blob/main/puntos_equilibrio_inhibicion.ipynb\" target=\"_parent\"><img src=\"https://colab.research.google.com/assets/colab-badge.svg\" alt=\"Open In Colab\"/></a>"
      ]
    },
    {
      "cell_type": "markdown",
      "metadata": {
        "id": "PqVf5382eCJ1"
      },
      "source": [
        "Título: Puntos de equilibrio modelo Inhibición por sustrato \r\n",
        "\r\n",
        "Nombre: Juan Manuel Gutiérrez García\r\n",
        "\r\n",
        "Afiliación: Instituto Tecnológico de Morelia\r\n",
        "\r\n",
        "Fecha: diciembre 2020"
      ]
    },
    {
      "cell_type": "code",
      "metadata": {
        "id": "Fp1VU9FwSBP8"
      },
      "source": [
        "import sympy as sp "
      ],
      "execution_count": 1,
      "outputs": []
    },
    {
      "cell_type": "code",
      "metadata": {
        "id": "kAy7EvXZSDoq"
      },
      "source": [
        "mu,  km, ki, D, sf, Y = sp.symbols(\"mu, km, ki, D, sf, Y\")"
      ],
      "execution_count": 2,
      "outputs": []
    },
    {
      "cell_type": "code",
      "metadata": {
        "id": "f1tjruY6SSAH"
      },
      "source": [
        "s, x = sp.symbols(\"s, x\")"
      ],
      "execution_count": 3,
      "outputs": []
    },
    {
      "cell_type": "markdown",
      "metadata": {
        "id": "pw-qg_swYYin"
      },
      "source": [
        "# Equilibrios no triviales para $s$\r\n",
        "De la ecuación de biomasa \r\n",
        "\r\n",
        "$$\r\n",
        "\\frac{dx}{dt} = 0 \\hspace{1cm}  \\rightarrow \\hspace{1cm}  r_{x} - Dx = 0 \r\n",
        "$$\r\n",
        "\r\n",
        "sustituyendo $r_x$ \r\n",
        "\r\n",
        "$$\r\n",
        "\\mu_{max} \\frac{\\bar{s}}{k_s + \\bar{s} + k_i \\bar{s}^2} \\bar{x} - D \\bar{x} = 0\r\n",
        "$$\r\n",
        "\r\n",
        "de donde obtenemos la solución trivial $\\bar{x} = 0$\r\n",
        "\r\n",
        "la solución no trivial se obtiene a partir de\r\n",
        "\r\n",
        "$$\r\n",
        "\\mu_{max} \\frac{\\bar{s}}{k_s + \\bar{s} + k_i \\bar{s}^2}  - D  = 0\r\n",
        "$$\r\n",
        "\r\n",
        "reordenando la ecuación anterior llegamos a \r\n",
        "\r\n",
        "<a id = 'equation-la-se2'></a>\r\n",
        "$$\r\n",
        "k_i \\bar{s}^2 + (1 - \\frac{\\mu_{max}}{D}) \\bar{s} + k_s = 0 \\tag{1}\r\n",
        "$$\r\n",
        "\r\n",
        "A continuación resolvemos (1) para encontrar $\\bar{s}$"
      ]
    },
    {
      "cell_type": "code",
      "metadata": {
        "id": "loBDoKXnSMrC"
      },
      "source": [
        "# guardar (1) \r\n",
        "eq1 = sp.Eq(ki*s**2 + (1- mu/D)*s + km,0)"
      ],
      "execution_count": 4,
      "outputs": []
    },
    {
      "cell_type": "code",
      "metadata": {
        "colab": {
          "base_uri": "https://localhost:8080/"
        },
        "id": "YWJ4X9ApSqpy",
        "outputId": "15f0c68b-199d-4dab-c899-acd8a42b4fd6"
      },
      "source": [
        "# resolver para (1) obtener s_bar\r\n",
        "sp.solve(eq1, s)"
      ],
      "execution_count": 5,
      "outputs": [
        {
          "output_type": "execute_result",
          "data": {
            "text/plain": [
              "[(-D + mu - sqrt(-4*D**2*ki*km + D**2 - 2*D*mu + mu**2))/(2*D*ki),\n",
              " (-D + mu + sqrt(-4*D**2*ki*km + D**2 - 2*D*mu + mu**2))/(2*D*ki)]"
            ]
          },
          "metadata": {
            "tags": []
          },
          "execution_count": 5
        }
      ]
    },
    {
      "cell_type": "markdown",
      "metadata": {
        "id": "AO677YqYAwCE"
      },
      "source": [
        "# Equilibrios no triviales para $x$\r\n",
        "De la ecuación de sustrato \r\n",
        "\r\n",
        "$$\r\n",
        "\\frac{ds}{dt} = 0 \\hspace{1cm}  \\rightarrow \\hspace{1cm} D(s_{f} - s) - r_{s} = 0 \r\n",
        "$$\r\n",
        "\r\n",
        "sustituyendo $r_s$ \r\n",
        "\r\n",
        "$$\r\n",
        "D(s_f - \\bar{s}) - \\frac{1}{Y_{xs}}\\mu(s) \\bar{x} = 0\r\n",
        "$$\r\n",
        "\r\n",
        "en el equilibrio trivial $\\bar{x}= 0$ y por lo tanto \r\n",
        "\r\n",
        "$$D(s_f - \\bar{s}) = 0 \\hspace{1cm} \\rightarrow \\hspace{1cm} \\bar{s} = s_f$$\r\n",
        "\r\n",
        "mientras que en el equilibrio no trivial $D = \\mu(s)$\r\n",
        "\r\n",
        "$$\r\n",
        "(s_f - \\bar{s}) - \\frac{1}{Y_{xs}} \\bar{x} = 0 \r\n",
        "$$\r\n",
        "\r\n",
        "resolviendo para $\\bar{x}$ tenemos \r\n",
        "\r\n",
        "<a id = 'equation-la-se2' ></a>\r\n",
        "$$\r\n",
        "\\bar{x} = Y_{xs}(s_f - \\bar{s}) \\tag{2}\r\n",
        "$$\r\n",
        "\r\n",
        "Sustituyendo en (2) los dos valores que obtuvimos para $\\bar{s}$ al resolver la ecuación (1) se obtienen las dos soluciones no triviales para $x$"
      ]
    },
    {
      "cell_type": "markdown",
      "metadata": {
        "id": "mYcMLkk4Elfg"
      },
      "source": [
        "# Equilibrios no triviales para p\r\n",
        "De la ecuación de producto \r\n",
        "\r\n",
        "$$\r\n",
        "\\frac{dp}{dt} = 0 \\hspace{1cm}  \\rightarrow \\hspace{1cm}  r_{p} - D \\bar{p} = 0 \r\n",
        "$$\r\n",
        "\r\n",
        "sustituyendo $r_p$\r\n",
        "\r\n",
        "$$\r\n",
        "  Y_{px} \\mu(s) \\bar{x} - D \\bar{p} = 0 \r\n",
        "$$\r\n",
        "\r\n",
        "en la solución trivial sabemos que $\\bar{x} = 0$, por lo tanto $\\bar{p} = 0$\r\n",
        "\r\n",
        "en la solución no trivial $D = \\mu(s)$, de aquí se obtiene \r\n",
        "\r\n",
        "$$\r\n",
        "\\bar{p} = Y_{px} \\bar{x} \\tag{3}\r\n",
        "$$\r\n",
        "\r\n",
        "Sustituyendo en (3) los valores que obtuvimos para $\\bar{x}$ a partir de (2) se encuentras los equilibrio no triviales de $p$"
      ]
    },
    {
      "cell_type": "code",
      "metadata": {
        "id": "IfHT0vikG3ga"
      },
      "source": [
        ""
      ],
      "execution_count": null,
      "outputs": []
    }
  ]
}