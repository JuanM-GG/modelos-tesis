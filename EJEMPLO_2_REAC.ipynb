{
  "nbformat": 4,
  "nbformat_minor": 0,
  "metadata": {
    "colab": {
      "name": "Untitled35.ipynb",
      "provenance": [],
      "collapsed_sections": [],
      "authorship_tag": "ABX9TyM6fqxMJY/uXb34ouNMNbjy",
      "include_colab_link": true
    },
    "kernelspec": {
      "name": "python3",
      "display_name": "Python 3"
    }
  },
  "cells": [
    {
      "cell_type": "markdown",
      "metadata": {
        "id": "view-in-github",
        "colab_type": "text"
      },
      "source": [
        "<a href=\"https://colab.research.google.com/github/JuanM-GG/modelos-tesis/blob/main/EJEMPLO_2_REAC.ipynb\" target=\"_parent\"><img src=\"https://colab.research.google.com/assets/colab-badge.svg\" alt=\"Open In Colab\"/></a>"
      ]
    },
    {
      "cell_type": "markdown",
      "metadata": {
        "id": "m_0fyvwQLAUh"
      },
      "source": [
        "Título: \n",
        "\n",
        "Autor: \n",
        "\n",
        "Fecha: "
      ]
    },
    {
      "cell_type": "code",
      "metadata": {
        "id": "euuLzX2bQe8C"
      },
      "source": [
        "import numpy as np\n",
        "import matplotlib.pyplot as plt\n",
        "from scipy.integrate import odeint\n",
        "import sympy as sp "
      ],
      "execution_count": null,
      "outputs": []
    },
    {
      "cell_type": "code",
      "metadata": {
        "id": "6QqROuK7X9LT"
      },
      "source": [
        "FV, caf, ca, k1, k3 = sp.symbols(\"FV, caf, ca, k1, k3\") "
      ],
      "execution_count": null,
      "outputs": []
    },
    {
      "cell_type": "code",
      "metadata": {
        "id": "9gvpXmxdQ_or"
      },
      "source": [
        "eq = sp.Eq(FV*(caf - ca) - (k1*ca + k3*ca**2),0)"
      ],
      "execution_count": null,
      "outputs": []
    },
    {
      "cell_type": "code",
      "metadata": {
        "colab": {
          "base_uri": "https://localhost:8080/"
        },
        "id": "Y6jnFCIARIaU",
        "outputId": "e69a7f23-f29a-45e5-8003-29da46a0a9ca"
      },
      "source": [
        "sp.solve(eq, ca)"
      ],
      "execution_count": null,
      "outputs": [
        {
          "output_type": "execute_result",
          "data": {
            "text/plain": [
              "[(-FV - k1 + sqrt(FV**2 + 4*FV*caf*k3 + 2*FV*k1 + k1**2))/(2*k3),\n",
              " -(FV + k1 + sqrt(FV**2 + 4*FV*caf*k3 + 2*FV*k1 + k1**2))/(2*k3)]"
            ]
          },
          "metadata": {
            "tags": []
          },
          "execution_count": 5
        }
      ]
    },
    {
      "cell_type": "code",
      "metadata": {
        "id": "ZyOEjUBvRLZE"
      },
      "source": [
        "def steady_state(FV):\n",
        "\n",
        "    cas = (-(FV + k1) + np.sqrt((FV + k1)**2 + 4*FV*k3*cafs) )/(2*k3)\n",
        "\n",
        "    cbs = k1*cas/(FV + k2)\n",
        "\n",
        "    return [cas, cbs]"
      ],
      "execution_count": null,
      "outputs": []
    },
    {
      "cell_type": "code",
      "metadata": {
        "id": "4xyYQT3zYG89"
      },
      "source": [
        "# nominal values \n",
        "cafs = 10 # mol/L\n",
        "FVs = 4/7 # min-1\n",
        "cas = 3 # mol/L\n",
        "cbs = 1.1170\n",
        "#parameters \n",
        "k1 = 5/6; k2 = 5/3; k3 = 1/6 # L/(mol min)"
      ],
      "execution_count": null,
      "outputs": []
    },
    {
      "cell_type": "code",
      "metadata": {
        "id": "V5UBvj3qYoW1"
      },
      "source": [
        "ca, cb = steady_state(FVs)"
      ],
      "execution_count": null,
      "outputs": []
    },
    {
      "cell_type": "code",
      "metadata": {
        "colab": {
          "base_uri": "https://localhost:8080/"
        },
        "id": "4nzpUVEMY7f1",
        "outputId": "cd0b5d11-e2ce-4d46-d5ad-dde0b2fa6e62"
      },
      "source": [
        "print(ca, cb)"
      ],
      "execution_count": null,
      "outputs": [
        {
          "output_type": "stream",
          "text": [
            "3.0 1.1170212765957446\n"
          ],
          "name": "stdout"
        }
      ]
    },
    {
      "cell_type": "code",
      "metadata": {
        "id": "4CASZjJbYvUS"
      },
      "source": [
        "FV = np.linspace(0,5,100)\n",
        "ca, cb = steady_state(FV)"
      ],
      "execution_count": null,
      "outputs": []
    },
    {
      "cell_type": "code",
      "metadata": {
        "colab": {
          "base_uri": "https://localhost:8080/",
          "height": 412
        },
        "id": "pzREUaWgZVgt",
        "outputId": "4b5e06e3-24af-4a78-9eab-e55bd6a27a89"
      },
      "source": [
        "plt.figure(figsize= (16,6))\n",
        "plt.subplot(1,2,1)\n",
        "plt.plot(FV, ca, linewidth = 3)\n",
        "plt.xlabel(\"F/V (1/min)\", size = 15)\n",
        "plt.ylabel(\"CAs (mol/L)\", size = 15)\n",
        "plt.subplot(1,2,2)\n",
        "plt.plot(FV, cb,\"r--\", linewidth = 3)\n",
        "plt.xlabel(\"F/V (1/min)\", size = 15)\n",
        "plt.ylabel(\"CBs (mol/L)\", size = 15)\n",
        "\n",
        "plt.subplots_adjust(left=0.1, \n",
        "                    bottom=0.1,  \n",
        "                    right=0.9,  \n",
        "                    top=0.9,  \n",
        "                    wspace=0.4,  \n",
        "                    hspace=0.4)"
      ],
      "execution_count": 29,
      "outputs": [
        {
          "output_type": "display_data",
          "data": {
            "image/png": "[encoded data removed]",
            "text/plain": [
              "<Figure size 1152x432 with 2 Axes>"
            ]
          },
          "metadata": {
            "tags": [],
            "needs_background": "light"
          }
        }
      ]
    },
    {
      "cell_type": "code",
      "metadata": {
        "colab": {
          "base_uri": "https://localhost:8080/",
          "height": 282
        },
        "id": "PeoOrJskZXog",
        "outputId": "d73c93d6-e89b-4fa4-9bb9-bc60d4b4520a"
      },
      "source": [
        "plt.plot(FV, cb)"
      ],
      "execution_count": null,
      "outputs": [
        {
          "output_type": "execute_result",
          "data": {
            "text/plain": [
              "[<matplotlib.lines.Line2D at 0x7fbbf6b15a90>]"
            ]
          },
          "metadata": {
            "tags": []
          },
          "execution_count": 12
        },
        {
          "output_type": "display_data",
          "data": {
            "image/png": "[encoded data removed]",
            "text/plain": [
              "<Figure size 432x288 with 1 Axes>"
            ]
          },
          "metadata": {
            "tags": [],
            "needs_background": "light"
          }
        }
      ]
    },
    {
      "cell_type": "code",
      "metadata": {
        "id": "rQ30x_6lZcia"
      },
      "source": [
        ""
      ],
      "execution_count": null,
      "outputs": []
    }
  ]
}