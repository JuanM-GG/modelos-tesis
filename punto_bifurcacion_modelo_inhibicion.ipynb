{
  "nbformat": 4,
  "nbformat_minor": 0,
  "metadata": {
    "colab": {
      "name": "Untitled39.ipynb",
      "provenance": [],
      "authorship_tag": "ABX9TyPkRtWwLuRH8Y0TtgJ2BJH1",
      "include_colab_link": true
    },
    "kernelspec": {
      "name": "python3",
      "display_name": "Python 3"
    }
  },
  "cells": [
    {
      "cell_type": "markdown",
      "metadata": {
        "id": "view-in-github",
        "colab_type": "text"
      },
      "source": [
        "<a href=\"https://colab.research.google.com/github/JuanM-GG/modelos-tesis/blob/main/punto_bifurcacion_modelo_inhibicion.ipynb\" target=\"_parent\"><img src=\"https://colab.research.google.com/assets/colab-badge.svg\" alt=\"Open In Colab\"/></a>"
      ]
    },
    {
      "cell_type": "markdown",
      "metadata": {
        "id": "pKvr66tbCPzH"
      },
      "source": [
        "Título: Punto de bifurcación modelo con inhibión por sustrato \r\n",
        "\r\n",
        "Autor: Juan Manuel Gutiérrez García \r\n",
        "\r\n",
        "Fecha: enero 2021"
      ]
    },
    {
      "cell_type": "code",
      "metadata": {
        "id": "JufpM7QXBfV_"
      },
      "source": [
        "import sympy as sp "
      ],
      "execution_count": 1,
      "outputs": []
    },
    {
      "cell_type": "code",
      "metadata": {
        "id": "SNBvGRRKBh9S"
      },
      "source": [
        "D, mu_max, ki, ks, sf = sp.symbols(\"D, mu_max, ki, ks, sf\")"
      ],
      "execution_count": 2,
      "outputs": []
    },
    {
      "cell_type": "code",
      "metadata": {
        "id": "Eo-61YrqBpwO"
      },
      "source": [
        "eq = sp.Eq((-(1-mu_max/D) + sp.sqrt((1-mu_max/D)**2 - 4*ki*ks))/(2*ki) - sf, 0)"
      ],
      "execution_count": 5,
      "outputs": []
    },
    {
      "cell_type": "code",
      "metadata": {
        "colab": {
          "base_uri": "https://localhost:8080/"
        },
        "id": "qYTYFM3DB5hA",
        "outputId": "277b81b5-6300-490a-9386-3805260db308"
      },
      "source": [
        "print(eq)"
      ],
      "execution_count": 6,
      "outputs": [
        {
          "output_type": "stream",
          "text": [
            "Eq(-sf + (sqrt(-4*ki*ks + (1 - mu_max/D)**2) - 1 + mu_max/D)/(2*ki), 0)\n"
          ],
          "name": "stdout"
        }
      ]
    },
    {
      "cell_type": "code",
      "metadata": {
        "colab": {
          "base_uri": "https://localhost:8080/"
        },
        "id": "nV4X0bTJB7Iz",
        "outputId": "2bce0242-f4f3-496d-c1a4-921297f6f20b"
      },
      "source": [
        "sp.solve(eq,D)"
      ],
      "execution_count": 7,
      "outputs": [
        {
          "output_type": "execute_result",
          "data": {
            "text/plain": [
              "[mu_max*sf/(ki*sf**2 + ks + sf)]"
            ]
          },
          "metadata": {
            "tags": []
          },
          "execution_count": 7
        }
      ]
    },
    {
      "cell_type": "code",
      "metadata": {
        "id": "H7zljGumCHnA"
      },
      "source": [
        ""
      ],
      "execution_count": null,
      "outputs": []
    }
  ]
}