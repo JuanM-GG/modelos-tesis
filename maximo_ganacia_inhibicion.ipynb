{
  "nbformat": 4,
  "nbformat_minor": 0,
  "metadata": {
    "colab": {
      "name": "Untitled21.ipynb",
      "provenance": [],
      "authorship_tag": "ABX9TyPWev8uUNVcVo/2zOZptdDL",
      "include_colab_link": true
    },
    "kernelspec": {
      "name": "python3",
      "display_name": "Python 3"
    }
  },
  "cells": [
    {
      "cell_type": "markdown",
      "metadata": {
        "id": "view-in-github",
        "colab_type": "text"
      },
      "source": [
        "<a href=\"https://colab.research.google.com/github/JuanM-GG/modelos-tesis/blob/main/maximo_ganacia_inhibicion.ipynb\" target=\"_parent\"><img src=\"https://colab.research.google.com/assets/colab-badge.svg\" alt=\"Open In Colab\"/></a>"
      ]
    },
    {
      "cell_type": "markdown",
      "metadata": {
        "id": "ZC8enva8x33e"
      },
      "source": [
        "Título:  Máximo de función de ganancia modelo de inhibición por sustrato\r\n",
        "\r\n",
        "Nombre: Biología de sistemas\r\n",
        "\r\n",
        "Fecha: enero 2021"
      ]
    },
    {
      "cell_type": "code",
      "metadata": {
        "id": "KF7qdSFUx5mU"
      },
      "source": [
        "import sympy as sp "
      ],
      "execution_count": 2,
      "outputs": []
    },
    {
      "cell_type": "code",
      "metadata": {
        "id": "b2hAjKm3rPWf"
      },
      "source": [
        "# crear símbolos \r\n",
        "s_bar, x_bar, mu_max, D, ki, ks, Yxs, sf = symbols(\"s_bar, x_bar, mu_max, D, ki, ks, Yxs, sf\")"
      ],
      "execution_count": 12,
      "outputs": []
    },
    {
      "cell_type": "code",
      "metadata": {
        "id": "MeSiYi-crdVN"
      },
      "source": [
        "# ecuación de s_bar \r\n",
        "s_bar = (-(1-mu_max/D) - sp.sqrt((1-mu_max/D)**2 - 4*ki*ks))/(2*ki)"
      ],
      "execution_count": 18,
      "outputs": []
    },
    {
      "cell_type": "code",
      "metadata": {
        "id": "WemRDZh4rNxf"
      },
      "source": [
        "# ecuación de x_bar\r\n",
        "x_bar = Yxs*(sf - s_bar)"
      ],
      "execution_count": 19,
      "outputs": []
    },
    {
      "cell_type": "code",
      "metadata": {
        "id": "pSk-isGDr8EL",
        "outputId": "a466d2e9-73b1-42e0-fe96-5a580c9a9697",
        "colab": {
          "base_uri": "https://localhost:8080/"
        }
      },
      "source": [
        "# ganacia \r\n",
        "G = D*x_bar\r\n",
        "print(G)"
      ],
      "execution_count": 20,
      "outputs": [
        {
          "output_type": "stream",
          "text": [
            "D*Yxs*(sf - (-sqrt(-4*ki*ks + (1 - mu_max/D)**2) - 1 + mu_max/D)/(2*ki))\n"
          ],
          "name": "stdout"
        }
      ]
    },
    {
      "cell_type": "code",
      "metadata": {
        "id": "JvIG-kM9sHB2",
        "outputId": "2e24f9f2-a66c-4803-d719-81c2788449c1",
        "colab": {
          "base_uri": "https://localhost:8080/"
        }
      },
      "source": [
        "# derivar ganacia \r\n",
        "sp.diff(G, D)"
      ],
      "execution_count": 21,
      "outputs": [
        {
          "output_type": "execute_result",
          "data": {
            "text/plain": [
              "-D*Yxs*(-mu_max*(1 - mu_max/D)/(D**2*sqrt(-4*ki*ks + (1 - mu_max/D)**2)) - mu_max/D**2)/(2*ki) + Yxs*(sf - (-sqrt(-4*ki*ks + (1 - mu_max/D)**2) - 1 + mu_max/D)/(2*ki))"
            ]
          },
          "metadata": {
            "tags": []
          },
          "execution_count": 21
        }
      ]
    },
    {
      "cell_type": "code",
      "metadata": {
        "id": "7-q1VZsLsMwR"
      },
      "source": [
        "# guarada ecuación a resolver \r\n",
        "eq = sp.Eq(sp.diff(G, D),0) "
      ],
      "execution_count": 23,
      "outputs": []
    },
    {
      "cell_type": "code",
      "metadata": {
        "id": "sVQWZPactLN-",
        "outputId": "8dfa0518-5d2d-4eae-dbaa-211d0cc23b08",
        "colab": {
          "base_uri": "https://localhost:8080/"
        }
      },
      "source": [
        "# resolver ecuación\r\n",
        "sp.solve(eq, D)"
      ],
      "execution_count": 24,
      "outputs": [
        {
          "output_type": "execute_result",
          "data": {
            "text/plain": [
              "[-mu_max*(ki*sf**2 - 2*ki*sf*sqrt(ks*(ki*sf**2 + ks + sf)) + ks + sf - sqrt(ks*(ki*sf**2 + ks + sf)))/(4*ki**2*ks*sf**2 + 4*ki*ks**2 + 4*ki*ks*sf - ki*sf**2 - ks - sf),\n",
              " -mu_max*(ki*sf**2 + 2*ki*sf*sqrt(ks*(ki*sf**2 + ks + sf)) + ks + sf + sqrt(ks*(ki*sf**2 + ks + sf)))/(4*ki**2*ks*sf**2 + 4*ki*ks**2 + 4*ki*ks*sf - ki*sf**2 - ks - sf)]"
            ]
          },
          "metadata": {
            "tags": []
          },
          "execution_count": 24
        }
      ]
    },
    {
      "cell_type": "code",
      "metadata": {
        "id": "kHs8WS38tRg8"
      },
      "source": [
        ""
      ],
      "execution_count": null,
      "outputs": []
    }
  ]
}