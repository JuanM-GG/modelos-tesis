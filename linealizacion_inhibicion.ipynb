{
  "nbformat": 4,
  "nbformat_minor": 0,
  "metadata": {
    "colab": {
      "name": "Untitled21.ipynb",
      "provenance": [],
      "authorship_tag": "ABX9TyOztIkn0INEi1x7cbkYiiZ3",
      "include_colab_link": true
    },
    "kernelspec": {
      "name": "python3",
      "display_name": "Python 3"
    }
  },
  "cells": [
    {
      "cell_type": "markdown",
      "metadata": {
        "id": "view-in-github",
        "colab_type": "text"
      },
      "source": [
        "<a href=\"https://colab.research.google.com/github/JuanM-GG/modelos-tesis/blob/main/linealizacion_inhibicion.ipynb\" target=\"_parent\"><img src=\"https://colab.research.google.com/assets/colab-badge.svg\" alt=\"Open In Colab\"/></a>"
      ]
    },
    {
      "cell_type": "markdown",
      "metadata": {
        "id": "ZC8enva8x33e"
      },
      "source": [
        "Título:  Linealización modelo de inhibición por sustrato\r\n",
        "\r\n",
        "Autor: Juan Manuel Gutiérrez García\r\n",
        "\r\n",
        "Afiliación: Instituto Tecnológico de Morelia\r\n",
        "\r\n",
        "Fecha: diciembre 2020"
      ]
    },
    {
      "cell_type": "code",
      "metadata": {
        "id": "KF7qdSFUx5mU"
      },
      "source": [
        "# cargar librerías\r\n",
        "import numpy as np\r\n",
        "import sympy as sp"
      ],
      "execution_count": 5,
      "outputs": []
    },
    {
      "cell_type": "code",
      "metadata": {
        "id": "_-VxHD659Cxu"
      },
      "source": [
        "x, s = sp.symbols(\"x, s\")"
      ],
      "execution_count": 6,
      "outputs": []
    },
    {
      "cell_type": "code",
      "metadata": {
        "id": "TpJNsFQVu3Ck"
      },
      "source": [
        "mu_max, Yxs, ks, D, sf, ki = sp.symbols(\"mu_max, Yxs, ks, D, sf, ki\")"
      ],
      "execution_count": 13,
      "outputs": []
    },
    {
      "cell_type": "markdown",
      "metadata": {
        "id": "daJnzh0kNb1v"
      },
      "source": [
        "### Obtener matriz Jacobiana"
      ]
    },
    {
      "cell_type": "code",
      "metadata": {
        "id": "lju1SxDnNXDz"
      },
      "source": [
        "dfdx = sp.diff(mu_max*(s/(ks + s + ki*s**2))*x - D*x,x)\r\n",
        "dfds = sp.diff(mu_max*(s/(ks + s + ki*s**2))*x - D*x,s)\r\n",
        "dgdx = sp.diff(-mu_max/Yxs*(s/(ks + s + ki*s**2))*x + D*(sf - s),x)\r\n",
        "dgds = sp.diff(-mu_max/Yxs*(s/(ks + s + ki*s**2))*x + D*(sf - s),s)"
      ],
      "execution_count": 14,
      "outputs": []
    },
    {
      "cell_type": "code",
      "metadata": {
        "id": "o3sxdKyNN2vd",
        "colab": {
          "base_uri": "https://localhost:8080/"
        },
        "outputId": "1839ec4c-6d30-450a-f099-923e23d1d946"
      },
      "source": [
        "print(\"dfdx = \",dfdx)\r\n",
        "print(\"dfds = \",dfds)\r\n",
        "print(\"dgdx = \",dgdx)\r\n",
        "print(\"dgds = \",dgds)"
      ],
      "execution_count": 15,
      "outputs": [
        {
          "output_type": "stream",
          "text": [
            "dfdx =  -D + mu_max*s/(ki*s**2 + ks + s)\n",
            "dfds =  mu_max*s*x*(-2*ki*s - 1)/(ki*s**2 + ks + s)**2 + mu_max*x/(ki*s**2 + ks + s)\n",
            "dgdx =  -mu_max*s/(Yxs*(ki*s**2 + ks + s))\n",
            "dgds =  -D - mu_max*s*x*(-2*ki*s - 1)/(Yxs*(ki*s**2 + ks + s)**2) - mu_max*x/(Yxs*(ki*s**2 + ks + s))\n"
          ],
          "name": "stdout"
        }
      ]
    },
    {
      "cell_type": "code",
      "metadata": {
        "id": "SQ4-IDTIN38v"
      },
      "source": [
        "def my_jacobi(x,s):\r\n",
        "\r\n",
        "  dfdx =  -D + mu_max*s/(ki*s**2 + ks + s)\r\n",
        "  dfds =  mu_max*s*x*(-2*ki*s - 1)/(ki*s**2 + ks + s)**2 + mu_max*x/(ki*s**2 + ks + s)\r\n",
        "  dgdx =  -mu_max*s/(Yxs*(ki*s**2 + ks + s))\r\n",
        "  dgds =  -D - mu_max*s*x*(-2*ki*s - 1)/(Yxs*(ki*s**2 + ks + s)**2) - mu_max*x/(Yxs*(ki*s**2 + ks + s))\r\n",
        "\r\n",
        "  A = sp.Matrix([[dfdx, dfds],[dgdx, dgds]])\r\n",
        "\r\n",
        "  return A"
      ],
      "execution_count": 16,
      "outputs": []
    },
    {
      "cell_type": "code",
      "metadata": {
        "id": "Q2Q-zEbqN_0f"
      },
      "source": [
        ""
      ],
      "execution_count": null,
      "outputs": []
    }
  ]
}