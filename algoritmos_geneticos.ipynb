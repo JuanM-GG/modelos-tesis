{
  "nbformat": 4,
  "nbformat_minor": 0,
  "metadata": {
    "colab": {
      "name": "Untitled7.ipynb",
      "provenance": [],
      "authorship_tag": "ABX9TyPlWYYMMtgVVVa2m0c55aXF",
      "include_colab_link": true
    },
    "kernelspec": {
      "name": "ir",
      "display_name": "R"
    }
  },
  "cells": [
    {
      "cell_type": "markdown",
      "metadata": {
        "id": "view-in-github",
        "colab_type": "text"
      },
      "source": [
        "<a href=\"https://colab.research.google.com/github/JuanM-GG/modelos-tesis/blob/main/algoritmos_geneticos.ipynb\" target=\"_parent\"><img src=\"https://colab.research.google.com/assets/colab-badge.svg\" alt=\"Open In Colab\"/></a>"
      ]
    },
    {
      "cell_type": "markdown",
      "metadata": {
        "id": "x2gOVVOXRvF8"
      },
      "source": [
        "Título: Algortimos genéticos con R\n",
        "\n",
        "Nombre: Juan Manuel Gutiérrez García \n",
        "\n",
        "Fecha: "
      ]
    },
    {
      "cell_type": "markdown",
      "metadata": {
        "id": "i0ECt-Jdphdz"
      },
      "source": [
        "Los algoritmos genéticos (AGs) fueron inventados por John Holland en la universidad de Michigan en 1970s (2016—ESSENTIALS). Los algoritmos genéticos están basados en los principios de la selección natural. Los elementos básicos de la selección natural; reproducción, cruzamiento y mutación, son usados en el procedimiento (2009—modern methods). Específicamente, los AGs simulan los procesos biológicos que permiten a las consecutivas generaciones en una especie adaptarse a su ambiente. El proceso de adaptación es aplicado principalmente a través de la herencia de padres a hijos y a través de la supervivencia de los más aptos. Actualmente, los algoritmos genéticos son considerados como uno de los tipos de metahuerísticas más aplicadas (2004—Studies on metaheuristics).\n",
        "\n",
        "Los AGs comienzan con una población inicial de soluciones. A las soluciones en un población se les llama individuos. En la presentación orginal de los AGs los individuos en la población son representados mediante números binarios. Esta representación suele ser conveniente al momento de implementar las operaciones del algoritmo genético. Por lo anterior, en esta sección nos limitamos a explicar el funcionamiento de los algortimos genéticos mediante una representación de individuos en forma de números binarios. No obstante, es importante considerar que actualmente existen versiones de AGs donde se representa a los individuos en la población como vectores de valor real. A la representación en forma de número binario de un individuo se le denomina cromosoma. El cromosoma consiste en un número fijo de bits los cuales son llamados genes. Con el objetivo de evaluar y clasificar cromosomas en una población una función fitness, basada en la función objetivo, debe ser definida. El valor de la función fitness evaluada en un determinado cromosoma se conoce como el fitness de ese cromosoma. Tres operadores deben ser especificados para construir la estructura completa de un algoritmo genético; operadores de selección, cruce y mutación. El operador de selección se encarga de seleccionar una población de cromosomas padres de la población actual con el objetivo de ser usada por los otros operadores de cruce y mutación. En este proceso de selección, los cromosomas con mayor fitness tienen mayor probabilidad de ser seleccionados que aquellos con un valor fitness bajo. En el proceso de cruce, pares de cromosomas en la población de padres son elegidos aleatoriamente para ser cruzados y generar la descendencia. Con el objetivo de incrementar la diversidad, el operador de mutación es aplicado para modificar uno o más genes de un cromosoma elegido aleatoriamente. Un ciclo de reproducción, cruzamiento y mutación es conocido como una generación.  \n",
        "\n",
        "\n"
      ]
    },
    {
      "cell_type": "markdown",
      "metadata": {
        "id": "irBwHUXL3Ox0"
      },
      "source": [
        "1.\tUna población de individuos es usada para empezar el proceso en lugar de una sola solución.  Debido a que varias soluciones son usadas, los AGs son menos propensos a quedarse atrapados en óptimos locales\n",
        "\n",
        "2.\tLos AGs usan solo el valor de la función objetivo. Las derivadas no se usan en el proceso de búsqueda\n",
        "\n",
        "3.\tEn los AGs las soluciones se representan como cadenas de variables binarias a las que se les llaman cromosomas. Por lo tanto, el método de búsqueda es naturalmente aplicable para resolver problemas de programación discreta y entera. Para obtener soluciones de valor real, una función que convierta las variables binarias en reales debe ser empleada\n",
        "\n",
        "4.\tEl valor de la función objetivo evaluada en una solución representa la bondad de esta solución y se le llama el fitness de la solución.  \n",
        "\n",
        "5.\tUna nueva generación de cromosomas se forma a través de la aplicación de tres operadores genéticos; la selección de individuos en la población actual para obtener a los padres (cromosomas que se usan para generar la siguiente generación), cruzamiento de de estos padres para generar hijos (cromosomas obtenidos a través de la combinación de los cromosomas padres) y la mutación de los hijos. A pesar de la aleatorización, los AGs no son simples técnicas de búsqueda aleatorias. Ellos exploran eficientemente las nuevas combinaciones con el conocimiento disponible para encontrar una nueva generación con mejore fitness. "
      ]
    },
    {
      "cell_type": "markdown",
      "metadata": {
        "id": "jwyCluUV5kfW"
      },
      "source": [
        "### Ejemplo para mostrar el funcionamiento de los AGs\n",
        "\n",
        "Con el objetivo de explicar el funcionamiento de los AGs se mostrará la implementación de un AG para resolver un problema de optimización relativamente sencillo. \n",
        "\n",
        "El problema que se usará como ejemplo es el siguiente.\n",
        "\n",
        "Maximizar:\n",
        "\n",
        "$$\n",
        "f(x) = \\text{sen}{\\left( \\frac{\\pi x}{2^{n_b}} \\right)} \\tag{1}\n",
        "$$\n",
        "\n",
        "Sujeto a:\n",
        "\n",
        "$$\n",
        "0 < x < 250 \\tag{2}\n",
        "$$\n",
        "\n",
        "$$\n",
        "x = \\sum_{i=1}^{n_b} b(i) 2^{i-1} \\tag{3}\n",
        "$$\n",
        "\n",
        "\n",
        "donde $x$ es la versión entera de un número binario $b$ y $n_b$ es el número de bits en este número binario. El rango de búsqueda es de 0 a 250. En este ejemplo se emplean ocho bits para poder cubrir todo el rango de búsqueda, es decir ${n_b} = 8$.\n"
      ]
    },
    {
      "cell_type": "markdown",
      "metadata": {
        "id": "VYOer6m4-Qjp"
      },
      "source": [
        "hola "
      ]
    },
    {
      "cell_type": "code",
      "metadata": {
        "id": "Yh3-FB2JOe2Z",
        "colab": {
          "base_uri": "https://localhost:8080/",
          "height": 34
        },
        "outputId": "4ad4c2d1-7c54-4a20-ad9f-0804f29a33e4"
      },
      "source": [
        "# número de bits necesarios para cubrir el rango de búsqueda\n",
        "nb = ceiling(log(250,2))\n",
        "nb"
      ],
      "execution_count": 61,
      "outputs": [
        {
          "output_type": "display_data",
          "data": {
            "text/plain": [
              "[1] 8"
            ],
            "text/latex": "8",
            "text/markdown": "8",
            "text/html": [
              "8"
            ]
          },
          "metadata": {
            "tags": []
          }
        }
      ]
    },
    {
      "cell_type": "code",
      "metadata": {
        "id": "mac3VRd6fDrf"
      },
      "source": [
        "#@title función para graficar la función objetivo\n",
        "objetivo_grafica = function(x, nb) {\n",
        "\n",
        "    f = sin(pi*(as.numeric(x))/(2^nb))\n",
        "\n",
        "    return(f)\n",
        "}"
      ],
      "execution_count": 62,
      "outputs": []
    },
    {
      "cell_type": "code",
      "metadata": {
        "id": "mHF8AqPsfME7",
        "colab": {
          "base_uri": "https://localhost:8080/",
          "height": 437
        },
        "cellView": "form",
        "outputId": "66879664-cbf2-4c09-d83d-6c41ea050b9f"
      },
      "source": [
        "#@title graficar función objetivo\n",
        "x = seq(0,250,1)\n",
        "func = objetivo_grafica(x, bits)\n",
        "par(mar = c(5,7,4,2) + 0.1)\n",
        "plot(x,func, type = \"l\", lwd = 4, col = \"darkblue\", cex.lab = 2, cex.axis = 2, xlab = \"x\", ylab = \"f(x)\")\n",
        "points(128,1,col = \"brown\", cex = 4, pch = 20)"
      ],
      "execution_count": 63,
      "outputs": [
        {
          "output_type": "display_data",
          "data": {
            "image/png": "[encoded data removed]",
            "text/plain": [
              "plot without title"
            ]
          },
          "metadata": {
            "tags": [],
            "image/png": {
              "width": 420,
              "height": 420
            }
          }
        }
      ]
    },
    {
      "cell_type": "markdown",
      "metadata": {
        "id": "ZCc95a3s7OWw"
      },
      "source": [
        "Figura 1. "
      ]
    },
    {
      "cell_type": "markdown",
      "metadata": {
        "id": "ygyqf6dNCdsQ"
      },
      "source": [
        "En la Fig. 1 se muestra la gráfica de la función (1). Pese a que esta función es sencilla y obtener su máximo no requiere el uso de AGs se emplea para explicar los conceptos relacionados con la implenentación de AGs. "
      ]
    },
    {
      "cell_type": "markdown",
      "metadata": {
        "id": "Iwuu6bBs4OdR"
      },
      "source": [
        "### Codificación \n",
        "\n",
        "La codificación de las soluciones se refiere a la forma en la que las soluciones en la población son representadas. Existen dos principales tipos de representaciones en un AG. La condificación como números binarios y la codificación como números reales. La codificación binaria fue presentada con la version original de los AGs. La codificación real puede ser necesaria si el problema que se está resolviendo requiere el uso de vectores de valor real. En este último caso es posible programar un algoritmo genético que trabaje completamente con vectores reales o emplear una función que permita transformar vectores de tipo binario a vectores de tipo real.  "
      ]
    },
    {
      "cell_type": "markdown",
      "metadata": {
        "id": "fXumKgx8C_Dp"
      },
      "source": [
        "Para el ejemplo que se analiza en esta sección se requieren una representación de las soluciones como números binarios, ya que el óptimo de (1) es $x = 128$, que en su forma de número binario se expresa como $b = (1,0,0,0,0,0,0,0)$. Por esta razón es necesaria la función (2) que permite convertir un número binario en un número entero. "
      ]
    },
    {
      "cell_type": "code",
      "metadata": {
        "cellView": "form",
        "id": "nHnCpQw4afWQ"
      },
      "source": [
        "#@title función para transformar binario en entero\n",
        "binario_a_entero = function(binario) {\n",
        "\n",
        "    index = (length(binario)-1):0\n",
        "\n",
        "    entero = sum(2^{index}*binario)\n",
        "\n",
        "    return(entero)\n",
        "}"
      ],
      "execution_count": 64,
      "outputs": []
    },
    {
      "cell_type": "code",
      "metadata": {
        "id": "avGuQmZfRSl1",
        "colab": {
          "base_uri": "https://localhost:8080/",
          "height": 34
        },
        "outputId": "1e2445c5-8289-4e9d-aaf3-0820dfa71714"
      },
      "source": [
        "binario_a_entero(c(1,0,0,0,0,0,0,0))"
      ],
      "execution_count": 65,
      "outputs": [
        {
          "output_type": "display_data",
          "data": {
            "text/plain": [
              "[1] 128"
            ],
            "text/latex": "128",
            "text/markdown": "128",
            "text/html": [
              "128"
            ]
          },
          "metadata": {
            "tags": []
          }
        }
      ]
    },
    {
      "cell_type": "markdown",
      "metadata": {
        "id": "dHlMzqcuExxg"
      },
      "source": [
        "Una vez que se cuenta con esta función es posible crear una población de individuos representados como números binarios y luego transformarlos para obtener su valor equivalente como números enteros.\n",
        "Por ejemplo el número binario $b = (0,1,0,0,0,1,0,0)$ se transforma a su forma entera para dar 68. En el ejemplo se usan 8 bits para representar cada número binario ya que este número de bits permite representar un valor máximo 255, con lo que se cubre todo el espacio de búsqueda de 0 a 250. "
      ]
    },
    {
      "cell_type": "markdown",
      "metadata": {
        "id": "i9TEew5HOqFH"
      },
      "source": [
        "Tabla 1. Representación como número binario y como número entero de posibles soluciones del problema de optimización del ejemplo \n",
        "\n",
        "| número binario | número entero | fitness |\n",
        "|:---:|:---:|:---:|\n",
        "| 01000100 | 68 | 0.7409511 |\n",
        "| 01101101 | 109 | 0.97294 |\n",
        "| 11101101 | 237 | 0.2310581\n"
      ]
    },
    {
      "cell_type": "code",
      "metadata": {
        "id": "LY-eiejMFVCf",
        "colab": {
          "base_uri": "https://localhost:8080/"
        },
        "outputId": "515cc801-5d77-4ceb-fd09-8874c7d7c968"
      },
      "source": [
        "bin1 = c(0,1,0,0,0,1,0,0)\n",
        "sol1 = binario_a_entero(bin1)\n",
        "print(sol1)\n",
        "bin2 = c(0,1,1,0,1,1,0,1)\n",
        "sol2 = binario_a_entero(bin2)\n",
        "print(sol2)\n",
        "bin3 = c(1,1,1,0,1,1,0,1)\n",
        "sol3 = binario_a_entero(bin3)\n",
        "print(sol3)"
      ],
      "execution_count": 66,
      "outputs": [
        {
          "output_type": "stream",
          "text": [
            "[1] 68\n",
            "[1] 109\n",
            "[1] 237\n"
          ],
          "name": "stdout"
        }
      ]
    },
    {
      "cell_type": "code",
      "metadata": {
        "id": "JR5XdwTMAmtG"
      },
      "source": [
        "# función objetivo\n",
        "objetivo = function(binario) {\n",
        "\n",
        "    bits = length(binario)\n",
        "\n",
        "    entero = binario_a_entero(binario) \n",
        "\n",
        "    f = sin(pi*(as.numeric(entero))/(2^bits))\n",
        "\n",
        "    return(f)\n",
        "\n",
        "}"
      ],
      "execution_count": 67,
      "outputs": []
    },
    {
      "cell_type": "code",
      "metadata": {
        "id": "baMXpLAnP_4g",
        "colab": {
          "base_uri": "https://localhost:8080/"
        },
        "outputId": "21609f6c-9a1c-4978-b9e1-0f8c39e1aa86"
      },
      "source": [
        "fit1 = objetivo(bin1)\n",
        "print(fit1)\n",
        "fit1 = objetivo(bin2)\n",
        "print(fit1)\n",
        "fit1 = objetivo(bin3)\n",
        "print(fit1)"
      ],
      "execution_count": 68,
      "outputs": [
        {
          "output_type": "stream",
          "text": [
            "[1] 0.7409511\n",
            "[1] 0.97294\n",
            "[1] 0.2310581\n"
          ],
          "name": "stdout"
        }
      ]
    },
    {
      "cell_type": "code",
      "metadata": {
        "id": "MvFsIq4sAsGs",
        "cellView": "form"
      },
      "source": [
        "#@title función para crear individuo \n",
        "crear_individuo = function(bits, pool) {\n",
        "\n",
        "    individuo = sample(pool, bits, replace = TRUE)\n",
        "\n",
        "    return(individuo)\n",
        "}"
      ],
      "execution_count": 69,
      "outputs": []
    },
    {
      "cell_type": "code",
      "metadata": {
        "id": "lQZVuDMBA7el",
        "colab": {
          "base_uri": "https://localhost:8080/",
          "height": 34
        },
        "outputId": "fce95ec2-3978-469a-cca7-3586f8a5a71c"
      },
      "source": [
        "pool = c(0,1)\n",
        "ind = crear_individuo(nb, pool)\n",
        "ind"
      ],
      "execution_count": 70,
      "outputs": [
        {
          "output_type": "display_data",
          "data": {
            "text/plain": [
              "[1] 1 0 1 0 1 0 0 1"
            ],
            "text/latex": "\\begin{enumerate*}\n\\item 1\n\\item 0\n\\item 1\n\\item 0\n\\item 1\n\\item 0\n\\item 0\n\\item 1\n\\end{enumerate*}\n",
            "text/markdown": "1. 1\n2. 0\n3. 1\n4. 0\n5. 1\n6. 0\n7. 0\n8. 1\n\n\n",
            "text/html": [
              "<style>\n",
              ".list-inline {list-style: none; margin:0; padding: 0}\n",
              ".list-inline>li {display: inline-block}\n",
              ".list-inline>li:not(:last-child)::after {content: \"\\00b7\"; padding: 0 .5ex}\n",
              "</style>\n",
              "<ol class=list-inline><li>1</li><li>0</li><li>1</li><li>0</li><li>1</li><li>0</li><li>0</li><li>1</li></ol>\n"
            ]
          },
          "metadata": {
            "tags": []
          }
        }
      ]
    },
    {
      "cell_type": "code",
      "metadata": {
        "id": "DHD52TMcBARJ",
        "colab": {
          "base_uri": "https://localhost:8080/",
          "height": 34
        },
        "outputId": "c4dfdedf-af42-4e13-87d3-92c4e8eea276"
      },
      "source": [
        "# evaluar objetivo \n",
        "objetivo(ind)"
      ],
      "execution_count": 71,
      "outputs": [
        {
          "output_type": "display_data",
          "data": {
            "text/plain": [
              "[1] 0.8760701"
            ],
            "text/latex": "0.876070094195407",
            "text/markdown": "0.876070094195407",
            "text/html": [
              "0.876070094195407"
            ]
          },
          "metadata": {
            "tags": []
          }
        }
      ]
    },
    {
      "cell_type": "code",
      "metadata": {
        "id": "Q3mSLvZmBMP3",
        "cellView": "form"
      },
      "source": [
        "#@title función para crear población\n",
        "\n",
        "crear_poblacion = function(N, bits, pool) {\n",
        "    pop = matrix(nrow = N, ncol = bits)\n",
        "    for (i in 1:N) {\n",
        "\n",
        "        pop[i,] = crear_individuo(bits, pool)\n",
        "    }\n",
        "\n",
        "    return(pop)\n",
        "}"
      ],
      "execution_count": 72,
      "outputs": []
    },
    {
      "cell_type": "code",
      "metadata": {
        "id": "MYx_JIQJBrIm",
        "colab": {
          "base_uri": "https://localhost:8080/",
          "height": 158
        },
        "outputId": "4f9636ff-cf3d-44d3-a9ff-8c4c5f3b8218"
      },
      "source": [
        "N = 4\n",
        "poblacion = crear_poblacion(N, nb, pool)\n",
        "poblacion"
      ],
      "execution_count": 73,
      "outputs": [
        {
          "output_type": "display_data",
          "data": {
            "text/plain": [
              "     [,1] [,2] [,3] [,4] [,5] [,6] [,7] [,8]\n",
              "[1,] 0    0    1    1    0    1    1    1   \n",
              "[2,] 0    0    0    0    1    0    0    1   \n",
              "[3,] 0    0    1    1    1    1    1    0   \n",
              "[4,] 0    0    1    1    0    0    1    0   "
            ],
            "text/latex": "A matrix: 4 × 8 of type dbl\n\\begin{tabular}{llllllll}\n\t 0 & 0 & 1 & 1 & 0 & 1 & 1 & 1\\\\\n\t 0 & 0 & 0 & 0 & 1 & 0 & 0 & 1\\\\\n\t 0 & 0 & 1 & 1 & 1 & 1 & 1 & 0\\\\\n\t 0 & 0 & 1 & 1 & 0 & 0 & 1 & 0\\\\\n\\end{tabular}\n",
            "text/markdown": "\nA matrix: 4 × 8 of type dbl\n\n| 0 | 0 | 1 | 1 | 0 | 1 | 1 | 1 |\n| 0 | 0 | 0 | 0 | 1 | 0 | 0 | 1 |\n| 0 | 0 | 1 | 1 | 1 | 1 | 1 | 0 |\n| 0 | 0 | 1 | 1 | 0 | 0 | 1 | 0 |\n\n",
            "text/html": [
              "<table class=\"dataframe\">\n",
              "<caption>A matrix: 4 × 8 of type dbl</caption>\n",
              "<tbody>\n",
              "\t<tr><td>0</td><td>0</td><td>1</td><td>1</td><td>0</td><td>1</td><td>1</td><td>1</td></tr>\n",
              "\t<tr><td>0</td><td>0</td><td>0</td><td>0</td><td>1</td><td>0</td><td>0</td><td>1</td></tr>\n",
              "\t<tr><td>0</td><td>0</td><td>1</td><td>1</td><td>1</td><td>1</td><td>1</td><td>0</td></tr>\n",
              "\t<tr><td>0</td><td>0</td><td>1</td><td>1</td><td>0</td><td>0</td><td>1</td><td>0</td></tr>\n",
              "</tbody>\n",
              "</table>\n"
            ]
          },
          "metadata": {
            "tags": []
          }
        }
      ]
    },
    {
      "cell_type": "markdown",
      "metadata": {
        "id": "dSLNr24MSozK"
      },
      "source": [
        "### Función fitness \n",
        "\n",
        "La función fitness es una función que mide que tan buena es una solución. Debe ser establecida de tal forma que una mejor solución tendrá un mayor fitness que peores soluciones.  La función fitness juega un papel fundamental en el proceso de selección. Si se busca maximizar la función objetivo, en algunos casos es posible establecer la función objetivo directamente como la función fitness. Si el problema de optimización busca minimizar la función objetivo, la función fitness tiene que ser planteada de tal forma que el mínimo de la función objetivo corresponda al máximo de la función fitness. Por ejemplo, si se quiere minimizar la función $f(x)$ la función fitness puede ser escrita de la siguiente manera.\n",
        "\n",
        "$$\n",
        "\\text{fitness}(x) = \\frac{1}{1 + f(x)} \\tag{5}\n",
        "$$\n",
        "\n",
        "De esta manera, el valor $x^{opt}$ que genera el valor máximo de $\\text{fitness(x)}$ da lugar al valor mínimo de $f(x)$. El aspecto importante que hay que recrodar es que la mejor solución en el AG tiene que tener el mayor valor de la función fitness. "
      ]
    },
    {
      "cell_type": "code",
      "metadata": {
        "id": "cWzCSETpBzKu",
        "colab": {
          "base_uri": "https://localhost:8080/",
          "height": 34
        },
        "outputId": "184d9847-e663-4b34-bb57-6be9b55bbef0"
      },
      "source": [
        "# evaluar objetivo \n",
        "apply(poblacion, 1, objetivo)"
      ],
      "execution_count": 74,
      "outputs": [
        {
          "output_type": "display_data",
          "data": {
            "text/plain": [
              "[1] 0.6248595 0.1102222 0.6895405 0.5758082"
            ],
            "text/latex": "\\begin{enumerate*}\n\\item 0.624859488142386\n\\item 0.110222207293883\n\\item 0.689540544737067\n\\item 0.575808191417845\n\\end{enumerate*}\n",
            "text/markdown": "1. 0.624859488142386\n2. 0.110222207293883\n3. 0.689540544737067\n4. 0.575808191417845\n\n\n",
            "text/html": [
              "<style>\n",
              ".list-inline {list-style: none; margin:0; padding: 0}\n",
              ".list-inline>li {display: inline-block}\n",
              ".list-inline>li:not(:last-child)::after {content: \"\\00b7\"; padding: 0 .5ex}\n",
              "</style>\n",
              "<ol class=list-inline><li>0.624859488142386</li><li>0.110222207293883</li><li>0.689540544737067</li><li>0.575808191417845</li></ol>\n"
            ]
          },
          "metadata": {
            "tags": []
          }
        }
      ]
    },
    {
      "cell_type": "code",
      "metadata": {
        "id": "3Z_jwFR1B7CZ"
      },
      "source": [
        "obtener_fitness = function(pop) {\n",
        "    # en este caso la función fitness es igual a la función objetivo \n",
        "    fitness = apply(pop, 1, objetivo)\n",
        "\n",
        "    return(fitness)\n",
        "}"
      ],
      "execution_count": 75,
      "outputs": []
    },
    {
      "cell_type": "code",
      "metadata": {
        "id": "mHKgNpxGCLXz",
        "colab": {
          "base_uri": "https://localhost:8080/",
          "height": 34
        },
        "outputId": "6abecaa1-9447-43d3-8651-56db26850a45"
      },
      "source": [
        "fitness = obtener_fitness(poblacion)\n",
        "fitness"
      ],
      "execution_count": 76,
      "outputs": [
        {
          "output_type": "display_data",
          "data": {
            "text/plain": [
              "[1] 0.6248595 0.1102222 0.6895405 0.5758082"
            ],
            "text/latex": "\\begin{enumerate*}\n\\item 0.624859488142386\n\\item 0.110222207293883\n\\item 0.689540544737067\n\\item 0.575808191417845\n\\end{enumerate*}\n",
            "text/markdown": "1. 0.624859488142386\n2. 0.110222207293883\n3. 0.689540544737067\n4. 0.575808191417845\n\n\n",
            "text/html": [
              "<style>\n",
              ".list-inline {list-style: none; margin:0; padding: 0}\n",
              ".list-inline>li {display: inline-block}\n",
              ".list-inline>li:not(:last-child)::after {content: \"\\00b7\"; padding: 0 .5ex}\n",
              "</style>\n",
              "<ol class=list-inline><li>0.624859488142386</li><li>0.110222207293883</li><li>0.689540544737067</li><li>0.575808191417845</li></ol>\n"
            ]
          },
          "metadata": {
            "tags": []
          }
        }
      ]
    },
    {
      "cell_type": "code",
      "metadata": {
        "id": "0ZovCYi3BSU9",
        "colab": {
          "base_uri": "https://localhost:8080/",
          "height": 437
        },
        "outputId": "360137f4-d81b-496b-df36-082ba592b88c"
      },
      "source": [
        "x = seq(0,250,1)\n",
        "func = objetivo_grafica(x, bits)\n",
        "par(mar = c(5,7,4,2) + 0.1)\n",
        "plot(x,func, type = \"l\", lwd = 4, col = \"darkblue\", cex.lab = 2, cex.axis = 2, xlab = \"x\", ylab = \"f(x)\")\n",
        "points(apply(poblacion,1,binario_a_entero), fitness, col = \"brown\", cex = 4, pch = 20)"
      ],
      "execution_count": 77,
      "outputs": [
        {
          "output_type": "display_data",
          "data": {
            "image/png": "[encoded data removed]",
            "text/plain": [
              "plot without title"
            ]
          },
          "metadata": {
            "tags": [],
            "image/png": {
              "width": 420,
              "height": 420
            }
          }
        }
      ]
    },
    {
      "cell_type": "markdown",
      "metadata": {
        "id": "udybXe_CaGjb"
      },
      "source": [
        "## Selección \n",
        "\n",
        "La selección es el primer operador aplicado a la población para seleccionar a los cromosomas con valores de fitness altos y formar la población de padres. El operador de selección se usa para escoger a los cromosomas por arriba del promedio de la población actual e insertar sus múltiples copias en la población de padres basado en un procedimiento probabilístico (2019--modern). \n",
        "\n",
        "### Selección proporcional \n",
        "\n",
        "El operador de selección más común  para los GAs se denomina selección proporcional al fitness, a veces conocida como selección de ruleta. En este método, se seleccionan a los cromosomas en proporción a su fitness: si un cromosoma tiene un fitness más alto, se selecciona con más frecuencia. Un cromosoma con un fitness alto tiene mayor probabilidad de tener copias de él en la población de padres (2014--esentials). Por lo tanto, si $\\text{fitness}(i)$ denota el fitness del cromosoma $i$ en la población de tamaño $N$, la probabilidad de seleccionar al cromosoma $i$ para la población de padres está dada por.\n",
        "\n",
        "$$\n",
        "p(i) = \\frac{\\text{fitness}(i)}{\\sum_{j=1}^N\\text{fitness}(j)} \\tag{6}\n",
        "$$\n",
        "\n",
        "donde $p(i)$ es la probabilidad de seleccionar al cromosoma $i$.\n",
        "\n",
        "Estas probabilidades son usadas para calcular la probabilidad acumulada de cada cromosoma, $p_a(i)$, mediante la adición de las probabilidades del cromosoma 1 hasta el cromosoma $i$. \n",
        "\n",
        "$$\n",
        "p_a(i) = \\sum_{j}^{i}p(i) \\tag{7}\n",
        "$$\n",
        "\n",
        "Nota que el último cromosoma en la población tendrá una probabilidad acumulada $p_a(N)$ igual a 1. Para la selección de un cromosoma se asocia el rango de probabilidad acumulada $p_a(i-1) - p_a(i)$ con el cromosoma $i$ en la población. Posteriormente, se genera un número aleatorio entre 0 y 1 y se escoge el cromosoma que tiene el rango de probabilidad acumulado en donde se encuentra el número aleatorio generado. \n",
        "\n",
        "La implementación del proceso de selección proporcional se puede entender si se imagina una rueda de ruleta con su circunferencia dividida en segmentos, uno para cada cromosoma de la población, con las áreas de los segmentos proporcionales al fitness de los cromosomas.  Si se gira la rueda de ruleta $N$ veces ($N$ siendo el tamaño de la población) y seleccionando, cada vez, el cromosoma elegido por el apuntador de la rueda de ruleta, obtenemos una población de padres de tamaño $N$. "
      ]
    },
    {
      "cell_type": "markdown",
      "metadata": {
        "id": "fwANsAZUR-Oe"
      },
      "source": [
        "![image.png](data:image/png;base64,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)"
      ]
    },
    {
      "cell_type": "markdown",
      "metadata": {
        "id": "hZJHEx7NkmPS"
      },
      "source": [
        "Figura 2. Esquema de selección proporcional. Cada cromosoma en la población tiene un espacio en la ruleta que es proporcional a su fitness. Por lo tanto, los cromosomas con un valor fitness alto tienen mayor probabilidad de ser seleccionados.  "
      ]
    },
    {
      "cell_type": "code",
      "metadata": {
        "id": "FUHr6OHnCM18"
      },
      "source": [
        "seleccion_proporcional = function(poblacion, fitness, N, nb) {\n",
        "    padres = matrix(nrow = N, ncol = nb)\n",
        "    prob = fitness/sum(fitness)\n",
        "    prob_acum = prob\n",
        "    for (i in 2:N) {\n",
        "        prob_acum[i] = prob_acum[i] + prob_acum[i-1]\n",
        "    }\n",
        "    for (i in 1:N) {\n",
        "        rand = runif(1,0,1)\n",
        "        min = 0\n",
        "        for (j in 1:length(prob_acum)) {\n",
        "            if (rand > min & rand < prob_acum[j]) {\n",
        "                padres[i,] = poblacion[j,]\n",
        "                break\n",
        "            }\n",
        "            min = prob_acum[j]\n",
        "        }\n",
        "    }\n",
        "    return(padres)\n",
        "} "
      ],
      "execution_count": 78,
      "outputs": []
    },
    {
      "cell_type": "markdown",
      "metadata": {
        "id": "tJBb3yNsDtPE"
      },
      "source": [
        "Algoritmo para la implementación de la selección proporcional. La función que realiza la selección recibe cuatro argumentos. El primer argumento es una matriz llamada $\\text{poblacion}$ que contiene a la población de cromosomas que serán seleccionados. En esta matriz cada renglón contiene a un cromosoma (número binario) y cada columna contiene un gen (bit) de estos cromosomas. Por lo tanto, si la población está compuesta por $N$ individuos con un número de genes igual a $\\text{bits}$, la matriz $\\text{poblacion}$ tendrá $N$ renglones y $\\text{bits}$ columnas. El segundo argumento es un vector llamado $\\text{fitness}$ con el valor fitness  de cada cromosoma en la población. El tercer argumento es el número de cromosomas en la población, $N$, y el último argumento es el número de genes, $\\text{bits}$, de cada cromosoma en la población. Los pasos del algoritmo son: \n",
        "\n",
        "1. Se crear una matriz llamada $\\text{padres}$ con las mismas dimensiones que la matriz $\\text{poblacion}$ donde se guardarán a las copias de los individuos seleccionados (renglón 2). \n",
        "\n",
        "2. Usando la ecuación (3) se obtiene la probabilidad de selección de cada cromosoma, $p(i)$ (renglón 4).\n",
        "\n",
        "3. Mediante la ecuación (4) se obtiene el rango de probabilidad acumulada para cada cromosoma, $p_a(i)$\n",
        "\n",
        "Los siguientes pasos se realizan hasta que la población de padres ha sido completada\n",
        "\n",
        "4. Se genera un valor aleatorio entre 0 y 1 llamado $\\text{rand}$\n",
        "\n",
        "5. Comenzando con el primer cromosoma en la población, se determina si $\\text{rand}$ se encuentra dentro del rango de probabilidad acumulada del cromosoma $i$. De ser así, se escoge este cromosoma, de lo contrario, se procede a realizar la prueba con el siguiente cromosoma en la población hasta que un cromosoma es escogido. \n",
        "\n",
        "Una vez que se han escogido $N$ copias de los cromosomas en la matriz $\\text{poblacion}$ para llenar la matriz $\\text{padres}$ el algoritmo regresa la población de padres (renglón 20)."
      ]
    },
    {
      "cell_type": "markdown",
      "metadata": {
        "id": "6Ru5qJf-JbP1"
      },
      "source": [
        "Mediante este procedimiento, el cromosoma con el mayor valor fitness será seleccionado más frecuentemente a la población de padres debido a su mayor rango de probabilidad acumulada. Por esta razón, cromosomas con altos valores fitness en la población probabilísticamente obtienen más copias en la población de padres. Es importante notar que no se forman nuevos cromosomas durante la etapa de selección, solo se copian las cadenas existentes en la población a la población de padres. La etapa de selección garantiza que cromosomas con altos valores fitness sobrevivan y se reproduzcan, y cromosomas menos aptos mueran. \n"
      ]
    },
    {
      "cell_type": "code",
      "metadata": {
        "id": "_LrUIVnPDZBU",
        "colab": {
          "base_uri": "https://localhost:8080/",
          "height": 158
        },
        "outputId": "4e912ba9-576a-483e-e61d-c76e3c368da8"
      },
      "source": [
        "N = 4\n",
        "nb = 8\n",
        "seleccion_proporcional(poblacion, fitness, N, bits)"
      ],
      "execution_count": 79,
      "outputs": [
        {
          "output_type": "display_data",
          "data": {
            "text/plain": [
              "     [,1] [,2] [,3] [,4] [,5] [,6] [,7] [,8]\n",
              "[1,] 0    0    1    1    0    1    1    1   \n",
              "[2,] 0    0    1    1    0    1    1    1   \n",
              "[3,] 0    0    1    1    1    1    1    0   \n",
              "[4,] 0    0    1    1    0    0    1    0   "
            ],
            "text/latex": "A matrix: 4 × 8 of type dbl\n\\begin{tabular}{llllllll}\n\t 0 & 0 & 1 & 1 & 0 & 1 & 1 & 1\\\\\n\t 0 & 0 & 1 & 1 & 0 & 1 & 1 & 1\\\\\n\t 0 & 0 & 1 & 1 & 1 & 1 & 1 & 0\\\\\n\t 0 & 0 & 1 & 1 & 0 & 0 & 1 & 0\\\\\n\\end{tabular}\n",
            "text/markdown": "\nA matrix: 4 × 8 of type dbl\n\n| 0 | 0 | 1 | 1 | 0 | 1 | 1 | 1 |\n| 0 | 0 | 1 | 1 | 0 | 1 | 1 | 1 |\n| 0 | 0 | 1 | 1 | 1 | 1 | 1 | 0 |\n| 0 | 0 | 1 | 1 | 0 | 0 | 1 | 0 |\n\n",
            "text/html": [
              "<table class=\"dataframe\">\n",
              "<caption>A matrix: 4 × 8 of type dbl</caption>\n",
              "<tbody>\n",
              "\t<tr><td>0</td><td>0</td><td>1</td><td>1</td><td>0</td><td>1</td><td>1</td><td>1</td></tr>\n",
              "\t<tr><td>0</td><td>0</td><td>1</td><td>1</td><td>0</td><td>1</td><td>1</td><td>1</td></tr>\n",
              "\t<tr><td>0</td><td>0</td><td>1</td><td>1</td><td>1</td><td>1</td><td>1</td><td>0</td></tr>\n",
              "\t<tr><td>0</td><td>0</td><td>1</td><td>1</td><td>0</td><td>0</td><td>1</td><td>0</td></tr>\n",
              "</tbody>\n",
              "</table>\n"
            ]
          },
          "metadata": {
            "tags": []
          }
        }
      ]
    },
    {
      "cell_type": "markdown",
      "metadata": {
        "id": "w0xYUFieKPQE"
      },
      "source": [
        "### Selección de torneo\n",
        "\n",
        "Existe algunos problemas con el método de selección proporcional. Ese método supone que el valor fitness de un cromosoma realmente significa algo importante. Pero a menudo se elige una función fitness tal que los valores grandes sean \"mejores\" que los más pequeños, y no se pretende implicar nada más (2016--essentials). Además, si un cromosoma posee un valor fitness bastante superior al resto, existe la posibilidad de que varias copias de este cromosoma sean insertadas en la población de padres, con lo cual se reduce rápidamente la diversidad  y se podría converger a un mínimo local. \n",
        "\n",
        "En la selección de torneo una muestra de $t$ cromosomas es tomada aleatoriamente de la población. Ellos pueden ser tomados de la población con o sin remplazo. Esta muestra toma parte en un torneo. En este torneo los cromosomas en la muestra compiten para selecciónar el cromosoma que formará parte de la población de padres. El cromosoma ganador es el que posee mayor fitness. El proceso se repite $N$ veces para completar la población de padres. A menudo, el torneo se realiza con dos cromosomas (torneo binario). Sin embargo, esto puede ser generalizado a un número arbitrario de tamaño $t$ llamado tamaño del torneo (1997--a comparison).\n",
        "\n",
        "La selección de torneo puede además ajustar la presión de selección para adaptarse a diferentes problemas. La presión de selección se incrementa mediante el aumento del tamaño de torneo $t$. Si el tamaño de torneo es grande, los cromosomas débiles (menor fitness) tienen una pequeña probabilidad de ser seleccionados, debido a que si un cromosoma débil se encuentra en una muestra grande de cromosomas hay mayor probabilidad de que exsitan cromosomas más fuertes (mayor fitness). Cuando el tamaño de torneo es 1 el proceso de selección es equivalente a la selección aleatoria, en cambio, cuando el tamaño del torneo es considerablemente superior al tamaño de la población, existe una gran probabilidad de elegir al mejor cromosoma en cada torneo, con lo que la selección se vuelve determinista (1995--Genetic). Un aspecto interesante de este método de selección es que, siempre que se pueda comparar dos individuos cualesquiera y determinar cuál de ellos es mejor, no se necesita el valor real de la función fitness (Hands on GA with Python). \n"
      ]
    },
    {
      "cell_type": "markdown",
      "metadata": {
        "id": "rObIrZbs_Uz_"
      },
      "source": [
        "![image.png](data:image/png;base64,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)"
      ]
    },
    {
      "cell_type": "markdown",
      "metadata": {
        "id": "YdYUZRHCCJZ-"
      },
      "source": [
        "Figura 3. Esquema de selección de torneo. En una población de $N$ individuos se toma una muestra de individuos de tamaño $t$. Se escoge el individuo con mayor fitness en esta muestra para fromar parte de la población de padres. el proceso se repite $N$  veces para completar la población de padres.   "
      ]
    },
    {
      "cell_type": "code",
      "metadata": {
        "id": "OEZmV83rDhgR"
      },
      "source": [
        "selection_torneo = function(poblacion, t, N, nb) {\n",
        "    padres = matrix(nrow = N, ncol = nb)\n",
        "    for (i in 1:N) {\n",
        "        indices = sample(1:N, t, replace = FALSE)\n",
        "        individuos = poblacion[indices, ]\n",
        "        fitness = apply(individuos, 1, objetivo)\n",
        "        ganador = which.max(fitness)\n",
        "        padres[i,] = individuos[ganador,]\n",
        "    }\n",
        "    return(padres)\n",
        "}"
      ],
      "execution_count": 80,
      "outputs": []
    },
    {
      "cell_type": "markdown",
      "metadata": {
        "id": "wmc1qxDsDlRS"
      },
      "source": [
        "Algortimo 3. Selección de torneo. La función que realiza la selección recibe cuatro argumentos. El primer argumento es una matriz llamada $\\text{poblacion}$ que contiene a la población de cromosomas  de donde se seleccionarán los padres. El segundo argumento es el tamaño de la muestra de cromosomas $t$ que se toma de la población para realizar el torneo. El tercer argumento es el número de cromosomas en la población, $N$, y el último argumento es el número de genes, $\\text{bits}$, de cada cromosoma en la población.  \n",
        "\n",
        "1. El primer paso en el algoritmo es crear una matriz llamada  $\\text{padres}$  con las mismas dimensiones que la matriz  $\\text{poblacion}$  donde se guardarán a las copias de los cromosomas seleccionados (renglón 2). \n",
        "\n",
        "Los siguientes pasos se repiten $N$ número de veces. \n",
        "\n",
        "1. Se toma una muestra sin remplazo de $t$ cromosomas de la población (renglón 6 - renglón 7)\n",
        "\n",
        "2. Se calcula el valor fitness de los cromosomas en la muestra (renglón 9)\n",
        "\n",
        "3. Se determina quién es el cromosoma ganador, es decir, qué cromosoma posee el mayor fitness (renglón 11)\n",
        "\n",
        "4. Se inserta el cromosoma ganador en la población de padres (renglón 13)\n",
        "\n",
        "Una vez que la población de padres ha sido completada el algoritmo regresa la población de padres (renglón 15). "
      ]
    },
    {
      "cell_type": "code",
      "metadata": {
        "id": "A_osC-WfIWSu",
        "colab": {
          "base_uri": "https://localhost:8080/",
          "height": 158
        },
        "outputId": "42542b35-a927-49ca-b346-2d7d62a3cde2"
      },
      "source": [
        "t = 2\n",
        "selection_torneo(poblacion, t, N, nb)"
      ],
      "execution_count": 81,
      "outputs": [
        {
          "output_type": "display_data",
          "data": {
            "text/plain": [
              "     [,1] [,2] [,3] [,4] [,5] [,6] [,7] [,8]\n",
              "[1,] 0    0    1    1    1    1    1    0   \n",
              "[2,] 0    0    1    1    0    0    1    0   \n",
              "[3,] 0    0    1    1    1    1    1    0   \n",
              "[4,] 0    0    1    1    1    1    1    0   "
            ],
            "text/latex": "A matrix: 4 × 8 of type dbl\n\\begin{tabular}{llllllll}\n\t 0 & 0 & 1 & 1 & 1 & 1 & 1 & 0\\\\\n\t 0 & 0 & 1 & 1 & 0 & 0 & 1 & 0\\\\\n\t 0 & 0 & 1 & 1 & 1 & 1 & 1 & 0\\\\\n\t 0 & 0 & 1 & 1 & 1 & 1 & 1 & 0\\\\\n\\end{tabular}\n",
            "text/markdown": "\nA matrix: 4 × 8 of type dbl\n\n| 0 | 0 | 1 | 1 | 1 | 1 | 1 | 0 |\n| 0 | 0 | 1 | 1 | 0 | 0 | 1 | 0 |\n| 0 | 0 | 1 | 1 | 1 | 1 | 1 | 0 |\n| 0 | 0 | 1 | 1 | 1 | 1 | 1 | 0 |\n\n",
            "text/html": [
              "<table class=\"dataframe\">\n",
              "<caption>A matrix: 4 × 8 of type dbl</caption>\n",
              "<tbody>\n",
              "\t<tr><td>0</td><td>0</td><td>1</td><td>1</td><td>1</td><td>1</td><td>1</td><td>0</td></tr>\n",
              "\t<tr><td>0</td><td>0</td><td>1</td><td>1</td><td>0</td><td>0</td><td>1</td><td>0</td></tr>\n",
              "\t<tr><td>0</td><td>0</td><td>1</td><td>1</td><td>1</td><td>1</td><td>1</td><td>0</td></tr>\n",
              "\t<tr><td>0</td><td>0</td><td>1</td><td>1</td><td>1</td><td>1</td><td>1</td><td>0</td></tr>\n",
              "</tbody>\n",
              "</table>\n"
            ]
          },
          "metadata": {
            "tags": []
          }
        }
      ]
    },
    {
      "cell_type": "markdown",
      "metadata": {
        "id": "_iTiOGJZG3x6"
      },
      "source": [
        "## Cruce\n",
        "\n",
        "Después de la selección, el operador de cruce es aplicado sobre la población de padres. El propósito del cruce es crear nuevos cromosomas mediante el intercambio de información entre cromosomas en la población de padres. En la mayoría de los operadores de cruce, dos cromosomas son escogidos de la población de padres y algunas partes de estos cromosomas son intercambiadas para generar nuevos cromosomas a los que se les denomina hijos (2009-modern). El cruce de dos cromosomas padres para generar dos individuos hijos no siempre da lugar a mejores cromosomas en términos de su valor fitness. Por esta razón, es conveniente preservar algunos cromosomas padres como parte de la población en la próxima generación.  El cruce se aplica a pares de padres con una probabilidad $p_c$ que suele estar entre 0.6 y 0.8. El operador de cruce juega el papel principal en los AGs, así que definir un operador de cruce adecuado es altamente necesario para lograr un buen resultado del AG (2004-studies).\n",
        "\n",
        "Debido a que el operador de cruce combina partes de los cromosomas padres (los cuales han sido escogidos por tener valores fitness altos) se espera que los cromosomas hijos resultantes tengan mejores valores fitness siempre que un sitio de cruce adecuado ha sido seleccionado. Sin embargo, el sitio de cruce se escoge de forma aleatoria. Los cromosomas hijos generados usando el sitio de cruce aleatorio podrían o no ser tan buenos o mejores que sus cromosomas padres en términos del valor fitness. Si ellos son tan buenos o mejores que sus padres contribuirán a un rápido mejoramiento en el promedio del valor fitness de la nueva población. Por otro lado, si los hijos creados son peores que sus padres, no sobrevivirán por muchas iteraciones debido a que son menos suceptibles a ser seleccionados en la siguiente etapa de selección (2009-modern)\n",
        "\n",
        "#### Cruce de un solo punto \n",
        "\n",
        "En el método de cruce de un solo punto se elige un sitio de cruce para dividir dos cromosomas padres en dos partes. Las partes que se obtiene son intercambiadas entre los padres para generar dos nuevos cromosomas hijos (2016--essentials). \n",
        "\n",
        "En el ejemplo de esta sección donde las soluciones están representados como números binarios, un sitio de cruce es seleccionado a lo largo de la longitud de los números binarios. Una vez que se establece el sitio de cruce, los bits de los números binarios padres de cada lado del sitio de cruce son intercambiados para generar nuevos números binarios hijos. "
      ]
    },
    {
      "cell_type": "markdown",
      "metadata": {
        "id": "BOoK0Zstpe86"
      },
      "source": [
        "![image.png](data:image/png;base64,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)"
      ]
    },
    {
      "cell_type": "markdown",
      "metadata": {
        "id": "QGLydyj3302E"
      },
      "source": [
        "Figura 4. Esquema de cruzamiento de un solo punto. Se escoge un sitio en la cadana de bits y se intercambian las partes de los padres en ambos lados del sitio para generar don hijos. "
      ]
    },
    {
      "cell_type": "code",
      "metadata": {
        "id": "rtjEc2U7IfqH"
      },
      "source": [
        "cruzamiento_un_punto = function(padres, pc, N, nb) {\n",
        "    hijos = matrix(nrow = N, ncol = nb)\n",
        "    for (i in 1:(N/2)) {\n",
        "        p1 = padres[2*i-1, ]\n",
        "        p2 = padres[2*i, ]\n",
        "        rand = runif(1,0,1)\n",
        "        if (rand < pc) {\n",
        "            sc = sample(2:(nb-1), 1)\n",
        "            p11 = p1[1:sc]\n",
        "            p12 = p1[(sc+1):nb]   \n",
        "            p21 = p2[1:sc]\n",
        "            p22 = p2[(sc+1):nb]\n",
        "            c1 = c(p11,p22)\n",
        "            c2 = c(p21,p12)\n",
        "            hijos[2*i-1, ] = c1\n",
        "            hijos[2*i, ] = c2\n",
        "        }\n",
        "        else {\n",
        "            hijos[2*i-1, ] = p1\n",
        "            hijos[2*i, ] = p2\n",
        "        }\n",
        "    }\n",
        "    return(hijos)\n",
        "}"
      ],
      "execution_count": 82,
      "outputs": []
    },
    {
      "cell_type": "markdown",
      "metadata": {
        "id": "rIlABfeHkKti"
      },
      "source": [
        "Algoritmo para la implementación del cruce de un punto. La función que realiza el cruce recibe cuatro argumentos. El primer argumento es una matriz llamada $\\text{padres}$ que contiene a la población de cromosomas padres. El segundo argumento es la probabilidad de que se realice el cruce $p_c$. El tercer argumento es el número de cromosomas en la población, $N$, y último argumento es el número de genes de cada individuo en la población $\\text{bits}$. \n",
        "\n",
        "1. El primer paso es crear una matriz llamada $\\text{hijos}$ donde se guardan los hijos generados en la etapa de cruce. Naturalmente, las dimensiones de esta matriz deben ser las mismas que las de $\\text{padres}$ (renglón 2). \n",
        "\n",
        "Luego se realizan los siguientes pasos por un $N/2$ número de veces. \n",
        "\n",
        "2. Se seleccionan dos cromosomas padres de la población de padres (renglón 6 - renglón 7)\n",
        "\n",
        "3. Se genera un número aleatorio entre 0 y 1 llamado $\\text{rand}$ (renglón 9)\n",
        "\n",
        "4. Si el número aleatorio generado en el paso 3 es menor que $p_c$ se realizan los pasos 5 a 8, de lo contrario se lleva a cabo el paso 9\n",
        "\n",
        "5. Se escoge un sitio en la cadena de bits para realizar el cruce entre los padres seleccionados (renglón 12)\n",
        "\n",
        "6. Se separa cada cromosoma padre en dos partes divididas por el sitio de cruce (renglón 14 - renglón 19)\n",
        "\n",
        "7. Se toman las partes de los padres del paso 5 y se intercambian para generar dos individuos hijos (renglón 19 - renglón 20)\n",
        "\n",
        "8. Se insertan los dos cromosomas hijos generados en la población de hijos (renglón 22 - renglón 25)\n",
        "\n",
        "9. En caso de que no se realice el cruce, se insertan los dos padres seleccionados en la población de hijos sin sufrir ningún cambio\n",
        "\n",
        "Una vez que la población de hijos ha sido completada el algoritmo regresa la población de hijos.\n"
      ]
    },
    {
      "cell_type": "code",
      "metadata": {
        "id": "79Z8CiavLtYn",
        "colab": {
          "base_uri": "https://localhost:8080/",
          "height": 158
        },
        "outputId": "b4370f0a-80f9-48f0-d309-e735e5ca6cb8"
      },
      "source": [
        "pc = 0.8\n",
        "cruzamiento_un_punto(poblacion, pc, N, nb)"
      ],
      "execution_count": 83,
      "outputs": [
        {
          "output_type": "display_data",
          "data": {
            "text/plain": [
              "     [,1] [,2] [,3] [,4] [,5] [,6] [,7] [,8]\n",
              "[1,] 0    0    1    1    0    1    1    1   \n",
              "[2,] 0    0    0    0    1    0    0    1   \n",
              "[3,] 0    0    1    1    0    0    1    0   \n",
              "[4,] 0    0    1    1    1    1    1    0   "
            ],
            "text/latex": "A matrix: 4 × 8 of type dbl\n\\begin{tabular}{llllllll}\n\t 0 & 0 & 1 & 1 & 0 & 1 & 1 & 1\\\\\n\t 0 & 0 & 0 & 0 & 1 & 0 & 0 & 1\\\\\n\t 0 & 0 & 1 & 1 & 0 & 0 & 1 & 0\\\\\n\t 0 & 0 & 1 & 1 & 1 & 1 & 1 & 0\\\\\n\\end{tabular}\n",
            "text/markdown": "\nA matrix: 4 × 8 of type dbl\n\n| 0 | 0 | 1 | 1 | 0 | 1 | 1 | 1 |\n| 0 | 0 | 0 | 0 | 1 | 0 | 0 | 1 |\n| 0 | 0 | 1 | 1 | 0 | 0 | 1 | 0 |\n| 0 | 0 | 1 | 1 | 1 | 1 | 1 | 0 |\n\n",
            "text/html": [
              "<table class=\"dataframe\">\n",
              "<caption>A matrix: 4 × 8 of type dbl</caption>\n",
              "<tbody>\n",
              "\t<tr><td>0</td><td>0</td><td>1</td><td>1</td><td>0</td><td>1</td><td>1</td><td>1</td></tr>\n",
              "\t<tr><td>0</td><td>0</td><td>0</td><td>0</td><td>1</td><td>0</td><td>0</td><td>1</td></tr>\n",
              "\t<tr><td>0</td><td>0</td><td>1</td><td>1</td><td>0</td><td>0</td><td>1</td><td>0</td></tr>\n",
              "\t<tr><td>0</td><td>0</td><td>1</td><td>1</td><td>1</td><td>1</td><td>1</td><td>0</td></tr>\n",
              "</tbody>\n",
              "</table>\n"
            ]
          },
          "metadata": {
            "tags": []
          }
        }
      ]
    },
    {
      "cell_type": "markdown",
      "metadata": {
        "id": "xrLNpbEIMzIm"
      },
      "source": [
        "### Cruce uniforme \n",
        "\n",
        "El problema con el cruce de un solo punto reside en la posible vinculación entre los elementos de un cromosoma. Nota como la probabilidad de separar el primer y el último elemento en un cromosoma es alta mediante el cruzamiento de un solo punto, ya que casi cualquier sitio de cruce logrará esto. De manera similar, la probabilidad de separar dos elementos consecutivos es baja, ya que se requiere un sitio específico de cruce para lograr esto.  Si la organización del cromosoma es tal que los elementos en los extremos deben trabajar juntos en tándem con el objetivo de alcanzar un valor fitness alto, se estarían rompiendo constantemente buenos pares de individuos que se generan en la búsqueda. \n",
        "Es posible tratar a todos los elementos en un cromosoma de forma justa con respecto a la vinculación a través de realizar el cruce en cada posición de forma independiente de las demás posiciones. En el cruce uniforme se recorren los elementos en un par de cromosomas padres y se realiza un intercambio de los elementos entre los padres con una determinada probabilidad. \n"
      ]
    },
    {
      "cell_type": "markdown",
      "metadata": {
        "id": "z7_yvK0OKvcb"
      },
      "source": [
        "![image.png](data:image/png;base64,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)"
      ]
    },
    {
      "cell_type": "markdown",
      "metadata": {
        "id": "ULoS7VRWKzph"
      },
      "source": [
        "Figura 5. Esquema del cruce uniforme para dos cromosomas binarios. Cada bit en los cromosomas padres tiene una probabilidad $p_c$ de ser intercambiado."
      ]
    },
    {
      "cell_type": "code",
      "metadata": {
        "id": "LsC_ruAPMpqG"
      },
      "source": [
        "cruzamiento_uniforme = function(padres, pc, N, nb) {\n",
        "    hijos = matrix(nrow = N, ncol = nb)\n",
        "    for (i in 1:(N/2)) {\n",
        "        p1 = padres[2*i-1, ]\n",
        "        p2 = padres[2*i, ]\n",
        "        for (j in 1:nb) {\n",
        "            rand = runif(1,0,1)\n",
        "            if (rand < pc) {\n",
        "                aux = p1[j]\n",
        "                p1[j] = p2[j]\n",
        "                p2[j] = aux\n",
        "            }\n",
        "        }\n",
        "        c1 = p1\n",
        "        c2 = p2\n",
        "        hijos[2*i-1, ] = c1\n",
        "        hijos[2*i, ] = c2\n",
        "    }\n",
        "    return(hijos)\n",
        "}"
      ],
      "execution_count": 84,
      "outputs": []
    },
    {
      "cell_type": "markdown",
      "metadata": {
        "id": "YbIGNyzwM62Y"
      },
      "source": [
        "Algoritmo para la implementación del cruzamiento uniforme. La función que realiza el cruce recibe cuatro argumentos. El primer argumento es una matriz $\\text{padres}$ que contiene a la población de cromosomas padre. El segundo argumento es la probabilidad de que se realice el cruce $p_c$. El tercer argumento es el número de individuos en la población, $N$, y último argumento es el número de genes de cada cromosoma en la población, $\\text{bits}$. \n",
        "\n",
        "1. El primer paso es crear una matriz llamada $\\text{hijos}$ donde se guardan los hijos generados en la etapa de cruce (renglón 2). \n",
        "\n",
        "Luego se realizan los siguientes pasos por un $N/2$ número de veces. \n",
        "\n",
        "2. Se seleccionan dos individuos padres de la población de padres (renglón 6 - renglón 7)\n",
        "\n",
        "\n",
        "4. Se recorre cada posición en los cromosomas padres y se genera un número aleatorio entre 0 y 1 (renglón 11)\n",
        "\n",
        "5. Si el número aleatorio generado en el paso 4 es menor que $p_c$ se intercambian los bits en la posición actual de los padres (renglón 12 - renglón 15)\n",
        "\n",
        "6. Se utilizan los dos padres seleccionados (con o sin posiciones intercambiadas) para generar dos hijos (renglón 19 - renglón 20) \n",
        "\n",
        "7. Se insertan los dos cromosomas hijos generados en la población de hijos (renglón 22 - renglón 25)\n",
        "\n",
        "Una vez que la población de hijos ha sido completada el algoritmo regresa la población de hijos.\n"
      ]
    },
    {
      "cell_type": "code",
      "metadata": {
        "id": "UyzZtyX1Qt7C",
        "colab": {
          "base_uri": "https://localhost:8080/",
          "height": 158
        },
        "outputId": "15997060-124b-456a-f624-ebcadc99ba0f"
      },
      "source": [
        "cruzamiento_uniforme(poblacion, pc, 4, nb)"
      ],
      "execution_count": 85,
      "outputs": [
        {
          "output_type": "display_data",
          "data": {
            "text/plain": [
              "     [,1] [,2] [,3] [,4] [,5] [,6] [,7] [,8]\n",
              "[1,] 0    0    0    0    0    0    0    1   \n",
              "[2,] 0    0    1    1    1    1    1    1   \n",
              "[3,] 0    0    1    1    0    0    1    0   \n",
              "[4,] 0    0    1    1    1    1    1    0   "
            ],
            "text/latex": "A matrix: 4 × 8 of type dbl\n\\begin{tabular}{llllllll}\n\t 0 & 0 & 0 & 0 & 0 & 0 & 0 & 1\\\\\n\t 0 & 0 & 1 & 1 & 1 & 1 & 1 & 1\\\\\n\t 0 & 0 & 1 & 1 & 0 & 0 & 1 & 0\\\\\n\t 0 & 0 & 1 & 1 & 1 & 1 & 1 & 0\\\\\n\\end{tabular}\n",
            "text/markdown": "\nA matrix: 4 × 8 of type dbl\n\n| 0 | 0 | 0 | 0 | 0 | 0 | 0 | 1 |\n| 0 | 0 | 1 | 1 | 1 | 1 | 1 | 1 |\n| 0 | 0 | 1 | 1 | 0 | 0 | 1 | 0 |\n| 0 | 0 | 1 | 1 | 1 | 1 | 1 | 0 |\n\n",
            "text/html": [
              "<table class=\"dataframe\">\n",
              "<caption>A matrix: 4 × 8 of type dbl</caption>\n",
              "<tbody>\n",
              "\t<tr><td>0</td><td>0</td><td>0</td><td>0</td><td>0</td><td>0</td><td>0</td><td>1</td></tr>\n",
              "\t<tr><td>0</td><td>0</td><td>1</td><td>1</td><td>1</td><td>1</td><td>1</td><td>1</td></tr>\n",
              "\t<tr><td>0</td><td>0</td><td>1</td><td>1</td><td>0</td><td>0</td><td>1</td><td>0</td></tr>\n",
              "\t<tr><td>0</td><td>0</td><td>1</td><td>1</td><td>1</td><td>1</td><td>1</td><td>0</td></tr>\n",
              "</tbody>\n",
              "</table>\n"
            ]
          },
          "metadata": {
            "tags": []
          }
        }
      ]
    },
    {
      "cell_type": "code",
      "metadata": {
        "id": "XA1WLOUGQx7_",
        "colab": {
          "base_uri": "https://localhost:8080/",
          "height": 158
        },
        "outputId": "9089bbda-2d9e-46b1-f1cf-0deb1463d136"
      },
      "source": [
        "poblacion"
      ],
      "execution_count": 86,
      "outputs": [
        {
          "output_type": "display_data",
          "data": {
            "text/plain": [
              "     [,1] [,2] [,3] [,4] [,5] [,6] [,7] [,8]\n",
              "[1,] 0    0    1    1    0    1    1    1   \n",
              "[2,] 0    0    0    0    1    0    0    1   \n",
              "[3,] 0    0    1    1    1    1    1    0   \n",
              "[4,] 0    0    1    1    0    0    1    0   "
            ],
            "text/latex": "A matrix: 4 × 8 of type dbl\n\\begin{tabular}{llllllll}\n\t 0 & 0 & 1 & 1 & 0 & 1 & 1 & 1\\\\\n\t 0 & 0 & 0 & 0 & 1 & 0 & 0 & 1\\\\\n\t 0 & 0 & 1 & 1 & 1 & 1 & 1 & 0\\\\\n\t 0 & 0 & 1 & 1 & 0 & 0 & 1 & 0\\\\\n\\end{tabular}\n",
            "text/markdown": "\nA matrix: 4 × 8 of type dbl\n\n| 0 | 0 | 1 | 1 | 0 | 1 | 1 | 1 |\n| 0 | 0 | 0 | 0 | 1 | 0 | 0 | 1 |\n| 0 | 0 | 1 | 1 | 1 | 1 | 1 | 0 |\n| 0 | 0 | 1 | 1 | 0 | 0 | 1 | 0 |\n\n",
            "text/html": [
              "<table class=\"dataframe\">\n",
              "<caption>A matrix: 4 × 8 of type dbl</caption>\n",
              "<tbody>\n",
              "\t<tr><td>0</td><td>0</td><td>1</td><td>1</td><td>0</td><td>1</td><td>1</td><td>1</td></tr>\n",
              "\t<tr><td>0</td><td>0</td><td>0</td><td>0</td><td>1</td><td>0</td><td>0</td><td>1</td></tr>\n",
              "\t<tr><td>0</td><td>0</td><td>1</td><td>1</td><td>1</td><td>1</td><td>1</td><td>0</td></tr>\n",
              "\t<tr><td>0</td><td>0</td><td>1</td><td>1</td><td>0</td><td>0</td><td>1</td><td>0</td></tr>\n",
              "</tbody>\n",
              "</table>\n"
            ]
          },
          "metadata": {
            "tags": []
          }
        }
      ]
    },
    {
      "cell_type": "markdown",
      "metadata": {
        "id": "RBJYiUyNRjiu"
      },
      "source": [
        "### Mutación \n",
        "\n",
        "La mutación es el último operador genético que se aplica en el proceso de creación de una nueva generación. El operador de mutación se aplica a la descendencia que se creó como resultado de los operadores de selección y cruce. \n",
        "\n",
        "La mutación no ocurre siempre, sino que se presenta con cierta probabilidad y generalmente es una probabilidad baja, ya que conlleva el riesgo de dañar el desempeño de cualquier individuo al que se le aplique. Si la tasa de mutación aumenta excesivamente, el AG se convertirá en el equivalente a una búsqueda aleatoria (hands on).\n",
        "\n",
        "El propósito de la operación de mutación es cambiar los genes de la descendencia y aumentar la diversidad de la población. Este proceso permite que los GAs salten de soluciones locales o subóptimas para evitar una convergencia prematura. "
      ]
    },
    {
      "cell_type": "markdown",
      "metadata": {
        "id": "fOQpIvg9xjcB"
      },
      "source": [
        "#### Mutación de un solo bit \n",
        "En la mutación de un solo bit, cuando el cromosoma es de tipo binario, un sitio de mutación a lo largo de la cadena de bits es seleccionado de forma aleatoria. El dígito en la posición seleccionada es volteado de 0 a 1 o de 1 a 0 con una probabilidad $p_m$. Este proceso solo ocurre una vez en cada individuo, por lo cual solo uno de sus bits puede llegar a ser volteado.\n",
        "\n",
        "#### Mutación de bit a bit\n",
        "En la mutación de bit a bit cada bit de cada cromosoma (cadena de bits) es considerado uno a la vez en sencuencia. El dígito es volteado de 0 a 1 o de 1 a 0 con una probabilidad $p_m$. A diferencia de la mutación de un solo bit, en este tipo de mutación es posible mutar varios de los bits en el cromosoma. \n"
      ]
    },
    {
      "cell_type": "markdown",
      "metadata": {
        "id": "mnx5VI2TyzlL"
      },
      "source": [
        "![image.png](data:image/png;base64,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)"
      ]
    },
    {
      "cell_type": "markdown",
      "metadata": {
        "id": "RAdcJwSky4YN"
      },
      "source": [
        "Figura 6. Esquema de la mutación de bit a bit. En este ejemplo se aprecia como tres de los bits en el individuo original han sido volteados con lo que se genera un nuevo individuo mutado. En la mutación de un solo bit solo es posible voltear un bit en cada individuo. "
      ]
    },
    {
      "cell_type": "code",
      "metadata": {
        "id": "55AuCj6BQ05V"
      },
      "source": [
        "mutacion_un_punto = function(hijos, pm, N, nb) {\n",
        "    hijos_mut = matrix(nrow = N, ncol = nb)\n",
        "    for (i in 1:N) {\n",
        "        hijo = hijos[i, ]\n",
        "        rand = runif(1,0,1)\n",
        "        if (rand < pm) {\n",
        "            mut = sample(1:nb,1)\n",
        "            bit = hijo[mut]\n",
        "            hijo[mut] = ifelse(bit == 0, 1, 0)\n",
        "            hijos_mut[i, ] = hijo \n",
        "        }\n",
        "        else {\n",
        "            hijos_mut[i, ] = hijo\n",
        "        }\n",
        "    }\n",
        "    return(hijos_mut) \n",
        "}"
      ],
      "execution_count": 87,
      "outputs": []
    },
    {
      "cell_type": "markdown",
      "metadata": {
        "id": "swtTURvF3py2"
      },
      "source": [
        "Algoritmo para la implementación de la mutación de un solo bit. La función que realiza la mutación recibe cuatro argumentos. El primer argumento es una matriz llamada $\\text{hijos}$ que contiene a la población de cromosomas hijos que serán mutados. El segundo argumento es la probabilidad de que se realice la mutación $p_m$. El tercer argumento es el número de individuos en la población, $N$, y último argumento es el número de genes de cada individuo en la población, $\\text{bits}$. El primer paso es crear una matriz llamada $\\text{hijos_mut}$ donde se guardan los hijos mutados generados en la etapa de cruce. Luego se realizan los siguientes pasos por un $N$ número de veces. \n",
        "\n",
        "1. Se seleciona un individuo hijo de la población de hijos\n",
        "\n",
        "2. Se genera un número aleatorio entre 0 y 1 llamado $\\text{rand}$\n",
        "\n",
        "3. Si el número aleatorio generado en el paso 2 es menor que $p_m$ se realizan los pasos 4 a 6, de lo contrario se realiza el paso 7\n",
        "\n",
        "4. Se escoge un sitio de mutación de forma aleatoria \n",
        "\n",
        "5. Se voltea el bit en el sitio de mutación escogido\n",
        "\n",
        "6. Se introduce el individuo hijo mutado en la población de hijos mutados\n",
        "\n",
        "7. Si el número aleatorio generado en el paso 2 es mayor que $p_m$ se inserta el cromosoma hijo sin nungún cambio en la población de hijos mutados\n",
        "\n",
        "Una vez que la población de hijos mutados ha sido completada el algoritmo regresa la población de hijos mutados.\n"
      ]
    },
    {
      "cell_type": "code",
      "metadata": {
        "id": "YvN_N4JcR0n8",
        "colab": {
          "base_uri": "https://localhost:8080/",
          "height": 158
        },
        "outputId": "b2f5d07f-d5ca-48bb-d8b5-e24addeed7a1"
      },
      "source": [
        "pm = 0.5\n",
        "mutacion_un_punto(poblacion,pm,N, nb)"
      ],
      "execution_count": 88,
      "outputs": [
        {
          "output_type": "display_data",
          "data": {
            "text/plain": [
              "     [,1] [,2] [,3] [,4] [,5] [,6] [,7] [,8]\n",
              "[1,] 0    0    1    1    0    1    1    1   \n",
              "[2,] 0    0    0    0    1    0    0    1   \n",
              "[3,] 0    0    1    1    1    1    1    0   \n",
              "[4,] 0    0    1    1    0    0    1    0   "
            ],
            "text/latex": "A matrix: 4 × 8 of type dbl\n\\begin{tabular}{llllllll}\n\t 0 & 0 & 1 & 1 & 0 & 1 & 1 & 1\\\\\n\t 0 & 0 & 0 & 0 & 1 & 0 & 0 & 1\\\\\n\t 0 & 0 & 1 & 1 & 1 & 1 & 1 & 0\\\\\n\t 0 & 0 & 1 & 1 & 0 & 0 & 1 & 0\\\\\n\\end{tabular}\n",
            "text/markdown": "\nA matrix: 4 × 8 of type dbl\n\n| 0 | 0 | 1 | 1 | 0 | 1 | 1 | 1 |\n| 0 | 0 | 0 | 0 | 1 | 0 | 0 | 1 |\n| 0 | 0 | 1 | 1 | 1 | 1 | 1 | 0 |\n| 0 | 0 | 1 | 1 | 0 | 0 | 1 | 0 |\n\n",
            "text/html": [
              "<table class=\"dataframe\">\n",
              "<caption>A matrix: 4 × 8 of type dbl</caption>\n",
              "<tbody>\n",
              "\t<tr><td>0</td><td>0</td><td>1</td><td>1</td><td>0</td><td>1</td><td>1</td><td>1</td></tr>\n",
              "\t<tr><td>0</td><td>0</td><td>0</td><td>0</td><td>1</td><td>0</td><td>0</td><td>1</td></tr>\n",
              "\t<tr><td>0</td><td>0</td><td>1</td><td>1</td><td>1</td><td>1</td><td>1</td><td>0</td></tr>\n",
              "\t<tr><td>0</td><td>0</td><td>1</td><td>1</td><td>0</td><td>0</td><td>1</td><td>0</td></tr>\n",
              "</tbody>\n",
              "</table>\n"
            ]
          },
          "metadata": {
            "tags": []
          }
        }
      ]
    },
    {
      "cell_type": "code",
      "metadata": {
        "id": "T3JFPFALkMe8",
        "colab": {
          "base_uri": "https://localhost:8080/",
          "height": 158
        },
        "outputId": "970efa28-a825-4c97-f338-2bad6df5870d"
      },
      "source": [
        "poblacion"
      ],
      "execution_count": 89,
      "outputs": [
        {
          "output_type": "display_data",
          "data": {
            "text/plain": [
              "     [,1] [,2] [,3] [,4] [,5] [,6] [,7] [,8]\n",
              "[1,] 0    0    1    1    0    1    1    1   \n",
              "[2,] 0    0    0    0    1    0    0    1   \n",
              "[3,] 0    0    1    1    1    1    1    0   \n",
              "[4,] 0    0    1    1    0    0    1    0   "
            ],
            "text/latex": "A matrix: 4 × 8 of type dbl\n\\begin{tabular}{llllllll}\n\t 0 & 0 & 1 & 1 & 0 & 1 & 1 & 1\\\\\n\t 0 & 0 & 0 & 0 & 1 & 0 & 0 & 1\\\\\n\t 0 & 0 & 1 & 1 & 1 & 1 & 1 & 0\\\\\n\t 0 & 0 & 1 & 1 & 0 & 0 & 1 & 0\\\\\n\\end{tabular}\n",
            "text/markdown": "\nA matrix: 4 × 8 of type dbl\n\n| 0 | 0 | 1 | 1 | 0 | 1 | 1 | 1 |\n| 0 | 0 | 0 | 0 | 1 | 0 | 0 | 1 |\n| 0 | 0 | 1 | 1 | 1 | 1 | 1 | 0 |\n| 0 | 0 | 1 | 1 | 0 | 0 | 1 | 0 |\n\n",
            "text/html": [
              "<table class=\"dataframe\">\n",
              "<caption>A matrix: 4 × 8 of type dbl</caption>\n",
              "<tbody>\n",
              "\t<tr><td>0</td><td>0</td><td>1</td><td>1</td><td>0</td><td>1</td><td>1</td><td>1</td></tr>\n",
              "\t<tr><td>0</td><td>0</td><td>0</td><td>0</td><td>1</td><td>0</td><td>0</td><td>1</td></tr>\n",
              "\t<tr><td>0</td><td>0</td><td>1</td><td>1</td><td>1</td><td>1</td><td>1</td><td>0</td></tr>\n",
              "\t<tr><td>0</td><td>0</td><td>1</td><td>1</td><td>0</td><td>0</td><td>1</td><td>0</td></tr>\n",
              "</tbody>\n",
              "</table>\n"
            ]
          },
          "metadata": {
            "tags": []
          }
        }
      ]
    },
    {
      "cell_type": "code",
      "metadata": {
        "id": "udUSNS8IR4iX"
      },
      "source": [
        "mutacion_uniforme = function(hijos, pm, N, nb) {\n",
        "    hijos_mut = matrix(nrow = N, ncol = nb)\n",
        "    for (i in 1:N) {\n",
        "        for (j in 1:nb) {\n",
        "            rand = runif(1,0,1)\n",
        "            if (rand < pm) {\n",
        "                bit = hijos[i,j]\n",
        "                hijos_mut[i,j] = ifelse(bit == 0, 1, 0)\n",
        "            }\n",
        "            else {\n",
        "                hijos_mut[i,j] = hijos[i,j]\n",
        "            }\n",
        "        }\n",
        "    }\n",
        "    return(hijos_mut)\n",
        "}"
      ],
      "execution_count": 97,
      "outputs": []
    },
    {
      "cell_type": "markdown",
      "metadata": {
        "id": "aKkiY3ZdDnSs"
      },
      "source": [
        "Algoritmo para la implementación de la mutación de bit a bit. La función que realiza la mutación recibe cuatro argumentos. El primer argumento es una matriz llamada $\\text{hijos}$ que contiene a la población de individuos. El segundo argumento es la probabilidad de que se realice la mutación $p_m$. El tercer argumento es el número de individuos en la población, $N$, y el último argumento es el número de genes de cada individuo en la población $\\text{bits}$. \n",
        "\n",
        "1. El primer paso es crear una matriz llamada $\\text{hijos_mut}$ donde se guardan los hijos mutados generados en la etapa de cruce. Naturalmente, las dimensiones de esta matriz deben ser las mismas que las de $\\text{hijos}$ (renglón 2) \n",
        "\n",
        "Luego se realizan los siguientes pasos para cada bit en la población de hijos. \n",
        "\n",
        "1. Se genera un número aleatorio entre 0 y 1 llamado $\\text{rand}$\n",
        "\n",
        "2. Si el número aleatorio generado en el paso 1 es menor que $p_m$ entonces realizar el paso 3, de lo contrario realizar el paso 4\n",
        "\n",
        "3. Voltear el bit en la población actual e insertarlo en la población de hijos mutados\n",
        "\n",
        "4. Insertar el bit actual en la población de hijos mutados sin nungún cambio\n",
        "\n",
        "Una vez que la población de hijos mutados ha sido completada el algoritmo regresa la población de hijos mutados.\n"
      ]
    },
    {
      "cell_type": "code",
      "metadata": {
        "id": "Y846ujquStHj",
        "colab": {
          "base_uri": "https://localhost:8080/",
          "height": 158
        },
        "outputId": "868e3c23-bd15-445d-b1dc-31cdc39d429d"
      },
      "source": [
        "mutacion_uniforme(poblacion, pm, N, nb)"
      ],
      "execution_count": 91,
      "outputs": [
        {
          "output_type": "display_data",
          "data": {
            "text/plain": [
              "     [,1] [,2] [,3] [,4] [,5] [,6] [,7] [,8]\n",
              "[1,] 0    0    1    1    1    0    1    0   \n",
              "[2,] 1    0    1    1    0    1    1    1   \n",
              "[3,] 0    1    1    0    1    1    0    1   \n",
              "[4,] 0    1    0    0    0    0    1    1   "
            ],
            "text/latex": "A matrix: 4 × 8 of type dbl\n\\begin{tabular}{llllllll}\n\t 0 & 0 & 1 & 1 & 1 & 0 & 1 & 0\\\\\n\t 1 & 0 & 1 & 1 & 0 & 1 & 1 & 1\\\\\n\t 0 & 1 & 1 & 0 & 1 & 1 & 0 & 1\\\\\n\t 0 & 1 & 0 & 0 & 0 & 0 & 1 & 1\\\\\n\\end{tabular}\n",
            "text/markdown": "\nA matrix: 4 × 8 of type dbl\n\n| 0 | 0 | 1 | 1 | 1 | 0 | 1 | 0 |\n| 1 | 0 | 1 | 1 | 0 | 1 | 1 | 1 |\n| 0 | 1 | 1 | 0 | 1 | 1 | 0 | 1 |\n| 0 | 1 | 0 | 0 | 0 | 0 | 1 | 1 |\n\n",
            "text/html": [
              "<table class=\"dataframe\">\n",
              "<caption>A matrix: 4 × 8 of type dbl</caption>\n",
              "<tbody>\n",
              "\t<tr><td>0</td><td>0</td><td>1</td><td>1</td><td>1</td><td>0</td><td>1</td><td>0</td></tr>\n",
              "\t<tr><td>1</td><td>0</td><td>1</td><td>1</td><td>0</td><td>1</td><td>1</td><td>1</td></tr>\n",
              "\t<tr><td>0</td><td>1</td><td>1</td><td>0</td><td>1</td><td>1</td><td>0</td><td>1</td></tr>\n",
              "\t<tr><td>0</td><td>1</td><td>0</td><td>0</td><td>0</td><td>0</td><td>1</td><td>1</td></tr>\n",
              "</tbody>\n",
              "</table>\n"
            ]
          },
          "metadata": {
            "tags": []
          }
        }
      ]
    },
    {
      "cell_type": "markdown",
      "metadata": {
        "id": "P6Nkzhf3r0bX"
      },
      "source": [
        "Los operadores de selección, cruce y mutación se aplican por un número específico de iteraciones, que se denomina número de generaciones. Al final de este proceso iterativo se espera obtener una población de cromosomas con un fitness alto. Generalmente, se emplea un criterio para determinar si el algoritmo se debe detener. Este criterio puede ser el número de generaciones o un número de generaciones específico sin que se perciba ningún aumento en el fitness de la población. Los algoritmos genéticos son métodos estocásticos, por lo que no se obtiene la misma solución cada vez que se ejecuta el algoritmo, sin embargo, está solución siempre suele estar cercada al óptimo global. Para el buen desempeño de los AGs es necesario definir de forma adecuado los parámetros del algoritmo como son: tamaño de población $N$, número de generaciones $N_{gen}$, probilidad de cruce $p_c$ y probabilidad de mutación $p_m$. Un algoritmo genético desarrollado con las funciones de selección, cruce y mutación mostradas en esta sección puede ser encontrado en el siguiente link.  "
      ]
    },
    {
      "cell_type": "code",
      "metadata": {
        "id": "mWh6dRsLSvgg"
      },
      "source": [
        "algoritmo_genetico = function(N, generaciones,nb, pc, pm) {\n",
        "\n",
        "    # crear nueva población\n",
        "    pop = crear_poblacion(N, bits, pool)\n",
        "\n",
        "    # obtener fitness \n",
        "    fitness = obtener_fitness(pop)\n",
        "\n",
        "    # guardar registro de mejor solución actual \n",
        "    mejor_ind = numeric(length = generaciones)\n",
        "    indice = which.max(fitness)\n",
        "    mejor_ind[1] = binario_a_entero(pop[indice, ])\n",
        "    mejor_fitness = numeric(length = generaciones)\n",
        "    mejor_fitness[1] = fitness[indice]\n",
        "\n",
        "    # operadores genéticos\n",
        "    for (i in 2:generaciones) {\n",
        "\n",
        "        # seleccionar los padres que se cruzarán \n",
        "        padres = seleccion_proporcional(pop, fitness, N, bits)\n",
        "\n",
        "        # cruzar padres para generar hijos\n",
        "        hijos = cruzamiento_un_punto(padres, pc, N, bits)\n",
        "\n",
        "        # mutar hijos\n",
        "        hijos = mutacion_un_punto(hijos, pm, N, bits)\n",
        "\n",
        "        # actualizar población\n",
        "        pop = hijos\n",
        "\n",
        "        # obtener fitness \n",
        "        fitness = obtener_fitness(pop)\n",
        "\n",
        "        # guardar registro de mejor solución actual \n",
        "        indice = which.max(fitness)\n",
        "        mejor_ind[i] = binario_a_entero(pop[indice, ])\n",
        "        mejor_fitness[i] = fitness[indice]\n",
        "\n",
        "    }\n",
        "\n",
        "    return(list(mejor_ind = mejor_ind, mejor_fitness = mejor_fitness))\n",
        "}"
      ],
      "execution_count": 92,
      "outputs": []
    },
    {
      "cell_type": "code",
      "metadata": {
        "id": "yEsvn-zDmhuM"
      },
      "source": [
        "N = 6\n",
        "generaciones = 200\n",
        "nb = 8\n",
        "pc = 0.7\n",
        "pm = 0.1\n",
        "sol = algoritmo_genetico(N, generaciones, bits, pc, pm)"
      ],
      "execution_count": 93,
      "outputs": []
    },
    {
      "cell_type": "code",
      "metadata": {
        "id": "8p0Fxf0Em1_C",
        "colab": {
          "base_uri": "https://localhost:8080/",
          "height": 437
        },
        "outputId": "bf7afea8-f5d4-4e09-9b39-64a3493fd853"
      },
      "source": [
        "plot(sol$mejor_fitness, ylim = c(0,1))"
      ],
      "execution_count": 94,
      "outputs": [
        {
          "output_type": "display_data",
          "data": {
            "image/png": "[encoded data removed]",
            "text/plain": [
              "plot without title"
            ]
          },
          "metadata": {
            "tags": [],
            "image/png": {
              "width": 420,
              "height": 420
            }
          }
        }
      ]
    },
    {
      "cell_type": "code",
      "metadata": {
        "id": "x6FQ_OlrnvDl",
        "colab": {
          "base_uri": "https://localhost:8080/",
          "height": 119
        },
        "outputId": "9f0d6848-f3ef-4c5f-c247-fdcfa85c90bb"
      },
      "source": [
        "sol$mejor_ind"
      ],
      "execution_count": 95,
      "outputs": [
        {
          "output_type": "display_data",
          "data": {
            "text/plain": [
              "  [1] 171 133 135 135 137 137 139 139 139 171 171 139 138 138 171 171 171 171\n",
              " [19] 139 169 169 169 169 170 171 171 171 171 171 171 170 171 171 171 171 170\n",
              " [37] 170 138 138 138 138 138 138 138 138 138 138 138 138 138 138 138 138 130\n",
              " [55] 130 130 130 130 128 130 130 130 130 130 130 130 130 130 130 130 130 130\n",
              " [73] 130 130 130 130 130 130 130 130 130 130 130 130 130 130 130 130 130 130\n",
              " [91] 130 128 130 130 130 130 130 130 130 130 130 130 130 130 130 130 130 130\n",
              "[109] 130 130 130 128 130 130 130 130 130 130 130 130 130 130 130 130 130 130\n",
              "[127] 130 130 130 130 130 130 130 130 130 130 130 130 130 130 130 130 130 130\n",
              "[145] 130 130 130 130 130 130 130 130 130 130 130 128 128 128 128 128 128 128\n",
              "[163] 128 128 130 130 130 130 130 130 130 130 130 130 130 130 130 130 130 130\n",
              "[181] 130 130 130 130 130 130 130 130 130 130 130 130 130 130 130 130 130 130\n",
              "[199] 128 128"
            ],
            "text/latex": "\\begin{enumerate*}\n\\item 171\n\\item 133\n\\item 135\n\\item 135\n\\item 137\n\\item 137\n\\item 139\n\\item 139\n\\item 139\n\\item 171\n\\item 171\n\\item 139\n\\item 138\n\\item 138\n\\item 171\n\\item 171\n\\item 171\n\\item 171\n\\item 139\n\\item 169\n\\item 169\n\\item 169\n\\item 169\n\\item 170\n\\item 171\n\\item 171\n\\item 171\n\\item 171\n\\item 171\n\\item 171\n\\item 170\n\\item 171\n\\item 171\n\\item 171\n\\item 171\n\\item 170\n\\item 170\n\\item 138\n\\item 138\n\\item 138\n\\item 138\n\\item 138\n\\item 138\n\\item 138\n\\item 138\n\\item 138\n\\item 138\n\\item 138\n\\item 138\n\\item 138\n\\item 138\n\\item 138\n\\item 138\n\\item 130\n\\item 130\n\\item 130\n\\item 130\n\\item 130\n\\item 128\n\\item 130\n\\item 130\n\\item 130\n\\item 130\n\\item 130\n\\item 130\n\\item 130\n\\item 130\n\\item 130\n\\item 130\n\\item 130\n\\item 130\n\\item 130\n\\item 130\n\\item 130\n\\item 130\n\\item 130\n\\item 130\n\\item 130\n\\item 130\n\\item 130\n\\item 130\n\\item 130\n\\item 130\n\\item 130\n\\item 130\n\\item 130\n\\item 130\n\\item 130\n\\item 130\n\\item 130\n\\item 130\n\\item 128\n\\item 130\n\\item 130\n\\item 130\n\\item 130\n\\item 130\n\\item 130\n\\item 130\n\\item 130\n\\item 130\n\\item 130\n\\item 130\n\\item 130\n\\item 130\n\\item 130\n\\item 130\n\\item 130\n\\item 130\n\\item 130\n\\item 130\n\\item 128\n\\item 130\n\\item 130\n\\item 130\n\\item 130\n\\item 130\n\\item 130\n\\item 130\n\\item 130\n\\item 130\n\\item 130\n\\item 130\n\\item 130\n\\item 130\n\\item 130\n\\item 130\n\\item 130\n\\item 130\n\\item 130\n\\item 130\n\\item 130\n\\item 130\n\\item 130\n\\item 130\n\\item 130\n\\item 130\n\\item 130\n\\item 130\n\\item 130\n\\item 130\n\\item 130\n\\item 130\n\\item 130\n\\item 130\n\\item 130\n\\item 130\n\\item 130\n\\item 130\n\\item 130\n\\item 130\n\\item 130\n\\item 130\n\\item 130\n\\item 130\n\\item 128\n\\item 128\n\\item 128\n\\item 128\n\\item 128\n\\item 128\n\\item 128\n\\item 128\n\\item 128\n\\item 130\n\\item 130\n\\item 130\n\\item 130\n\\item 130\n\\item 130\n\\item 130\n\\item 130\n\\item 130\n\\item 130\n\\item 130\n\\item 130\n\\item 130\n\\item 130\n\\item 130\n\\item 130\n\\item 130\n\\item 130\n\\item 130\n\\item 130\n\\item 130\n\\item 130\n\\item 130\n\\item 130\n\\item 130\n\\item 130\n\\item 130\n\\item 130\n\\item 130\n\\item 130\n\\item 130\n\\item 130\n\\item 130\n\\item 130\n\\item 128\n\\item 128\n\\end{enumerate*}\n",
            "text/markdown": "1. 171\n2. 133\n3. 135\n4. 135\n5. 137\n6. 137\n7. 139\n8. 139\n9. 139\n10. 171\n11. 171\n12. 139\n13. 138\n14. 138\n15. 171\n16. 171\n17. 171\n18. 171\n19. 139\n20. 169\n21. 169\n22. 169\n23. 169\n24. 170\n25. 171\n26. 171\n27. 171\n28. 171\n29. 171\n30. 171\n31. 170\n32. 171\n33. 171\n34. 171\n35. 171\n36. 170\n37. 170\n38. 138\n39. 138\n40. 138\n41. 138\n42. 138\n43. 138\n44. 138\n45. 138\n46. 138\n47. 138\n48. 138\n49. 138\n50. 138\n51. 138\n52. 138\n53. 138\n54. 130\n55. 130\n56. 130\n57. 130\n58. 130\n59. 128\n60. 130\n61. 130\n62. 130\n63. 130\n64. 130\n65. 130\n66. 130\n67. 130\n68. 130\n69. 130\n70. 130\n71. 130\n72. 130\n73. 130\n74. 130\n75. 130\n76. 130\n77. 130\n78. 130\n79. 130\n80. 130\n81. 130\n82. 130\n83. 130\n84. 130\n85. 130\n86. 130\n87. 130\n88. 130\n89. 130\n90. 130\n91. 130\n92. 128\n93. 130\n94. 130\n95. 130\n96. 130\n97. 130\n98. 130\n99. 130\n100. 130\n101. 130\n102. 130\n103. 130\n104. 130\n105. 130\n106. 130\n107. 130\n108. 130\n109. 130\n110. 130\n111. 130\n112. 128\n113. 130\n114. 130\n115. 130\n116. 130\n117. 130\n118. 130\n119. 130\n120. 130\n121. 130\n122. 130\n123. 130\n124. 130\n125. 130\n126. 130\n127. 130\n128. 130\n129. 130\n130. 130\n131. 130\n132. 130\n133. 130\n134. 130\n135. 130\n136. 130\n137. 130\n138. 130\n139. 130\n140. 130\n141. 130\n142. 130\n143. 130\n144. 130\n145. 130\n146. 130\n147. 130\n148. 130\n149. 130\n150. 130\n151. 130\n152. 130\n153. 130\n154. 130\n155. 130\n156. 128\n157. 128\n158. 128\n159. 128\n160. 128\n161. 128\n162. 128\n163. 128\n164. 128\n165. 130\n166. 130\n167. 130\n168. 130\n169. 130\n170. 130\n171. 130\n172. 130\n173. 130\n174. 130\n175. 130\n176. 130\n177. 130\n178. 130\n179. 130\n180. 130\n181. 130\n182. 130\n183. 130\n184. 130\n185. 130\n186. 130\n187. 130\n188. 130\n189. 130\n190. 130\n191. 130\n192. 130\n193. 130\n194. 130\n195. 130\n196. 130\n197. 130\n198. 130\n199. 128\n200. 128\n\n\n",
            "text/html": [
              "<style>\n",
              ".list-inline {list-style: none; margin:0; padding: 0}\n",
              ".list-inline>li {display: inline-block}\n",
              ".list-inline>li:not(:last-child)::after {content: \"\\00b7\"; padding: 0 .5ex}\n",
              "</style>\n",
              "<ol class=list-inline><li>171</li><li>133</li><li>135</li><li>135</li><li>137</li><li>137</li><li>139</li><li>139</li><li>139</li><li>171</li><li>171</li><li>139</li><li>138</li><li>138</li><li>171</li><li>171</li><li>171</li><li>171</li><li>139</li><li>169</li><li>169</li><li>169</li><li>169</li><li>170</li><li>171</li><li>171</li><li>171</li><li>171</li><li>171</li><li>171</li><li>170</li><li>171</li><li>171</li><li>171</li><li>171</li><li>170</li><li>170</li><li>138</li><li>138</li><li>138</li><li>138</li><li>138</li><li>138</li><li>138</li><li>138</li><li>138</li><li>138</li><li>138</li><li>138</li><li>138</li><li>138</li><li>138</li><li>138</li><li>130</li><li>130</li><li>130</li><li>130</li><li>130</li><li>128</li><li>130</li><li>130</li><li>130</li><li>130</li><li>130</li><li>130</li><li>130</li><li>130</li><li>130</li><li>130</li><li>130</li><li>130</li><li>130</li><li>130</li><li>130</li><li>130</li><li>130</li><li>130</li><li>130</li><li>130</li><li>130</li><li>130</li><li>130</li><li>130</li><li>130</li><li>130</li><li>130</li><li>130</li><li>130</li><li>130</li><li>130</li><li>130</li><li>128</li><li>130</li><li>130</li><li>130</li><li>130</li><li>130</li><li>130</li><li>130</li><li>130</li><li>130</li><li>130</li><li>130</li><li>130</li><li>130</li><li>130</li><li>130</li><li>130</li><li>130</li><li>130</li><li>130</li><li>128</li><li>130</li><li>130</li><li>130</li><li>130</li><li>130</li><li>130</li><li>130</li><li>130</li><li>130</li><li>130</li><li>130</li><li>130</li><li>130</li><li>130</li><li>130</li><li>130</li><li>130</li><li>130</li><li>130</li><li>130</li><li>130</li><li>130</li><li>130</li><li>130</li><li>130</li><li>130</li><li>130</li><li>130</li><li>130</li><li>130</li><li>130</li><li>130</li><li>130</li><li>130</li><li>130</li><li>130</li><li>130</li><li>130</li><li>130</li><li>130</li><li>130</li><li>130</li><li>130</li><li>128</li><li>128</li><li>128</li><li>128</li><li>128</li><li>128</li><li>128</li><li>128</li><li>128</li><li>130</li><li>130</li><li>130</li><li>130</li><li>130</li><li>130</li><li>130</li><li>130</li><li>130</li><li>130</li><li>130</li><li>130</li><li>130</li><li>130</li><li>130</li><li>130</li><li>130</li><li>130</li><li>130</li><li>130</li><li>130</li><li>130</li><li>130</li><li>130</li><li>130</li><li>130</li><li>130</li><li>130</li><li>130</li><li>130</li><li>130</li><li>130</li><li>130</li><li>130</li><li>128</li><li>128</li></ol>\n"
            ]
          },
          "metadata": {
            "tags": []
          }
        }
      ]
    },
    {
      "cell_type": "code",
      "metadata": {
        "id": "p7V-zg022M3r"
      },
      "source": [
        ""
      ],
      "execution_count": 96,
      "outputs": []
    }
  ]
}