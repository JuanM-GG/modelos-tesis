{
  "nbformat": 4,
  "nbformat_minor": 0,
  "metadata": {
    "colab": {
      "name": "Untitled7.ipynb",
      "provenance": [],
      "authorship_tag": "ABX9TyNOMy1SHkv7SMJL4d/m8D6e",
      "include_colab_link": true
    },
    "kernelspec": {
      "name": "ir",
      "display_name": "R"
    }
  },
  "cells": [
    {
      "cell_type": "markdown",
      "metadata": {
        "id": "view-in-github",
        "colab_type": "text"
      },
      "source": [
        "<a href=\"https://colab.research.google.com/github/JuanM-GG/modelos-tesis/blob/main/algoritmos_geneticos.ipynb\" target=\"_parent\"><img src=\"https://colab.research.google.com/assets/colab-badge.svg\" alt=\"Open In Colab\"/></a>"
      ]
    },
    {
      "cell_type": "markdown",
      "metadata": {
        "id": "x2gOVVOXRvF8"
      },
      "source": [
        "Título: Algortimos genéticos\n",
        "\n",
        "Nombre: Juan Manuel \n",
        "\n",
        "Fecha: "
      ]
    },
    {
      "cell_type": "markdown",
      "metadata": {
        "id": "i0ECt-Jdphdz"
      },
      "source": [
        "Los algoritmos genéticos (AGs) fueron inventados por John Holland en la universidad de Michigan en 1970s (2016—ESSENTIALS). Los algoritmos genéticos están basados en los principios de la selección natural. Los elementos básicos de la selección natural – reproducción, cruzamiento y mutación – son usados en el procedimiento (2009—modern methods). Específicamente, los AG simulan los procesos biológicos que permiten a las consecutivas generaciones en una especie adaptarse a su ambiente. El proceso de adaptación es aplicado principalmente a través de la herencia de padres a hijos y a través de la supervivencia de los más aptos. Actualmente, los algoritmos genéticos son considerados como uno de los tipos de metahuerísticas más aplicadas (2004—Studies on metaheuristics).\n",
        "\n",
        "Los AG comienzan con una población inicial de soluciones. A las soluciones en un población se les llama individuos. En la presentación orginal de los AGs los individuos en la población son representados mediante números binarios. Esta representación suele ser conveniente al momento de implementar los operadores del algoritmo genético. Por lo anterior, en esta sección nos limitamos a explicar el funcionamiento de los algortimos genéticos mediante una representación de individuos en forma de números binarios. No obstante, es importante considerar que actualmente existen versiones de AGs donde se representa a los individuos en la población como variables de valor real. A la representación en forma de número binario de un individuo se le conoce como cromosoma. El cromosoma consiste en un número fijo de bits los cuales son llamados genes. Con el objetivo de evaluar y clasificar cromosomas en una población una función fitness, basada en la función objetivo, debe ser definida. El valor de la función fitness evaluada en un determinado cromosoma se conoce como el fitness de ese cromosoma. Tres operadores deben ser especificados para construir la estructura completa de un algoritmo genético; operadores de selección, cruzamiento y mutación. El operador de selección se encarga de seleccionar una población intermedia (conocida como población de padres) de la población actual con el objetivo de ser usada por los otros operadores de cruzamiento y mutación. En este proceso de selección, los cromosomas con mayor fitness tienen mayor probabilidad de ser seleccionados que aquellos con un valor fitness bajo. Pares de padres en la población intermedia son elegidos aleatoriamente para ser cruzados y generar la descendencia. Con el objetivo de incrementar la variabilidad, el operador de mutación es aplicado para modificar uno o más genes de un cromosoma elegido aleatoriamente.  \n",
        "\n",
        "\n"
      ]
    },
    {
      "cell_type": "markdown",
      "metadata": {
        "id": "irBwHUXL3Ox0"
      },
      "source": [
        "1.\tUna población de individuos es usada para empezar el proceso en lugar de una sola solución.  Debido a que varias soluciones son usadas, los AGs son menos propensos a quedarse atrapados en óptimos locales\n",
        "\n",
        "2.\tLos AGs usan solo el valor de la función objetivo. Las derivadas no se usan en el proceso de búsqueda\n",
        "\n",
        "3.\tEn los AGs las soluciones se representan como cadenas de variables binarias a las que se les llaman cromosomas. Por lo tanto, el método de búsqueda es naturalmente aplicable para resolver problemas de programación discreta y entera. Para obtener soluciones de valor real, una función que convierta las variables binarias en reales debe ser empleada\n",
        "\n",
        "4.\tEl valor de la función objetivo evaluada en una solución representa la bondad de esta solución y se le llama el fitness de la solución.  \n",
        "\n",
        "5.\tUna nueva generación de cromosomas se forma a través de la aplicación de tres operadores genéticos; la selección de individuos en la población actual para obtener a los padres (cromosomas que se usan para generar la siguiente generación), cruzamiento de de estos padres para generar hijos (cromosomas obtenidos a través de la combinación de los cromosomas padres) y la mutación de los hijos. A pesar de la aleatorización, los AGs no son simples técnicas de búsqueda aleatorias. Ellos exploran eficientemente las nuevas combinaciones con el conocimiento disponible para encontrar una nueva generación con mejore fitness. "
      ]
    },
    {
      "cell_type": "markdown",
      "metadata": {
        "id": "jwyCluUV5kfW"
      },
      "source": [
        "### Ejemplo para mostrar el funcionamiento de los AGs\n",
        "\n",
        "Con el objetivo de explicar el funcionamiento de los AGs se mostrará la implenetación de un AG para resolver un problema de optimización relativamente sencillo. \n",
        "\n",
        "El problema que se usará como ejemplo es el siguiente.\n",
        "\n",
        "Maximizar:\n",
        "\n",
        "$$\n",
        "f(x) = \\text{sen}{\\left( \\frac{x'}{2^\\text{bits}} \\right)} \\tag{1}\n",
        "$$\n",
        "\n",
        "Sujeto a:\n",
        "$$\n",
        "x' = \\sum_{i=1}^D x_i 2^{i-1} \\tag{2}\n",
        "$$\n",
        "\n",
        "$$\n",
        "0 < x' < 250 \\tag{3}\n",
        "$$\n",
        "\n",
        "donde $x'$ es la versión entera de un número binario $x$ y $\\text{bits}$ es el número de bits en este número binario. El rango de búsqueda es de 0 a 250. En este ejemplo se emplean ocho bits para poder cubrir todo el rango de búsqueda, por lo tanto $\\text{bits} = 8$.\n"
      ]
    },
    {
      "cell_type": "code",
      "metadata": {
        "id": "Yh3-FB2JOe2Z",
        "outputId": "d152737b-3853-4c9b-d517-479848500408",
        "colab": {
          "base_uri": "https://localhost:8080/",
          "height": 34
        }
      },
      "source": [
        "# número de bits necesarios para cubrir el rango de búsqueda\n",
        "bits = ceiling(log(250,2))\n",
        "bits"
      ],
      "execution_count": 167,
      "outputs": [
        {
          "output_type": "display_data",
          "data": {
            "text/plain": [
              "[1] 8"
            ],
            "text/latex": "8",
            "text/markdown": "8",
            "text/html": [
              "8"
            ]
          },
          "metadata": {
            "tags": []
          }
        }
      ]
    },
    {
      "cell_type": "code",
      "metadata": {
        "cellView": "form",
        "id": "mac3VRd6fDrf"
      },
      "source": [
        "#@title función para graficar la función objetivo\n",
        "objetivo_grafica = function(x, bits) {\n",
        "\n",
        "    f = sin(pi*(as.numeric(x))/(2^bits))\n",
        "\n",
        "    return(f)\n",
        "}"
      ],
      "execution_count": 33,
      "outputs": []
    },
    {
      "cell_type": "code",
      "metadata": {
        "cellView": "form",
        "id": "mHF8AqPsfME7",
        "outputId": "3d43f87e-45b4-4263-e641-7dec4231752c",
        "colab": {
          "base_uri": "https://localhost:8080/",
          "height": 437
        }
      },
      "source": [
        "#@title graficar función objetivo\n",
        "x = seq(0,250,1)\n",
        "func = objetivo_grafica(x, bits)\n",
        "par(mar = c(5,7,4,2) + 0.1)\n",
        "plot(x,func, type = \"l\", lwd = 4, col = \"darkblue\", cex.lab = 2, cex.axis = 2, xlab = \"x'\", ylab = \"f(x)\")\n",
        "points(128,1,col = \"brown\", cex = 4, pch = 20)"
      ],
      "execution_count": 164,
      "outputs": [
        {
          "output_type": "display_data",
          "data": {
            "image/png": "[encoded data removed]",
            "text/plain": [
              "plot without title"
            ]
          },
          "metadata": {
            "tags": [],
            "image/png": {
              "width": 420,
              "height": 420
            }
          }
        }
      ]
    },
    {
      "cell_type": "markdown",
      "metadata": {
        "id": "ZCc95a3s7OWw"
      },
      "source": [
        "Figura 1. Gráfica de la función a optimizar del ejemplo de AGs. Se aprecia que la función es convex en el intervalo de 0 a 150. Aun así, se crea y aplica un AG para obtener el máximo de esta función para mostrar el funcionamiento de los AGs. El óptimo de la función es $x' = 128$ y $f(128) = 1$."
      ]
    },
    {
      "cell_type": "markdown",
      "metadata": {
        "id": "ygyqf6dNCdsQ"
      },
      "source": [
        "En la Fig. 1 se muestra la gráfica de la función (1). Pese a que esta función es sencilla y obtener su máximo no requiere el uso de AGs se emplea para explicar los conceptos relacionados con la implenentación de AGs. "
      ]
    },
    {
      "cell_type": "markdown",
      "metadata": {
        "id": "Iwuu6bBs4OdR"
      },
      "source": [
        "### Codificación \n",
        "\n",
        "La codificación de las soluciones se refiere a la forma en la que las soluciones en la población son representadas. Existen dos principales tipos de representaciones en un AG. La condificación como números binarios y la codificación como números reales. La codificación binaria fue presentada con la version original de los AGs. La codificación real puede ser necesaria si el problema que se está resolviendo requiere el uso de variables de tipo real. En este último caso es posible programar un algoritmo genético que trabaje completamente con variables reales o emplear una función que permita transformar variables de tipo binario a variables de tipo real.  "
      ]
    },
    {
      "cell_type": "markdown",
      "metadata": {
        "id": "fXumKgx8C_Dp"
      },
      "source": [
        "Para el ejemplo que se analiza en esta sección se requieren variables enteras para realizar la optimización ya que el óptimo de (1) es $x = (1,0,0,0,0,0,0,0)$, que en su forma entera equivale a $x' = 128$. Por esta razón es necesaria función (2) que permite convertir un número binario en un número entero. "
      ]
    },
    {
      "cell_type": "code",
      "metadata": {
        "cellView": "form",
        "id": "nHnCpQw4afWQ"
      },
      "source": [
        "#@title función para transformar binario en entero\n",
        "binario_a_entero = function(binario) {\n",
        "\n",
        "    index = (length(binario)-1):0\n",
        "\n",
        "    entero = sum(2^{index}*binario)\n",
        "\n",
        "    return(entero)\n",
        "}"
      ],
      "execution_count": 18,
      "outputs": []
    },
    {
      "cell_type": "code",
      "metadata": {
        "id": "avGuQmZfRSl1",
        "outputId": "051c1b64-90dd-4d1f-e810-c48190ce554f",
        "colab": {
          "base_uri": "https://localhost:8080/",
          "height": 34
        }
      },
      "source": [
        "binario_a_entero(rep(1,bits))"
      ],
      "execution_count": 175,
      "outputs": [
        {
          "output_type": "display_data",
          "data": {
            "text/plain": [
              "[1] 255"
            ],
            "text/latex": "255",
            "text/markdown": "255",
            "text/html": [
              "255"
            ]
          },
          "metadata": {
            "tags": []
          }
        }
      ]
    },
    {
      "cell_type": "markdown",
      "metadata": {
        "id": "dHlMzqcuExxg"
      },
      "source": [
        "Una vez que se cuenta con esta función es posible crear una población de individuos representados como números binarios y luego transformarlos para obtener su valor equivalente como números enteros.\n",
        "Por ejemplo el número binario $x = 01000100$ se transforma a su forma entera para dar 68. En el ejemplo se usan 8 bits para representar cada número binario ya que este número de bits permite representar un valor máximo 255, con lo que se cubre todo el espacio de búsqueda de 0 a 250. "
      ]
    },
    {
      "cell_type": "markdown",
      "metadata": {
        "id": "i9TEew5HOqFH"
      },
      "source": [
        "Tabla 1. Representación como número binario y como número entero de posibles soluciones del problema de optimización del ejemplo \n",
        "\n",
        "| número binario | número entero | fitness |\n",
        "|:---:|:---:|:---:|\n",
        "| 01000100 | 68 | 0.7409511 |\n",
        "| 01101101 | 109 | 0.97294 |\n",
        "| 11101101 | 237 | 0.2310581\n"
      ]
    },
    {
      "cell_type": "code",
      "metadata": {
        "id": "LY-eiejMFVCf",
        "outputId": "78a36f33-9500-4c4a-df5a-88fa7b6e5a4f",
        "colab": {
          "base_uri": "https://localhost:8080/"
        }
      },
      "source": [
        "bin1 = c(0,1,0,0,0,1,0,0)\n",
        "sol1 = binario_a_entero(bin1)\n",
        "print(sol1)\n",
        "bin2 = c(0,1,1,0,1,1,0,1)\n",
        "sol2 = binario_a_entero(bin2)\n",
        "print(sol2)\n",
        "bin3 = c(1,1,1,0,1,1,0,1)\n",
        "sol3 = binario_a_entero(bin3)\n",
        "print(sol3)"
      ],
      "execution_count": 173,
      "outputs": [
        {
          "output_type": "stream",
          "text": [
            "[1] 68\n",
            "[1] 109\n",
            "[1] 237\n"
          ],
          "name": "stdout"
        }
      ]
    },
    {
      "cell_type": "code",
      "metadata": {
        "id": "JR5XdwTMAmtG"
      },
      "source": [
        "# función objetivo\n",
        "objetivo = function(binario) {\n",
        "\n",
        "    bits = length(binario)\n",
        "\n",
        "    entero = binario_a_entero(binario) \n",
        "\n",
        "    f = sin(pi*(as.numeric(entero))/(2^bits))\n",
        "\n",
        "    return(f)\n",
        "\n",
        "}"
      ],
      "execution_count": 35,
      "outputs": []
    },
    {
      "cell_type": "code",
      "metadata": {
        "id": "baMXpLAnP_4g",
        "outputId": "b4ac6bff-bb59-4d2f-fb43-d76bd731db15",
        "colab": {
          "base_uri": "https://localhost:8080/"
        }
      },
      "source": [
        "fit1 = objetivo(bin1)\n",
        "print(fit1)\n",
        "fit1 = objetivo(bin2)\n",
        "print(fit1)\n",
        "fit1 = objetivo(bin3)\n",
        "print(fit1)"
      ],
      "execution_count": 174,
      "outputs": [
        {
          "output_type": "stream",
          "text": [
            "[1] 0.7409511\n",
            "[1] 0.97294\n",
            "[1] 0.2310581\n"
          ],
          "name": "stdout"
        }
      ]
    },
    {
      "cell_type": "code",
      "metadata": {
        "cellView": "form",
        "id": "MvFsIq4sAsGs"
      },
      "source": [
        "#@title función para crear individuo \n",
        "crear_individuo = function(bits, pool) {\n",
        "\n",
        "    individuo = sample(pool, bits, replace = TRUE)\n",
        "\n",
        "    return(individuo)\n",
        "}"
      ],
      "execution_count": 176,
      "outputs": []
    },
    {
      "cell_type": "code",
      "metadata": {
        "id": "lQZVuDMBA7el",
        "outputId": "05840584-5b85-406a-a56f-e8337c2ad08b",
        "colab": {
          "base_uri": "https://localhost:8080/",
          "height": 34
        }
      },
      "source": [
        "pool = c(0,1)\n",
        "ind = crear_individuo(bits, pool)\n",
        "ind"
      ],
      "execution_count": 26,
      "outputs": [
        {
          "output_type": "display_data",
          "data": {
            "text/plain": [
              "[1] 1 1 1 1 1 0 1 0"
            ],
            "text/latex": "\\begin{enumerate*}\n\\item 1\n\\item 1\n\\item 1\n\\item 1\n\\item 1\n\\item 0\n\\item 1\n\\item 0\n\\end{enumerate*}\n",
            "text/markdown": "1. 1\n2. 1\n3. 1\n4. 1\n5. 1\n6. 0\n7. 1\n8. 0\n\n\n",
            "text/html": [
              "<style>\n",
              ".list-inline {list-style: none; margin:0; padding: 0}\n",
              ".list-inline>li {display: inline-block}\n",
              ".list-inline>li:not(:last-child)::after {content: \"\\00b7\"; padding: 0 .5ex}\n",
              "</style>\n",
              "<ol class=list-inline><li>1</li><li>1</li><li>1</li><li>1</li><li>1</li><li>0</li><li>1</li><li>0</li></ol>\n"
            ]
          },
          "metadata": {
            "tags": []
          }
        }
      ]
    },
    {
      "cell_type": "code",
      "metadata": {
        "id": "DHD52TMcBARJ",
        "outputId": "6a19d5bb-48c1-4109-904d-975e7b601348",
        "colab": {
          "base_uri": "https://localhost:8080/",
          "height": 34
        }
      },
      "source": [
        "# evaluar objetivo \n",
        "objetivo(ind)"
      ],
      "execution_count": 27,
      "outputs": [
        {
          "output_type": "display_data",
          "data": {
            "text/plain": [
              "[1] 0.07356456"
            ],
            "text/latex": "0.0735645635996677",
            "text/markdown": "0.0735645635996677",
            "text/html": [
              "0.0735645635996677"
            ]
          },
          "metadata": {
            "tags": []
          }
        }
      ]
    },
    {
      "cell_type": "code",
      "metadata": {
        "cellView": "form",
        "id": "Q3mSLvZmBMP3"
      },
      "source": [
        "#@title función para crear población\n",
        "\n",
        "crear_poblacion = function(num_ind, bits, pool) {\n",
        "    pop = matrix(nrow = num_ind, ncol = bits)\n",
        "    for (i in 1:num_ind) {\n",
        "\n",
        "        pop[i,] = crear_individuo(bits, pool)\n",
        "    }\n",
        "\n",
        "    return(pop)\n",
        "}"
      ],
      "execution_count": 177,
      "outputs": []
    },
    {
      "cell_type": "code",
      "metadata": {
        "id": "MYx_JIQJBrIm",
        "outputId": "c9ddf30c-a82d-4b70-8989-6ecd123cd093",
        "colab": {
          "base_uri": "https://localhost:8080/",
          "height": 158
        }
      },
      "source": [
        "num_ind = 4\n",
        "pop = crear_poblacion(num_ind, bits, pool)\n",
        "pop"
      ],
      "execution_count": 158,
      "outputs": [
        {
          "output_type": "display_data",
          "data": {
            "text/plain": [
              "     [,1] [,2] [,3] [,4] [,5] [,6] [,7] [,8]\n",
              "[1,] 1    0    1    1    0    1    1    0   \n",
              "[2,] 1    1    1    1    0    1    1    1   \n",
              "[3,] 0    1    1    0    0    0    0    1   \n",
              "[4,] 0    0    0    0    1    0    0    1   "
            ],
            "text/latex": "A matrix: 4 × 8 of type dbl\n\\begin{tabular}{llllllll}\n\t 1 & 0 & 1 & 1 & 0 & 1 & 1 & 0\\\\\n\t 1 & 1 & 1 & 1 & 0 & 1 & 1 & 1\\\\\n\t 0 & 1 & 1 & 0 & 0 & 0 & 0 & 1\\\\\n\t 0 & 0 & 0 & 0 & 1 & 0 & 0 & 1\\\\\n\\end{tabular}\n",
            "text/markdown": "\nA matrix: 4 × 8 of type dbl\n\n| 1 | 0 | 1 | 1 | 0 | 1 | 1 | 0 |\n| 1 | 1 | 1 | 1 | 0 | 1 | 1 | 1 |\n| 0 | 1 | 1 | 0 | 0 | 0 | 0 | 1 |\n| 0 | 0 | 0 | 0 | 1 | 0 | 0 | 1 |\n\n",
            "text/html": [
              "<table class=\"dataframe\">\n",
              "<caption>A matrix: 4 × 8 of type dbl</caption>\n",
              "<tbody>\n",
              "\t<tr><td>1</td><td>0</td><td>1</td><td>1</td><td>0</td><td>1</td><td>1</td><td>0</td></tr>\n",
              "\t<tr><td>1</td><td>1</td><td>1</td><td>1</td><td>0</td><td>1</td><td>1</td><td>1</td></tr>\n",
              "\t<tr><td>0</td><td>1</td><td>1</td><td>0</td><td>0</td><td>0</td><td>0</td><td>1</td></tr>\n",
              "\t<tr><td>0</td><td>0</td><td>0</td><td>0</td><td>1</td><td>0</td><td>0</td><td>1</td></tr>\n",
              "</tbody>\n",
              "</table>\n"
            ]
          },
          "metadata": {
            "tags": []
          }
        }
      ]
    },
    {
      "cell_type": "markdown",
      "metadata": {
        "id": "dSLNr24MSozK"
      },
      "source": [
        "### Función fitness \n",
        "\n",
        "La función fitness es una función que mide que tan buena es una solución. Debe ser establecida de tal forma que una mejor solución tendrá un mayor fitness que peores soluciones.  La función fitness juega un papel fundamental en el proceso de selección. Si se busca maximizar la función objetivo, en algunos casos es posible establecer la función objetivo directamente como la función fitness. Si el problema de optimización busca minimizar la función objetivo, la función fitness tiene que ser planteada de tal forma que el mínimo de la función objetivo corresponda al máximo de la función fitness. Por ejemplo, si se quiere minimizar la función $f(x)$ la función fitness puede ser escrita de la siguiente manera.\n",
        "\n",
        "$$\n",
        "\\text{fitness}(x) = \\frac{1}{1 + f(x)} \\tag{5}\n",
        "$$\n",
        "\n",
        "De esta manera, el valor $x^{opt}$ que genera el valor máximo de $\\text{fitness(x)}$ da lugar al valor mínimo de $f(x)$. El aspecto importante que hay que recrodar es que la mejor solución en el AG tiene que tener el mayor valor de la función fitness. "
      ]
    },
    {
      "cell_type": "code",
      "metadata": {
        "id": "cWzCSETpBzKu",
        "outputId": "401d20af-ea84-4932-b94a-62014fbd3656",
        "colab": {
          "base_uri": "https://localhost:8080/",
          "height": 34
        }
      },
      "source": [
        "# evaluar objetivo \n",
        "apply(pop, 1, objetivo)"
      ],
      "execution_count": 159,
      "outputs": [
        {
          "output_type": "display_data",
          "data": {
            "text/plain": [
              "[1] 0.7883464 0.1102222 0.9285061 0.1102222"
            ],
            "text/latex": "\\begin{enumerate*}\n\\item 0.788346427626606\n\\item 0.110222207293883\n\\item 0.928506080473215\n\\item 0.110222207293883\n\\end{enumerate*}\n",
            "text/markdown": "1. 0.788346427626606\n2. 0.110222207293883\n3. 0.928506080473215\n4. 0.110222207293883\n\n\n",
            "text/html": [
              "<style>\n",
              ".list-inline {list-style: none; margin:0; padding: 0}\n",
              ".list-inline>li {display: inline-block}\n",
              ".list-inline>li:not(:last-child)::after {content: \"\\00b7\"; padding: 0 .5ex}\n",
              "</style>\n",
              "<ol class=list-inline><li>0.788346427626606</li><li>0.110222207293883</li><li>0.928506080473215</li><li>0.110222207293883</li></ol>\n"
            ]
          },
          "metadata": {
            "tags": []
          }
        }
      ]
    },
    {
      "cell_type": "code",
      "metadata": {
        "id": "3Z_jwFR1B7CZ"
      },
      "source": [
        "obtener_fitness = function(pop) {\n",
        "    # en este caso la función fitness es igual a la función objetivo \n",
        "    fitness = apply(pop, 1, objetivo)\n",
        "\n",
        "    return(fitness)\n",
        "}"
      ],
      "execution_count": 178,
      "outputs": []
    },
    {
      "cell_type": "code",
      "metadata": {
        "id": "mHKgNpxGCLXz",
        "outputId": "c5a7312a-5a97-4f7b-891d-c79e46d6f9c3",
        "colab": {
          "base_uri": "https://localhost:8080/",
          "height": 34
        }
      },
      "source": [
        "fitness = obtener_fitness(pop)\n",
        "fitness"
      ],
      "execution_count": 179,
      "outputs": [
        {
          "output_type": "display_data",
          "data": {
            "text/plain": [
              "[1] 0.7883464 0.1102222 0.9285061 0.1102222"
            ],
            "text/latex": "\\begin{enumerate*}\n\\item 0.788346427626606\n\\item 0.110222207293883\n\\item 0.928506080473215\n\\item 0.110222207293883\n\\end{enumerate*}\n",
            "text/markdown": "1. 0.788346427626606\n2. 0.110222207293883\n3. 0.928506080473215\n4. 0.110222207293883\n\n\n",
            "text/html": [
              "<style>\n",
              ".list-inline {list-style: none; margin:0; padding: 0}\n",
              ".list-inline>li {display: inline-block}\n",
              ".list-inline>li:not(:last-child)::after {content: \"\\00b7\"; padding: 0 .5ex}\n",
              "</style>\n",
              "<ol class=list-inline><li>0.788346427626606</li><li>0.110222207293883</li><li>0.928506080473215</li><li>0.110222207293883</li></ol>\n"
            ]
          },
          "metadata": {
            "tags": []
          }
        }
      ]
    },
    {
      "cell_type": "code",
      "metadata": {
        "id": "0ZovCYi3BSU9",
        "outputId": "4e870b84-7bc1-4fa7-a3b8-f89a86ddc29a",
        "colab": {
          "base_uri": "https://localhost:8080/",
          "height": 437
        }
      },
      "source": [
        "x = seq(0,250,1)\n",
        "func = objetivo_grafica(x, bits)\n",
        "par(mar = c(5,7,4,2) + 0.1)\n",
        "plot(x,func, type = \"l\", lwd = 4, col = \"darkblue\", cex.lab = 2, cex.axis = 2, xlab = \"x\", ylab = \"f(x)\")\n",
        "points(apply(pop,1,binario_a_entero), fitness, col = \"brown\", cex = 4, pch = 20)"
      ],
      "execution_count": 162,
      "outputs": [
        {
          "output_type": "display_data",
          "data": {
            "image/png": "[encoded data removed]",
            "text/plain": [
              "plot without title"
            ]
          },
          "metadata": {
            "tags": [],
            "image/png": {
              "width": 420,
              "height": 420
            }
          }
        }
      ]
    },
    {
      "cell_type": "markdown",
      "metadata": {
        "id": "udybXe_CaGjb"
      },
      "source": [
        "### Selección \n",
        "\n",
        "La selección es el primer operador aplicado a la población para seleccionar los individuos con valores de fitness altos y formar la población de padres. El operador de selección se usa para escoger individuos por arriba del promedio de la población actual e insertar sus múltiples copias en la población de padres basado en un procedimiento probabilístico (2019--modern). \n",
        "\n",
        "#### Selección proporcional \n",
        "\n",
        "La selección original con técnica de reemplazo para los GA se denominó selección proporcional al fitness, a veces conocida como selección de ruleta. En este algoritmo, seleccionamos a los individuos en proporción a su fitness: si un individuo tiene un fitness más alto, se selecciona con más frecuencia. En un operador de reproducción comúnmente usado, una cadena se selecciona población de padres con una probabilidad proporcional a su fitness (2014--esentials). Por lo tanto, si $\\text{fitness}_i$ denota el fitness del individuo $i$ en la población de tamaño $n$, la probabilidad de seleccionar al individuo $i$ para la población de padres está dada por.\n",
        "\n",
        "$$\n",
        "p_i = \\frac{\\text{fitness}_i}{\\sum_{j=1}^n\\text{fitness}_j} \\tag{6}\n",
        "$$\n",
        "\n",
        "donde $p_i$ es la probabilidad de seleccionar al individuo $i$.\n",
        "\n",
        "Nota que (6) implica que la suma de las probabilidades de los individuos es 1. La implementación del proceso de selección dado por (6) se puede entender si se imagina una ruleta rusa con su circunferencia dividida en segmentos, uno para cada individuo de la población, con las longitudes de los segmentos proporcionales al fitness de los individuos.  Si se gira la ruleta rusa $n$ veces ($n$ siendo el tamaño de la población) y seleccionando, cada vez, la cadena elegida por el apuntador de la ruleta rusa, obtenemos una población de padres de tamaño $n$. "
      ]
    },
    {
      "cell_type": "markdown",
      "metadata": {
        "id": "fwANsAZUR-Oe"
      },
      "source": [
        "![image.png](data:image/png;base64,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)"
      ]
    },
    {
      "cell_type": "markdown",
      "metadata": {
        "id": "hZJHEx7NkmPS"
      },
      "source": [
        "Figura 2. Esquema de selección proporcional. Cada individuo en la población tiene un espacio en la ruleta que es proporcional a su fitness. Por lo tanto, los individuos con un valor fitness alto tienen mayor probabilidad de ser seleccionados.  "
      ]
    },
    {
      "cell_type": "code",
      "metadata": {
        "id": "FUHr6OHnCM18"
      },
      "source": [
        "seleccion_proporcional = function(pop, fitness) {\n",
        "    # matriz para guardar los padres\n",
        "    padres = matrix(nrow = nrow(pop), ncol = ncol(pop))\n",
        "    # calcular probabilidad\n",
        "    prob = fitness/sum(fitness)\n",
        "\n",
        "    # calcular probabilidad acumulada \n",
        "    prob_acum = prob\n",
        "    for (i in 2:nrow(pop)) {\n",
        "\n",
        "        prob_acum[i] = prob_acum[i] + prob_acum[i-1]\n",
        "    }\n",
        "\n",
        "    for (i in 1:nrow(pop)) {\n",
        "\n",
        "        rand = runif(1,0,1)\n",
        "\n",
        "        min = 0\n",
        "\n",
        "        for (j in 1:length(prob_acum)) {\n",
        "\n",
        "            if (rand > min & rand < prob_acum[j]) {\n",
        "\n",
        "                padres[i,] = pop[j,]\n",
        "                break\n",
        "            }\n",
        "\n",
        "            min = prob_acum[j]\n",
        "        }\n",
        "    }\n",
        "\n",
        "    return(padres)\n",
        "\n",
        "} "
      ],
      "execution_count": 38,
      "outputs": []
    },
    {
      "cell_type": "code",
      "metadata": {
        "id": "_LrUIVnPDZBU",
        "outputId": "b32d5931-b907-4955-cebd-d54756bf9322",
        "colab": {
          "base_uri": "https://localhost:8080/",
          "height": 344
        }
      },
      "source": [
        "seleccion_proporcional(pop, fitness)"
      ],
      "execution_count": 39,
      "outputs": [
        {
          "output_type": "display_data",
          "data": {
            "text/plain": [
              "      [,1] [,2] [,3] [,4] [,5] [,6] [,7] [,8]\n",
              " [1,] 1    0    1    0    0    1    0    0   \n",
              " [2,] 1    1    0    0    0    1    0    0   \n",
              " [3,] 1    0    1    1    1    1    1    0   \n",
              " [4,] 0    1    0    0    1    0    1    1   \n",
              " [5,] 1    1    1    1    1    0    1    0   \n",
              " [6,] 0    1    0    0    1    0    1    1   \n",
              " [7,] 1    1    0    0    0    1    0    0   \n",
              " [8,] 1    0    1    1    0    0    1    0   \n",
              " [9,] 1    1    0    0    0    1    0    0   \n",
              "[10,] 1    1    0    0    0    1    0    0   "
            ],
            "text/latex": "A matrix: 10 × 8 of type dbl\n\\begin{tabular}{llllllll}\n\t 1 & 0 & 1 & 0 & 0 & 1 & 0 & 0\\\\\n\t 1 & 1 & 0 & 0 & 0 & 1 & 0 & 0\\\\\n\t 1 & 0 & 1 & 1 & 1 & 1 & 1 & 0\\\\\n\t 0 & 1 & 0 & 0 & 1 & 0 & 1 & 1\\\\\n\t 1 & 1 & 1 & 1 & 1 & 0 & 1 & 0\\\\\n\t 0 & 1 & 0 & 0 & 1 & 0 & 1 & 1\\\\\n\t 1 & 1 & 0 & 0 & 0 & 1 & 0 & 0\\\\\n\t 1 & 0 & 1 & 1 & 0 & 0 & 1 & 0\\\\\n\t 1 & 1 & 0 & 0 & 0 & 1 & 0 & 0\\\\\n\t 1 & 1 & 0 & 0 & 0 & 1 & 0 & 0\\\\\n\\end{tabular}\n",
            "text/markdown": "\nA matrix: 10 × 8 of type dbl\n\n| 1 | 0 | 1 | 0 | 0 | 1 | 0 | 0 |\n| 1 | 1 | 0 | 0 | 0 | 1 | 0 | 0 |\n| 1 | 0 | 1 | 1 | 1 | 1 | 1 | 0 |\n| 0 | 1 | 0 | 0 | 1 | 0 | 1 | 1 |\n| 1 | 1 | 1 | 1 | 1 | 0 | 1 | 0 |\n| 0 | 1 | 0 | 0 | 1 | 0 | 1 | 1 |\n| 1 | 1 | 0 | 0 | 0 | 1 | 0 | 0 |\n| 1 | 0 | 1 | 1 | 0 | 0 | 1 | 0 |\n| 1 | 1 | 0 | 0 | 0 | 1 | 0 | 0 |\n| 1 | 1 | 0 | 0 | 0 | 1 | 0 | 0 |\n\n",
            "text/html": [
              "<table class=\"dataframe\">\n",
              "<caption>A matrix: 10 × 8 of type dbl</caption>\n",
              "<tbody>\n",
              "\t<tr><td>1</td><td>0</td><td>1</td><td>0</td><td>0</td><td>1</td><td>0</td><td>0</td></tr>\n",
              "\t<tr><td>1</td><td>1</td><td>0</td><td>0</td><td>0</td><td>1</td><td>0</td><td>0</td></tr>\n",
              "\t<tr><td>1</td><td>0</td><td>1</td><td>1</td><td>1</td><td>1</td><td>1</td><td>0</td></tr>\n",
              "\t<tr><td>0</td><td>1</td><td>0</td><td>0</td><td>1</td><td>0</td><td>1</td><td>1</td></tr>\n",
              "\t<tr><td>1</td><td>1</td><td>1</td><td>1</td><td>1</td><td>0</td><td>1</td><td>0</td></tr>\n",
              "\t<tr><td>0</td><td>1</td><td>0</td><td>0</td><td>1</td><td>0</td><td>1</td><td>1</td></tr>\n",
              "\t<tr><td>1</td><td>1</td><td>0</td><td>0</td><td>0</td><td>1</td><td>0</td><td>0</td></tr>\n",
              "\t<tr><td>1</td><td>0</td><td>1</td><td>1</td><td>0</td><td>0</td><td>1</td><td>0</td></tr>\n",
              "\t<tr><td>1</td><td>1</td><td>0</td><td>0</td><td>0</td><td>1</td><td>0</td><td>0</td></tr>\n",
              "\t<tr><td>1</td><td>1</td><td>0</td><td>0</td><td>0</td><td>1</td><td>0</td><td>0</td></tr>\n",
              "</tbody>\n",
              "</table>\n"
            ]
          },
          "metadata": {
            "tags": []
          }
        }
      ]
    },
    {
      "cell_type": "code",
      "metadata": {
        "id": "OEZmV83rDhgR"
      },
      "source": [
        "selection_torneo = function(pop, muestra) {\n",
        "\n",
        "    padres = matrix(nrow = nrow(pop), ncol = ncol(pop))\n",
        "\n",
        "    for (i in 1:nrow(pop)) {\n",
        "\n",
        "        indices = sample(1:nrow(pop), muestra, replace = F)\n",
        "\n",
        "        individuos = pop[indices, ]\n",
        "\n",
        "        fitness = apply(individuos, 1, objetivo)\n",
        "\n",
        "        ganador = which.max(fitness)\n",
        "\n",
        "        padres[i,] = individuos[ganador,]\n",
        "\n",
        "    }\n",
        "\n",
        "    return(padres)\n",
        "\n",
        "}"
      ],
      "execution_count": 56,
      "outputs": []
    },
    {
      "cell_type": "code",
      "metadata": {
        "id": "A_osC-WfIWSu",
        "outputId": "274104cf-ae75-47f5-e38f-e7f60ddc630b",
        "colab": {
          "base_uri": "https://localhost:8080/",
          "height": 344
        }
      },
      "source": [
        "muestra = 2\n",
        "selection_torneo(pop, muestra)"
      ],
      "execution_count": 43,
      "outputs": [
        {
          "output_type": "display_data",
          "data": {
            "text/plain": [
              "      [,1] [,2] [,3] [,4] [,5] [,6] [,7] [,8]\n",
              " [1,] 1    1    0    0    0    1    0    0   \n",
              " [2,] 1    1    0    0    0    1    0    0   \n",
              " [3,] 1    0    1    0    0    1    0    0   \n",
              " [4,] 1    0    1    1    0    0    1    0   \n",
              " [5,] 1    0    1    1    0    0    1    0   \n",
              " [6,] 1    0    1    1    1    1    1    0   \n",
              " [7,] 1    0    1    0    0    1    0    0   \n",
              " [8,] 1    0    1    0    0    1    0    0   \n",
              " [9,] 1    0    1    1    1    1    1    0   \n",
              "[10,] 1    0    1    1    0    0    1    0   "
            ],
            "text/latex": "A matrix: 10 × 8 of type dbl\n\\begin{tabular}{llllllll}\n\t 1 & 1 & 0 & 0 & 0 & 1 & 0 & 0\\\\\n\t 1 & 1 & 0 & 0 & 0 & 1 & 0 & 0\\\\\n\t 1 & 0 & 1 & 0 & 0 & 1 & 0 & 0\\\\\n\t 1 & 0 & 1 & 1 & 0 & 0 & 1 & 0\\\\\n\t 1 & 0 & 1 & 1 & 0 & 0 & 1 & 0\\\\\n\t 1 & 0 & 1 & 1 & 1 & 1 & 1 & 0\\\\\n\t 1 & 0 & 1 & 0 & 0 & 1 & 0 & 0\\\\\n\t 1 & 0 & 1 & 0 & 0 & 1 & 0 & 0\\\\\n\t 1 & 0 & 1 & 1 & 1 & 1 & 1 & 0\\\\\n\t 1 & 0 & 1 & 1 & 0 & 0 & 1 & 0\\\\\n\\end{tabular}\n",
            "text/markdown": "\nA matrix: 10 × 8 of type dbl\n\n| 1 | 1 | 0 | 0 | 0 | 1 | 0 | 0 |\n| 1 | 1 | 0 | 0 | 0 | 1 | 0 | 0 |\n| 1 | 0 | 1 | 0 | 0 | 1 | 0 | 0 |\n| 1 | 0 | 1 | 1 | 0 | 0 | 1 | 0 |\n| 1 | 0 | 1 | 1 | 0 | 0 | 1 | 0 |\n| 1 | 0 | 1 | 1 | 1 | 1 | 1 | 0 |\n| 1 | 0 | 1 | 0 | 0 | 1 | 0 | 0 |\n| 1 | 0 | 1 | 0 | 0 | 1 | 0 | 0 |\n| 1 | 0 | 1 | 1 | 1 | 1 | 1 | 0 |\n| 1 | 0 | 1 | 1 | 0 | 0 | 1 | 0 |\n\n",
            "text/html": [
              "<table class=\"dataframe\">\n",
              "<caption>A matrix: 10 × 8 of type dbl</caption>\n",
              "<tbody>\n",
              "\t<tr><td>1</td><td>1</td><td>0</td><td>0</td><td>0</td><td>1</td><td>0</td><td>0</td></tr>\n",
              "\t<tr><td>1</td><td>1</td><td>0</td><td>0</td><td>0</td><td>1</td><td>0</td><td>0</td></tr>\n",
              "\t<tr><td>1</td><td>0</td><td>1</td><td>0</td><td>0</td><td>1</td><td>0</td><td>0</td></tr>\n",
              "\t<tr><td>1</td><td>0</td><td>1</td><td>1</td><td>0</td><td>0</td><td>1</td><td>0</td></tr>\n",
              "\t<tr><td>1</td><td>0</td><td>1</td><td>1</td><td>0</td><td>0</td><td>1</td><td>0</td></tr>\n",
              "\t<tr><td>1</td><td>0</td><td>1</td><td>1</td><td>1</td><td>1</td><td>1</td><td>0</td></tr>\n",
              "\t<tr><td>1</td><td>0</td><td>1</td><td>0</td><td>0</td><td>1</td><td>0</td><td>0</td></tr>\n",
              "\t<tr><td>1</td><td>0</td><td>1</td><td>0</td><td>0</td><td>1</td><td>0</td><td>0</td></tr>\n",
              "\t<tr><td>1</td><td>0</td><td>1</td><td>1</td><td>1</td><td>1</td><td>1</td><td>0</td></tr>\n",
              "\t<tr><td>1</td><td>0</td><td>1</td><td>1</td><td>0</td><td>0</td><td>1</td><td>0</td></tr>\n",
              "</tbody>\n",
              "</table>\n"
            ]
          },
          "metadata": {
            "tags": []
          }
        }
      ]
    },
    {
      "cell_type": "code",
      "metadata": {
        "id": "rtjEc2U7IfqH"
      },
      "source": [
        "cruzamiento_un_punto = function(pop, pc) {\n",
        "\n",
        "    hijos = matrix(nrow = nrow(pop), ncol = ncol(pop))\n",
        "\n",
        "    for (i in 1:(nrow(pop)/2)) {\n",
        "\n",
        "        p1 = pop[2*i-1, ]\n",
        "        p2 = pop[2*i, ]\n",
        "\n",
        "        rand = runif(1,0,1)\n",
        "\n",
        "        if (rand < pc) {\n",
        "\n",
        "            cp = sample(2:(ncol(pop)-1), 1)\n",
        "\n",
        "            p11 = p1[1:cp]\n",
        "            p12 = p1[(cp+1):ncol(pop)]   \n",
        "            p21 = p2[1:cp]\n",
        "            p22 = p2[(cp+1):ncol(pop)]\n",
        "\n",
        "            c1 = c(p11,p22)\n",
        "            c2 = c(p21,p12)\n",
        "\n",
        "            hijos[2*i-1, ] = c1\n",
        "            hijos[2*i, ] = c2\n",
        "        }\n",
        "\n",
        "        else {\n",
        "\n",
        "            hijos[2*i-1, ] = p1\n",
        "            hijos[2*i, ] = p2\n",
        "        }\n",
        "\n",
        "        \n",
        "    }\n",
        "\n",
        "    return(hijos)\n",
        "}"
      ],
      "execution_count": 57,
      "outputs": []
    },
    {
      "cell_type": "code",
      "metadata": {
        "id": "79Z8CiavLtYn",
        "outputId": "c80230e8-fbbf-4c70-e4bd-77bec5176032",
        "colab": {
          "base_uri": "https://localhost:8080/",
          "height": 344
        }
      },
      "source": [
        "pc = 0.8\n",
        "cruzamiento_un_punto(pop, pc)"
      ],
      "execution_count": 58,
      "outputs": [
        {
          "output_type": "display_data",
          "data": {
            "text/plain": [
              "      [,1] [,2] [,3] [,4] [,5] [,6] [,7] [,8]\n",
              " [1,] 0    0    1    1    1    0    0    0   \n",
              " [2,] 1    0    1    0    0    1    0    0   \n",
              " [3,] 1    1    0    0    0    1    0    0   \n",
              " [4,] 1    1    0    1    1    0    0    1   \n",
              " [5,] 1    1    0    0    0    0    0    1   \n",
              " [6,] 0    0    0    1    0    0    0    1   \n",
              " [7,] 1    1    1    1    1    0    1    0   \n",
              " [8,] 1    0    1    1    0    0    1    0   \n",
              " [9,] 1    0    1    1    1    1    1    0   \n",
              "[10,] 0    1    0    0    1    0    1    1   "
            ],
            "text/latex": "A matrix: 10 × 8 of type dbl\n\\begin{tabular}{llllllll}\n\t 0 & 0 & 1 & 1 & 1 & 0 & 0 & 0\\\\\n\t 1 & 0 & 1 & 0 & 0 & 1 & 0 & 0\\\\\n\t 1 & 1 & 0 & 0 & 0 & 1 & 0 & 0\\\\\n\t 1 & 1 & 0 & 1 & 1 & 0 & 0 & 1\\\\\n\t 1 & 1 & 0 & 0 & 0 & 0 & 0 & 1\\\\\n\t 0 & 0 & 0 & 1 & 0 & 0 & 0 & 1\\\\\n\t 1 & 1 & 1 & 1 & 1 & 0 & 1 & 0\\\\\n\t 1 & 0 & 1 & 1 & 0 & 0 & 1 & 0\\\\\n\t 1 & 0 & 1 & 1 & 1 & 1 & 1 & 0\\\\\n\t 0 & 1 & 0 & 0 & 1 & 0 & 1 & 1\\\\\n\\end{tabular}\n",
            "text/markdown": "\nA matrix: 10 × 8 of type dbl\n\n| 0 | 0 | 1 | 1 | 1 | 0 | 0 | 0 |\n| 1 | 0 | 1 | 0 | 0 | 1 | 0 | 0 |\n| 1 | 1 | 0 | 0 | 0 | 1 | 0 | 0 |\n| 1 | 1 | 0 | 1 | 1 | 0 | 0 | 1 |\n| 1 | 1 | 0 | 0 | 0 | 0 | 0 | 1 |\n| 0 | 0 | 0 | 1 | 0 | 0 | 0 | 1 |\n| 1 | 1 | 1 | 1 | 1 | 0 | 1 | 0 |\n| 1 | 0 | 1 | 1 | 0 | 0 | 1 | 0 |\n| 1 | 0 | 1 | 1 | 1 | 1 | 1 | 0 |\n| 0 | 1 | 0 | 0 | 1 | 0 | 1 | 1 |\n\n",
            "text/html": [
              "<table class=\"dataframe\">\n",
              "<caption>A matrix: 10 × 8 of type dbl</caption>\n",
              "<tbody>\n",
              "\t<tr><td>0</td><td>0</td><td>1</td><td>1</td><td>1</td><td>0</td><td>0</td><td>0</td></tr>\n",
              "\t<tr><td>1</td><td>0</td><td>1</td><td>0</td><td>0</td><td>1</td><td>0</td><td>0</td></tr>\n",
              "\t<tr><td>1</td><td>1</td><td>0</td><td>0</td><td>0</td><td>1</td><td>0</td><td>0</td></tr>\n",
              "\t<tr><td>1</td><td>1</td><td>0</td><td>1</td><td>1</td><td>0</td><td>0</td><td>1</td></tr>\n",
              "\t<tr><td>1</td><td>1</td><td>0</td><td>0</td><td>0</td><td>0</td><td>0</td><td>1</td></tr>\n",
              "\t<tr><td>0</td><td>0</td><td>0</td><td>1</td><td>0</td><td>0</td><td>0</td><td>1</td></tr>\n",
              "\t<tr><td>1</td><td>1</td><td>1</td><td>1</td><td>1</td><td>0</td><td>1</td><td>0</td></tr>\n",
              "\t<tr><td>1</td><td>0</td><td>1</td><td>1</td><td>0</td><td>0</td><td>1</td><td>0</td></tr>\n",
              "\t<tr><td>1</td><td>0</td><td>1</td><td>1</td><td>1</td><td>1</td><td>1</td><td>0</td></tr>\n",
              "\t<tr><td>0</td><td>1</td><td>0</td><td>0</td><td>1</td><td>0</td><td>1</td><td>1</td></tr>\n",
              "</tbody>\n",
              "</table>\n"
            ]
          },
          "metadata": {
            "tags": []
          }
        }
      ]
    },
    {
      "cell_type": "code",
      "metadata": {
        "id": "LsC_ruAPMpqG"
      },
      "source": [
        "cruzamiento_uniforme = function(pop, pc) {\n",
        "\n",
        "    hijos = matrix(nrow = nrow(pop), ncol = ncol(pop))\n",
        "\n",
        "    for (i in 1:(nrow(pop)/2)) {\n",
        "\n",
        "        p1 = pop[2*i-1, ]\n",
        "        p2 = pop[2*i, ]\n",
        "\n",
        "        c1 = integer(length = ncol(pop))\n",
        "        c2 = integer(length = ncol(pop))\n",
        "\n",
        "        for (j in 1:ncol(pop)) {\n",
        "\n",
        "            rand = runif(1,0,1)\n",
        "\n",
        "            if (rand > 0.5) {\n",
        "\n",
        "                c1[j] = p1[j]\n",
        "                c2[j] = p2[j]\n",
        "\n",
        "            }\n",
        "\n",
        "            else {\n",
        "\n",
        "                c1[j] = p2[j]\n",
        "                c2[j] = p1[j]\n",
        "            }\n",
        "        }\n",
        "\n",
        "        hijos[2*i-1, ] = c1\n",
        "        hijos[2*i, ] = c2\n",
        "        \n",
        "    }\n",
        "\n",
        "    return(hijos)\n",
        "}"
      ],
      "execution_count": 59,
      "outputs": []
    },
    {
      "cell_type": "code",
      "metadata": {
        "id": "UyzZtyX1Qt7C",
        "outputId": "778c452b-6a91-4e89-9310-03e75dde3722",
        "colab": {
          "base_uri": "https://localhost:8080/",
          "height": 344
        }
      },
      "source": [
        "cruzamiento_uniforme(pop, pc)"
      ],
      "execution_count": 60,
      "outputs": [
        {
          "output_type": "display_data",
          "data": {
            "text/plain": [
              "      [,1] [,2] [,3] [,4] [,5] [,6] [,7] [,8]\n",
              " [1,] 0    0    1    1    0    0    0    0   \n",
              " [2,] 1    0    1    0    1    1    0    0   \n",
              " [3,] 1    1    0    1    1    0    0    0   \n",
              " [4,] 1    1    0    0    0    1    0    1   \n",
              " [5,] 0    1    0    0    0    0    0    1   \n",
              " [6,] 1    0    0    1    0    0    0    1   \n",
              " [7,] 1    1    1    1    0    0    1    0   \n",
              " [8,] 1    0    1    1    1    0    1    0   \n",
              " [9,] 0    0    1    0    1    1    1    1   \n",
              "[10,] 1    1    0    1    1    0    1    0   "
            ],
            "text/latex": "A matrix: 10 × 8 of type dbl\n\\begin{tabular}{llllllll}\n\t 0 & 0 & 1 & 1 & 0 & 0 & 0 & 0\\\\\n\t 1 & 0 & 1 & 0 & 1 & 1 & 0 & 0\\\\\n\t 1 & 1 & 0 & 1 & 1 & 0 & 0 & 0\\\\\n\t 1 & 1 & 0 & 0 & 0 & 1 & 0 & 1\\\\\n\t 0 & 1 & 0 & 0 & 0 & 0 & 0 & 1\\\\\n\t 1 & 0 & 0 & 1 & 0 & 0 & 0 & 1\\\\\n\t 1 & 1 & 1 & 1 & 0 & 0 & 1 & 0\\\\\n\t 1 & 0 & 1 & 1 & 1 & 0 & 1 & 0\\\\\n\t 0 & 0 & 1 & 0 & 1 & 1 & 1 & 1\\\\\n\t 1 & 1 & 0 & 1 & 1 & 0 & 1 & 0\\\\\n\\end{tabular}\n",
            "text/markdown": "\nA matrix: 10 × 8 of type dbl\n\n| 0 | 0 | 1 | 1 | 0 | 0 | 0 | 0 |\n| 1 | 0 | 1 | 0 | 1 | 1 | 0 | 0 |\n| 1 | 1 | 0 | 1 | 1 | 0 | 0 | 0 |\n| 1 | 1 | 0 | 0 | 0 | 1 | 0 | 1 |\n| 0 | 1 | 0 | 0 | 0 | 0 | 0 | 1 |\n| 1 | 0 | 0 | 1 | 0 | 0 | 0 | 1 |\n| 1 | 1 | 1 | 1 | 0 | 0 | 1 | 0 |\n| 1 | 0 | 1 | 1 | 1 | 0 | 1 | 0 |\n| 0 | 0 | 1 | 0 | 1 | 1 | 1 | 1 |\n| 1 | 1 | 0 | 1 | 1 | 0 | 1 | 0 |\n\n",
            "text/html": [
              "<table class=\"dataframe\">\n",
              "<caption>A matrix: 10 × 8 of type dbl</caption>\n",
              "<tbody>\n",
              "\t<tr><td>0</td><td>0</td><td>1</td><td>1</td><td>0</td><td>0</td><td>0</td><td>0</td></tr>\n",
              "\t<tr><td>1</td><td>0</td><td>1</td><td>0</td><td>1</td><td>1</td><td>0</td><td>0</td></tr>\n",
              "\t<tr><td>1</td><td>1</td><td>0</td><td>1</td><td>1</td><td>0</td><td>0</td><td>0</td></tr>\n",
              "\t<tr><td>1</td><td>1</td><td>0</td><td>0</td><td>0</td><td>1</td><td>0</td><td>1</td></tr>\n",
              "\t<tr><td>0</td><td>1</td><td>0</td><td>0</td><td>0</td><td>0</td><td>0</td><td>1</td></tr>\n",
              "\t<tr><td>1</td><td>0</td><td>0</td><td>1</td><td>0</td><td>0</td><td>0</td><td>1</td></tr>\n",
              "\t<tr><td>1</td><td>1</td><td>1</td><td>1</td><td>0</td><td>0</td><td>1</td><td>0</td></tr>\n",
              "\t<tr><td>1</td><td>0</td><td>1</td><td>1</td><td>1</td><td>0</td><td>1</td><td>0</td></tr>\n",
              "\t<tr><td>0</td><td>0</td><td>1</td><td>0</td><td>1</td><td>1</td><td>1</td><td>1</td></tr>\n",
              "\t<tr><td>1</td><td>1</td><td>0</td><td>1</td><td>1</td><td>0</td><td>1</td><td>0</td></tr>\n",
              "</tbody>\n",
              "</table>\n"
            ]
          },
          "metadata": {
            "tags": []
          }
        }
      ]
    },
    {
      "cell_type": "code",
      "metadata": {
        "id": "XA1WLOUGQx7_",
        "outputId": "f0a13ec4-3c27-44a1-c359-3360310b7f73",
        "colab": {
          "base_uri": "https://localhost:8080/",
          "height": 344
        }
      },
      "source": [
        "pop"
      ],
      "execution_count": 61,
      "outputs": [
        {
          "output_type": "display_data",
          "data": {
            "text/plain": [
              "      [,1] [,2] [,3] [,4] [,5] [,6] [,7] [,8]\n",
              " [1,] 0    0    1    1    1    0    0    0   \n",
              " [2,] 1    0    1    0    0    1    0    0   \n",
              " [3,] 1    1    0    0    0    1    0    0   \n",
              " [4,] 1    1    0    1    1    0    0    1   \n",
              " [5,] 1    1    0    1    0    0    0    1   \n",
              " [6,] 0    0    0    0    0    0    0    1   \n",
              " [7,] 1    1    1    1    1    0    1    0   \n",
              " [8,] 1    0    1    1    0    0    1    0   \n",
              " [9,] 1    0    1    1    1    1    1    0   \n",
              "[10,] 0    1    0    0    1    0    1    1   "
            ],
            "text/latex": "A matrix: 10 × 8 of type dbl\n\\begin{tabular}{llllllll}\n\t 0 & 0 & 1 & 1 & 1 & 0 & 0 & 0\\\\\n\t 1 & 0 & 1 & 0 & 0 & 1 & 0 & 0\\\\\n\t 1 & 1 & 0 & 0 & 0 & 1 & 0 & 0\\\\\n\t 1 & 1 & 0 & 1 & 1 & 0 & 0 & 1\\\\\n\t 1 & 1 & 0 & 1 & 0 & 0 & 0 & 1\\\\\n\t 0 & 0 & 0 & 0 & 0 & 0 & 0 & 1\\\\\n\t 1 & 1 & 1 & 1 & 1 & 0 & 1 & 0\\\\\n\t 1 & 0 & 1 & 1 & 0 & 0 & 1 & 0\\\\\n\t 1 & 0 & 1 & 1 & 1 & 1 & 1 & 0\\\\\n\t 0 & 1 & 0 & 0 & 1 & 0 & 1 & 1\\\\\n\\end{tabular}\n",
            "text/markdown": "\nA matrix: 10 × 8 of type dbl\n\n| 0 | 0 | 1 | 1 | 1 | 0 | 0 | 0 |\n| 1 | 0 | 1 | 0 | 0 | 1 | 0 | 0 |\n| 1 | 1 | 0 | 0 | 0 | 1 | 0 | 0 |\n| 1 | 1 | 0 | 1 | 1 | 0 | 0 | 1 |\n| 1 | 1 | 0 | 1 | 0 | 0 | 0 | 1 |\n| 0 | 0 | 0 | 0 | 0 | 0 | 0 | 1 |\n| 1 | 1 | 1 | 1 | 1 | 0 | 1 | 0 |\n| 1 | 0 | 1 | 1 | 0 | 0 | 1 | 0 |\n| 1 | 0 | 1 | 1 | 1 | 1 | 1 | 0 |\n| 0 | 1 | 0 | 0 | 1 | 0 | 1 | 1 |\n\n",
            "text/html": [
              "<table class=\"dataframe\">\n",
              "<caption>A matrix: 10 × 8 of type dbl</caption>\n",
              "<tbody>\n",
              "\t<tr><td>0</td><td>0</td><td>1</td><td>1</td><td>1</td><td>0</td><td>0</td><td>0</td></tr>\n",
              "\t<tr><td>1</td><td>0</td><td>1</td><td>0</td><td>0</td><td>1</td><td>0</td><td>0</td></tr>\n",
              "\t<tr><td>1</td><td>1</td><td>0</td><td>0</td><td>0</td><td>1</td><td>0</td><td>0</td></tr>\n",
              "\t<tr><td>1</td><td>1</td><td>0</td><td>1</td><td>1</td><td>0</td><td>0</td><td>1</td></tr>\n",
              "\t<tr><td>1</td><td>1</td><td>0</td><td>1</td><td>0</td><td>0</td><td>0</td><td>1</td></tr>\n",
              "\t<tr><td>0</td><td>0</td><td>0</td><td>0</td><td>0</td><td>0</td><td>0</td><td>1</td></tr>\n",
              "\t<tr><td>1</td><td>1</td><td>1</td><td>1</td><td>1</td><td>0</td><td>1</td><td>0</td></tr>\n",
              "\t<tr><td>1</td><td>0</td><td>1</td><td>1</td><td>0</td><td>0</td><td>1</td><td>0</td></tr>\n",
              "\t<tr><td>1</td><td>0</td><td>1</td><td>1</td><td>1</td><td>1</td><td>1</td><td>0</td></tr>\n",
              "\t<tr><td>0</td><td>1</td><td>0</td><td>0</td><td>1</td><td>0</td><td>1</td><td>1</td></tr>\n",
              "</tbody>\n",
              "</table>\n"
            ]
          },
          "metadata": {
            "tags": []
          }
        }
      ]
    },
    {
      "cell_type": "code",
      "metadata": {
        "id": "55AuCj6BQ05V"
      },
      "source": [
        "mutacion_un_punto = function(pop, pm) {\n",
        "\n",
        "    hijos = matrix(nrow = nrow(pop), ncol = ncol(pop))\n",
        "\n",
        "    for (i in 1:nrow(pop)) {\n",
        "\n",
        "        hijo = pop[i, ]\n",
        "\n",
        "        rand = runif(1,0,1)\n",
        "        if (rand < pm) {\n",
        "            mut = sample(1:ncol(pop),1)\n",
        "            bit = pop[mut]\n",
        "            hijo[mut] = ifelse(bit == 0, 1, 0)\n",
        "            hijos[i, ] = hijo \n",
        "        }\n",
        "        else {\n",
        "            hijos[i, ] = hijo\n",
        "        }\n",
        "    }\n",
        "\n",
        "    return(hijos) \n",
        "}"
      ],
      "execution_count": 62,
      "outputs": []
    },
    {
      "cell_type": "code",
      "metadata": {
        "id": "YvN_N4JcR0n8",
        "outputId": "2e69b76a-5e3d-48f0-b79a-a87598f6d336",
        "colab": {
          "base_uri": "https://localhost:8080/",
          "height": 344
        }
      },
      "source": [
        "pm = 0.5\n",
        "mutacion_un_punto(pop,pm)"
      ],
      "execution_count": 63,
      "outputs": [
        {
          "output_type": "display_data",
          "data": {
            "text/plain": [
              "      [,1] [,2] [,3] [,4] [,5] [,6] [,7] [,8]\n",
              " [1,] 0    0    1    1    0    0    0    0   \n",
              " [2,] 1    0    1    0    0    1    0    0   \n",
              " [3,] 1    1    0    0    0    1    0    0   \n",
              " [4,] 1    1    0    1    1    1    0    1   \n",
              " [5,] 1    1    0    1    0    0    0    1   \n",
              " [6,] 0    0    0    0    0    0    0    1   \n",
              " [7,] 1    1    1    1    1    0    1    0   \n",
              " [8,] 1    0    1    1    0    0    1    0   \n",
              " [9,] 1    0    1    1    1    1    1    0   \n",
              "[10,] 0    0    0    0    1    0    1    1   "
            ],
            "text/latex": "A matrix: 10 × 8 of type dbl\n\\begin{tabular}{llllllll}\n\t 0 & 0 & 1 & 1 & 0 & 0 & 0 & 0\\\\\n\t 1 & 0 & 1 & 0 & 0 & 1 & 0 & 0\\\\\n\t 1 & 1 & 0 & 0 & 0 & 1 & 0 & 0\\\\\n\t 1 & 1 & 0 & 1 & 1 & 1 & 0 & 1\\\\\n\t 1 & 1 & 0 & 1 & 0 & 0 & 0 & 1\\\\\n\t 0 & 0 & 0 & 0 & 0 & 0 & 0 & 1\\\\\n\t 1 & 1 & 1 & 1 & 1 & 0 & 1 & 0\\\\\n\t 1 & 0 & 1 & 1 & 0 & 0 & 1 & 0\\\\\n\t 1 & 0 & 1 & 1 & 1 & 1 & 1 & 0\\\\\n\t 0 & 0 & 0 & 0 & 1 & 0 & 1 & 1\\\\\n\\end{tabular}\n",
            "text/markdown": "\nA matrix: 10 × 8 of type dbl\n\n| 0 | 0 | 1 | 1 | 0 | 0 | 0 | 0 |\n| 1 | 0 | 1 | 0 | 0 | 1 | 0 | 0 |\n| 1 | 1 | 0 | 0 | 0 | 1 | 0 | 0 |\n| 1 | 1 | 0 | 1 | 1 | 1 | 0 | 1 |\n| 1 | 1 | 0 | 1 | 0 | 0 | 0 | 1 |\n| 0 | 0 | 0 | 0 | 0 | 0 | 0 | 1 |\n| 1 | 1 | 1 | 1 | 1 | 0 | 1 | 0 |\n| 1 | 0 | 1 | 1 | 0 | 0 | 1 | 0 |\n| 1 | 0 | 1 | 1 | 1 | 1 | 1 | 0 |\n| 0 | 0 | 0 | 0 | 1 | 0 | 1 | 1 |\n\n",
            "text/html": [
              "<table class=\"dataframe\">\n",
              "<caption>A matrix: 10 × 8 of type dbl</caption>\n",
              "<tbody>\n",
              "\t<tr><td>0</td><td>0</td><td>1</td><td>1</td><td>0</td><td>0</td><td>0</td><td>0</td></tr>\n",
              "\t<tr><td>1</td><td>0</td><td>1</td><td>0</td><td>0</td><td>1</td><td>0</td><td>0</td></tr>\n",
              "\t<tr><td>1</td><td>1</td><td>0</td><td>0</td><td>0</td><td>1</td><td>0</td><td>0</td></tr>\n",
              "\t<tr><td>1</td><td>1</td><td>0</td><td>1</td><td>1</td><td>1</td><td>0</td><td>1</td></tr>\n",
              "\t<tr><td>1</td><td>1</td><td>0</td><td>1</td><td>0</td><td>0</td><td>0</td><td>1</td></tr>\n",
              "\t<tr><td>0</td><td>0</td><td>0</td><td>0</td><td>0</td><td>0</td><td>0</td><td>1</td></tr>\n",
              "\t<tr><td>1</td><td>1</td><td>1</td><td>1</td><td>1</td><td>0</td><td>1</td><td>0</td></tr>\n",
              "\t<tr><td>1</td><td>0</td><td>1</td><td>1</td><td>0</td><td>0</td><td>1</td><td>0</td></tr>\n",
              "\t<tr><td>1</td><td>0</td><td>1</td><td>1</td><td>1</td><td>1</td><td>1</td><td>0</td></tr>\n",
              "\t<tr><td>0</td><td>0</td><td>0</td><td>0</td><td>1</td><td>0</td><td>1</td><td>1</td></tr>\n",
              "</tbody>\n",
              "</table>\n"
            ]
          },
          "metadata": {
            "tags": []
          }
        }
      ]
    },
    {
      "cell_type": "code",
      "metadata": {
        "id": "T3JFPFALkMe8",
        "outputId": "3dc84744-af7e-405c-a87b-c32854ad88af",
        "colab": {
          "base_uri": "https://localhost:8080/",
          "height": 344
        }
      },
      "source": [
        "pop"
      ],
      "execution_count": 64,
      "outputs": [
        {
          "output_type": "display_data",
          "data": {
            "text/plain": [
              "      [,1] [,2] [,3] [,4] [,5] [,6] [,7] [,8]\n",
              " [1,] 0    0    1    1    1    0    0    0   \n",
              " [2,] 1    0    1    0    0    1    0    0   \n",
              " [3,] 1    1    0    0    0    1    0    0   \n",
              " [4,] 1    1    0    1    1    0    0    1   \n",
              " [5,] 1    1    0    1    0    0    0    1   \n",
              " [6,] 0    0    0    0    0    0    0    1   \n",
              " [7,] 1    1    1    1    1    0    1    0   \n",
              " [8,] 1    0    1    1    0    0    1    0   \n",
              " [9,] 1    0    1    1    1    1    1    0   \n",
              "[10,] 0    1    0    0    1    0    1    1   "
            ],
            "text/latex": "A matrix: 10 × 8 of type dbl\n\\begin{tabular}{llllllll}\n\t 0 & 0 & 1 & 1 & 1 & 0 & 0 & 0\\\\\n\t 1 & 0 & 1 & 0 & 0 & 1 & 0 & 0\\\\\n\t 1 & 1 & 0 & 0 & 0 & 1 & 0 & 0\\\\\n\t 1 & 1 & 0 & 1 & 1 & 0 & 0 & 1\\\\\n\t 1 & 1 & 0 & 1 & 0 & 0 & 0 & 1\\\\\n\t 0 & 0 & 0 & 0 & 0 & 0 & 0 & 1\\\\\n\t 1 & 1 & 1 & 1 & 1 & 0 & 1 & 0\\\\\n\t 1 & 0 & 1 & 1 & 0 & 0 & 1 & 0\\\\\n\t 1 & 0 & 1 & 1 & 1 & 1 & 1 & 0\\\\\n\t 0 & 1 & 0 & 0 & 1 & 0 & 1 & 1\\\\\n\\end{tabular}\n",
            "text/markdown": "\nA matrix: 10 × 8 of type dbl\n\n| 0 | 0 | 1 | 1 | 1 | 0 | 0 | 0 |\n| 1 | 0 | 1 | 0 | 0 | 1 | 0 | 0 |\n| 1 | 1 | 0 | 0 | 0 | 1 | 0 | 0 |\n| 1 | 1 | 0 | 1 | 1 | 0 | 0 | 1 |\n| 1 | 1 | 0 | 1 | 0 | 0 | 0 | 1 |\n| 0 | 0 | 0 | 0 | 0 | 0 | 0 | 1 |\n| 1 | 1 | 1 | 1 | 1 | 0 | 1 | 0 |\n| 1 | 0 | 1 | 1 | 0 | 0 | 1 | 0 |\n| 1 | 0 | 1 | 1 | 1 | 1 | 1 | 0 |\n| 0 | 1 | 0 | 0 | 1 | 0 | 1 | 1 |\n\n",
            "text/html": [
              "<table class=\"dataframe\">\n",
              "<caption>A matrix: 10 × 8 of type dbl</caption>\n",
              "<tbody>\n",
              "\t<tr><td>0</td><td>0</td><td>1</td><td>1</td><td>1</td><td>0</td><td>0</td><td>0</td></tr>\n",
              "\t<tr><td>1</td><td>0</td><td>1</td><td>0</td><td>0</td><td>1</td><td>0</td><td>0</td></tr>\n",
              "\t<tr><td>1</td><td>1</td><td>0</td><td>0</td><td>0</td><td>1</td><td>0</td><td>0</td></tr>\n",
              "\t<tr><td>1</td><td>1</td><td>0</td><td>1</td><td>1</td><td>0</td><td>0</td><td>1</td></tr>\n",
              "\t<tr><td>1</td><td>1</td><td>0</td><td>1</td><td>0</td><td>0</td><td>0</td><td>1</td></tr>\n",
              "\t<tr><td>0</td><td>0</td><td>0</td><td>0</td><td>0</td><td>0</td><td>0</td><td>1</td></tr>\n",
              "\t<tr><td>1</td><td>1</td><td>1</td><td>1</td><td>1</td><td>0</td><td>1</td><td>0</td></tr>\n",
              "\t<tr><td>1</td><td>0</td><td>1</td><td>1</td><td>0</td><td>0</td><td>1</td><td>0</td></tr>\n",
              "\t<tr><td>1</td><td>0</td><td>1</td><td>1</td><td>1</td><td>1</td><td>1</td><td>0</td></tr>\n",
              "\t<tr><td>0</td><td>1</td><td>0</td><td>0</td><td>1</td><td>0</td><td>1</td><td>1</td></tr>\n",
              "</tbody>\n",
              "</table>\n"
            ]
          },
          "metadata": {
            "tags": []
          }
        }
      ]
    },
    {
      "cell_type": "code",
      "metadata": {
        "id": "udUSNS8IR4iX"
      },
      "source": [
        "mutacion_uniforme = function(pop, pm) {\n",
        "\n",
        "    hijos = matrix(nrow = nrow(pop), ncol = ncol(pop))\n",
        "\n",
        "    for (i in 1:nrow(pop)) {\n",
        "\n",
        "        for (j in 1:ncol(pop)) {\n",
        "\n",
        "            rand = runif(1,0,1)\n",
        "            if (rand < pm) {\n",
        "\n",
        "                bit = pop[i,j]\n",
        "                hijos[i,j] = ifelse(bit == 0, 1, 0)\n",
        "            }\n",
        "            else {\n",
        "                \n",
        "                hijos[i,j] = pop[i,j]\n",
        "            }\n",
        "        }\n",
        "    }\n",
        "    return(hijos)\n",
        "}"
      ],
      "execution_count": 65,
      "outputs": []
    },
    {
      "cell_type": "code",
      "metadata": {
        "id": "Y846ujquStHj",
        "outputId": "e61222e9-925a-469c-d401-378af7e01925",
        "colab": {
          "base_uri": "https://localhost:8080/",
          "height": 344
        }
      },
      "source": [
        "mutacion_uniforme(pop, pm)"
      ],
      "execution_count": 66,
      "outputs": [
        {
          "output_type": "display_data",
          "data": {
            "text/plain": [
              "      [,1] [,2] [,3] [,4] [,5] [,6] [,7] [,8]\n",
              " [1,] 1    0    0    0    1    0    0    0   \n",
              " [2,] 1    1    1    0    1    1    1    1   \n",
              " [3,] 1    0    0    0    1    1    0    1   \n",
              " [4,] 1    1    1    1    0    1    0    0   \n",
              " [5,] 0    1    0    1    0    1    1    0   \n",
              " [6,] 1    1    1    1    1    1    1    1   \n",
              " [7,] 1    0    1    1    0    1    0    0   \n",
              " [8,] 0    0    1    1    1    1    1    0   \n",
              " [9,] 1    1    1    1    1    1    0    1   \n",
              "[10,] 1    1    0    1    1    1    1    0   "
            ],
            "text/latex": "A matrix: 10 × 8 of type dbl\n\\begin{tabular}{llllllll}\n\t 1 & 0 & 0 & 0 & 1 & 0 & 0 & 0\\\\\n\t 1 & 1 & 1 & 0 & 1 & 1 & 1 & 1\\\\\n\t 1 & 0 & 0 & 0 & 1 & 1 & 0 & 1\\\\\n\t 1 & 1 & 1 & 1 & 0 & 1 & 0 & 0\\\\\n\t 0 & 1 & 0 & 1 & 0 & 1 & 1 & 0\\\\\n\t 1 & 1 & 1 & 1 & 1 & 1 & 1 & 1\\\\\n\t 1 & 0 & 1 & 1 & 0 & 1 & 0 & 0\\\\\n\t 0 & 0 & 1 & 1 & 1 & 1 & 1 & 0\\\\\n\t 1 & 1 & 1 & 1 & 1 & 1 & 0 & 1\\\\\n\t 1 & 1 & 0 & 1 & 1 & 1 & 1 & 0\\\\\n\\end{tabular}\n",
            "text/markdown": "\nA matrix: 10 × 8 of type dbl\n\n| 1 | 0 | 0 | 0 | 1 | 0 | 0 | 0 |\n| 1 | 1 | 1 | 0 | 1 | 1 | 1 | 1 |\n| 1 | 0 | 0 | 0 | 1 | 1 | 0 | 1 |\n| 1 | 1 | 1 | 1 | 0 | 1 | 0 | 0 |\n| 0 | 1 | 0 | 1 | 0 | 1 | 1 | 0 |\n| 1 | 1 | 1 | 1 | 1 | 1 | 1 | 1 |\n| 1 | 0 | 1 | 1 | 0 | 1 | 0 | 0 |\n| 0 | 0 | 1 | 1 | 1 | 1 | 1 | 0 |\n| 1 | 1 | 1 | 1 | 1 | 1 | 0 | 1 |\n| 1 | 1 | 0 | 1 | 1 | 1 | 1 | 0 |\n\n",
            "text/html": [
              "<table class=\"dataframe\">\n",
              "<caption>A matrix: 10 × 8 of type dbl</caption>\n",
              "<tbody>\n",
              "\t<tr><td>1</td><td>0</td><td>0</td><td>0</td><td>1</td><td>0</td><td>0</td><td>0</td></tr>\n",
              "\t<tr><td>1</td><td>1</td><td>1</td><td>0</td><td>1</td><td>1</td><td>1</td><td>1</td></tr>\n",
              "\t<tr><td>1</td><td>0</td><td>0</td><td>0</td><td>1</td><td>1</td><td>0</td><td>1</td></tr>\n",
              "\t<tr><td>1</td><td>1</td><td>1</td><td>1</td><td>0</td><td>1</td><td>0</td><td>0</td></tr>\n",
              "\t<tr><td>0</td><td>1</td><td>0</td><td>1</td><td>0</td><td>1</td><td>1</td><td>0</td></tr>\n",
              "\t<tr><td>1</td><td>1</td><td>1</td><td>1</td><td>1</td><td>1</td><td>1</td><td>1</td></tr>\n",
              "\t<tr><td>1</td><td>0</td><td>1</td><td>1</td><td>0</td><td>1</td><td>0</td><td>0</td></tr>\n",
              "\t<tr><td>0</td><td>0</td><td>1</td><td>1</td><td>1</td><td>1</td><td>1</td><td>0</td></tr>\n",
              "\t<tr><td>1</td><td>1</td><td>1</td><td>1</td><td>1</td><td>1</td><td>0</td><td>1</td></tr>\n",
              "\t<tr><td>1</td><td>1</td><td>0</td><td>1</td><td>1</td><td>1</td><td>1</td><td>0</td></tr>\n",
              "</tbody>\n",
              "</table>\n"
            ]
          },
          "metadata": {
            "tags": []
          }
        }
      ]
    },
    {
      "cell_type": "code",
      "metadata": {
        "id": "mWh6dRsLSvgg"
      },
      "source": [
        "algoritmo_genetico = function(num_ind, generaciones, bits, pc, pm) {\n",
        "\n",
        "    # crear nueva población\n",
        "    pop = crear_poblacion(num_ind, bits, pool)\n",
        "\n",
        "    # obtener fitness \n",
        "    fitness = obtener_fitness(pop)\n",
        "\n",
        "    # guardar registro de mejor solución actual \n",
        "    mejor_ind = numeric(length = generaciones)\n",
        "    indice = which.max(fitness)\n",
        "    mejor_ind[1] = binario_a_entero(pop[indice, ])\n",
        "    mejor_fitness = numeric(length = generaciones)\n",
        "    mejor_fitness[1] = fitness[indice]\n",
        "\n",
        "    # operadores genéticos\n",
        "    for (i in 2:generaciones) {\n",
        "\n",
        "        # seleccionar los padres que se cruzarán \n",
        "        padres = seleccion_proporcional(pop, fitness)\n",
        "\n",
        "        # cruzar padres para generar hijos\n",
        "        hijos = cruzamiento_un_punto(padres, pc)\n",
        "\n",
        "        # mutar hijos\n",
        "        hijos = mutacion_un_punto(hijos, pm)\n",
        "\n",
        "        # actualizar población\n",
        "        pop = hijos\n",
        "\n",
        "        # obtener fitness \n",
        "        fitness = obtener_fitness(pop)\n",
        "\n",
        "        # guardar registro de mejor solución actual \n",
        "        indice = which.max(fitness)\n",
        "        mejor_ind[i] = binario_a_entero(pop[indice, ])\n",
        "        mejor_fitness[i] = fitness[indice]\n",
        "\n",
        "    }\n",
        "\n",
        "    return(list(mejor_ind = mejor_ind, mejor_fitness = mejor_fitness))\n",
        "}"
      ],
      "execution_count": 81,
      "outputs": []
    },
    {
      "cell_type": "code",
      "metadata": {
        "id": "yEsvn-zDmhuM"
      },
      "source": [
        "num_ind = 10\n",
        "generaciones = 30\n",
        "bits = bits\n",
        "pc = 0.5\n",
        "pm = 0.2\n",
        "sol = algoritmo_genetico(num_ind, generaciones, bits, pc, pm)"
      ],
      "execution_count": 140,
      "outputs": []
    },
    {
      "cell_type": "code",
      "metadata": {
        "id": "8p0Fxf0Em1_C",
        "outputId": "b98342ab-0f01-4f42-f0fa-5de31fa0aaa1",
        "colab": {
          "base_uri": "https://localhost:8080/",
          "height": 437
        }
      },
      "source": [
        "plot(sol$mejor_fitness, ylim = c(0.90,1))"
      ],
      "execution_count": 141,
      "outputs": [
        {
          "output_type": "display_data",
          "data": {
            "image/png": "[encoded data removed]",
            "text/plain": [
              "plot without title"
            ]
          },
          "metadata": {
            "tags": [],
            "image/png": {
              "width": 420,
              "height": 420
            }
          }
        }
      ]
    },
    {
      "cell_type": "code",
      "metadata": {
        "id": "x6FQ_OlrnvDl",
        "outputId": "62f6d1f5-cc6a-43fa-a642-8bf80aa4c107",
        "colab": {
          "base_uri": "https://localhost:8080/",
          "height": 34
        }
      },
      "source": [
        "sol$mejor_fitness"
      ],
      "execution_count": 102,
      "outputs": [
        {
          "output_type": "display_data",
          "data": {
            "text/plain": [
              "[1] 0.9831055 0.9831055"
            ],
            "text/latex": "\\begin{enumerate*}\n\\item 0.983105487431216\n\\item 0.983105487431216\n\\end{enumerate*}\n",
            "text/markdown": "1. 0.983105487431216\n2. 0.983105487431216\n\n\n",
            "text/html": [
              "<style>\n",
              ".list-inline {list-style: none; margin:0; padding: 0}\n",
              ".list-inline>li {display: inline-block}\n",
              ".list-inline>li:not(:last-child)::after {content: \"\\00b7\"; padding: 0 .5ex}\n",
              "</style>\n",
              "<ol class=list-inline><li>0.983105487431216</li><li>0.983105487431216</li></ol>\n"
            ]
          },
          "metadata": {
            "tags": []
          }
        }
      ]
    },
    {
      "cell_type": "code",
      "metadata": {
        "id": "_r7vJt7bocmv"
      },
      "source": [
        ""
      ],
      "execution_count": null,
      "outputs": []
    }
  ]
}